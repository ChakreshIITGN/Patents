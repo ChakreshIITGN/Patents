{
 "cells": [
  {
   "cell_type": "code",
   "execution_count": 1,
   "id": "92abecdb",
   "metadata": {},
   "outputs": [
    {
     "name": "stderr",
     "output_type": "stream",
     "text": [
      "<frozen importlib._bootstrap>:228: RuntimeWarning: scipy._lib.messagestream.MessageStream size changed, may indicate binary incompatibility. Expected 56 from C header, got 64 from PyObject\n"
     ]
    }
   ],
   "source": [
    "import networkx as nx \n",
    "import numpy as np\n",
    "import seaborn as sns \n",
    "import matplotlib.pyplot as plt \n",
    "from tqdm import tqdm \n",
    "import pandas as pd\n",
    "import json\n",
    "\n",
    "from collections import defaultdict\n",
    "%matplotlib inline \n",
    "\n",
    "\n",
    "def lineplot(x,y,xlabel,ylabel,scale=True):\n",
    "    \n",
    "    fig = plt.figure(figsize=(4,3))\n",
    "    \n",
    "    ax = fig.add_subplot(111)\n",
    "    \n",
    "    sns.lineplot(x=x,y=y,ax=ax)\n",
    "    \n",
    "    ax.set_xlabel(xlabel)\n",
    "    ax.set_ylabel(ylabel)\n",
    "    if scale:\n",
    "        \n",
    "        ax.set_yscale('log')\n",
    "    fig.tight_layout()\n",
    "    fig.show()\n",
    "    return ax"
   ]
  },
  {
   "cell_type": "code",
   "execution_count": 2,
   "id": "46d861a5",
   "metadata": {},
   "outputs": [],
   "source": [
    "#### Reading the files \n",
    "\n",
    "DF_epo_citations = pd.read_csv('data/Patents/EPO_citation_UK_withIPC_loc.csv', header=0,sep=',')\n",
    "DF_pct_citations = pd.read_csv('data/Patents/PCT_citation_UK_withIPC_loc.csv', header=0,sep=',',index_col=0)\n",
    "UK_patents_cited = pd.read_csv('data/Patents/UK_Patents_cited_wIPC.csv', header=0,sep=',')"
   ]
  },
  {
   "cell_type": "code",
   "execution_count": 3,
   "id": "c4675517",
   "metadata": {},
   "outputs": [],
   "source": [
    "### sorting the files by their application years and only considering the citations that are from\n",
    "### within the UK both citing and the cited \n",
    "\n",
    "DF_epo_citations = DF_epo_citations.sort_values(by = ['app_year'])\n",
    "DF_epo_citations = DF_epo_citations[DF_epo_citations['ctry_code']=='GB']\n",
    "\n",
    "\n",
    "DF_pct_citations = DF_pct_citations.sort_values(by= ['app_year'])\n",
    "DF_pct_citations = DF_pct_citations[DF_pct_citations['ctry_code']=='GB']"
   ]
  },
  {
   "cell_type": "code",
   "execution_count": 4,
   "id": "59acd563",
   "metadata": {},
   "outputs": [
    {
     "data": {
      "text/plain": [
       "1.0"
      ]
     },
     "execution_count": 4,
     "metadata": {},
     "output_type": "execute_result"
    }
   ],
   "source": [
    "## checking if the app numbers are indeed EPO numbers\n",
    "\n",
    "len([i[:2] == 'EP' for i in DF_epo_citations.app_nbr.values])/len(DF_epo_citations.app_nbr.values) "
   ]
  },
  {
   "cell_type": "code",
   "execution_count": 5,
   "id": "e13e1df8",
   "metadata": {},
   "outputs": [],
   "source": [
    "Edges_1 = []\n",
    "\n",
    "for i,j,k in zip(DF_epo_citations.Citing_app_nbr.values, DF_epo_citations.Cited_App_nbr.values,\\\n",
    "                 DF_epo_citations.app_year.values):\n",
    "    \n",
    "    Edges_1.append([i,j,k])"
   ]
  },
  {
   "cell_type": "code",
   "execution_count": 6,
   "id": "842861cf",
   "metadata": {},
   "outputs": [],
   "source": [
    "Edges_2 = []\n",
    "\n",
    "for i,j,k in zip(DF_pct_citations.Citing_app_nbr_EPO.values, DF_pct_citations.Cited_App_nbr_EPO.values,\\\n",
    "                DF_pct_citations.app_year.values):\n",
    "    \n",
    "    Edges_2.append([i,j,k])"
   ]
  },
  {
   "cell_type": "code",
   "execution_count": 7,
   "id": "a5b3c959",
   "metadata": {},
   "outputs": [
    {
     "data": {
      "text/plain": [
       "(40389, 32279, 8110)"
      ]
     },
     "execution_count": 7,
     "metadata": {},
     "output_type": "execute_result"
    }
   ],
   "source": [
    "All_Edges = Edges_1 + Edges_2\n",
    "\n",
    "len(All_Edges),len(Edges_1),len(Edges_2)"
   ]
  },
  {
   "cell_type": "code",
   "execution_count": 8,
   "id": "65141324",
   "metadata": {},
   "outputs": [
    {
     "name": "stdout",
     "output_type": "stream",
     "text": [
      " Number of unique edges in the patent citation network are --- 19767\n"
     ]
    }
   ],
   "source": [
    "#### checking for repeat edges \n",
    "\n",
    "edge_count = defaultdict(int)\n",
    "\n",
    "for i in All_Edges:\n",
    "    \n",
    "    i = [str(k) for k in i]\n",
    "    j = ','.join(i)\n",
    "    edge_count[j]+=1\n",
    "\n",
    "\n",
    "print(' Number of unique edges in the patent citation network are --- %d'%(len(edge_count)))"
   ]
  },
  {
   "cell_type": "code",
   "execution_count": 9,
   "id": "241f9911",
   "metadata": {},
   "outputs": [],
   "source": [
    "Clean_Edges = []\n",
    "\n",
    "for i in edge_count:\n",
    "    \n",
    "    Clean_Edges.append(i)"
   ]
  },
  {
   "cell_type": "code",
   "execution_count": 10,
   "id": "fe029f1d",
   "metadata": {},
   "outputs": [],
   "source": [
    "# with open('data/UK_patent_citations.csv', 'w') as f:\n",
    "    \n",
    "#     f.write('source,target,time\\n')\n",
    "    \n",
    "#     for i in tqdm(Clean_Edges):\n",
    "        \n",
    "        \n",
    "#         f.write(f'{i}\\n')"
   ]
  },
  {
   "cell_type": "code",
   "execution_count": 11,
   "id": "141aab31",
   "metadata": {},
   "outputs": [],
   "source": [
    "## Biotech: A61K35/[12-79], C07K(4, 14, 16, 17, 19),  C40B(10, 40/02-08, 50/06), G01N33/(53,54,55,57,68,74,76,78,88,92), G06F19/[10-18,20-24]\n",
    "\n",
    "codes1 = ['A01H01','A01H04','A01K067','A61K038','A61K039','A61K048','C02F03/34','C07G011','C07G013','C07G015','C12M0',\\\n",
    " 'C12N0', 'C12P0', 'C12Q0','G01N027/327', 'C40B010','C40B050/06',]\n",
    "    \n",
    "def create_code(input1,rng):\n",
    "    \n",
    "    codes = []\n",
    "    \n",
    "    for i in rng:\n",
    "        \n",
    "        codes.append(input1+'%d'%(i))\n",
    "    \n",
    "    return codes"
   ]
  },
  {
   "cell_type": "code",
   "execution_count": 12,
   "id": "75fa7b96",
   "metadata": {},
   "outputs": [],
   "source": [
    "codes2 = create_code('A61K035/',range(12,80))\n",
    "codes3 = create_code('C07K0',(4, 14, 16, 17, 19))\n",
    "codes4 = create_code('C40B040/0',range(2,9))\n",
    "codes5 = create_code('G01N033/',(53,54,55,57,68,74,76,78,88,92))\n",
    "codes6 = create_code('G06F019/',range(10,19))\n",
    "codes7 = create_code('G06F019/',range(20,25))\n",
    "\n",
    "codes = codes1+codes2+codes3+codes4+codes5+codes6+codes7\n",
    "\n",
    "codes.sort()\n",
    "Biotech_codes = codes"
   ]
  },
  {
   "cell_type": "code",
   "execution_count": 13,
   "id": "636507e6",
   "metadata": {},
   "outputs": [],
   "source": [
    "G = nx.DiGraph()\n",
    "\n",
    "for i in edge_count:\n",
    "    i = i.split(',')\n",
    "    G.add_edge(i[0],i[1])"
   ]
  },
  {
   "cell_type": "code",
   "execution_count": 14,
   "id": "369aeab9",
   "metadata": {},
   "outputs": [],
   "source": [
    "# G.edges()"
   ]
  },
  {
   "cell_type": "code",
   "execution_count": 15,
   "id": "599466e0",
   "metadata": {},
   "outputs": [
    {
     "data": {
      "image/png": "[encoded data removed]",
      "text/plain": [
       "<Figure size 400x400 with 1 Axes>"
      ]
     },
     "metadata": {},
     "output_type": "display_data"
    },
    {
     "data": {
      "image/png": "[encoded data removed]",
      "text/plain": [
       "<Figure size 400x400 with 1 Axes>"
      ]
     },
     "metadata": {},
     "output_type": "display_data"
    }
   ],
   "source": [
    "In_degree_dist = [j for i,j in dict(G.in_degree()).items()]\n",
    "\n",
    "Out_degree_dist = [j for i,j in dict(G.out_degree()).items()]\n",
    "\n",
    "def degree_dist(L):\n",
    "    \n",
    "    x,y = np.unique(L,return_counts=True)\n",
    "    \n",
    "    return x,y/sum(y)\n",
    "\n",
    "def ccdf(L):\n",
    "    \n",
    "    Ls = np.sort(np.unique(L))\n",
    "    \n",
    "    ccdf = np.zeros(len(Ls))\n",
    "    \n",
    "    for i,val in enumerate(Ls):\n",
    "        \n",
    "        ccdf[i] = np.sum(Ls>=val)/len(Ls)\n",
    "        \n",
    "    return Ls,ccdf\n",
    "\n",
    "k_i,P_ki = degree_dist(In_degree_dist)\n",
    "k_o,P_ko = degree_dist(Out_degree_dist)\n",
    "\n",
    "k_i,ccdf_ki = ccdf(In_degree_dist)\n",
    "k_o,ccdf_ko = ccdf(Out_degree_dist)\n",
    "\n",
    "plt.figure(figsize=(4,4))\n",
    "sns.scatterplot(x=k_i,y=P_ki,label='indegree')\n",
    "sns.scatterplot(x=k_o,y=P_ko,label='out degree')\n",
    "plt.xscale('log')\n",
    "plt.yscale('log')\n",
    "\n",
    "plt.xlabel('Degree (k)')\n",
    "plt.ylabel('P(k)')\n",
    "plt.tight_layout()\n",
    "plt.savefig('pdf_scatter.png',dpi=1000)\n",
    "\n",
    "\n",
    "plt.figure(figsize=(4,4))\n",
    "sns.lineplot(x=k_i,y=ccdf_ki,label='indegree')\n",
    "sns.lineplot(x=k_o,y=ccdf_ko,label='out degree')\n",
    "plt.xscale('log')\n",
    "plt.yscale('log')\n",
    "plt.xlabel('Degree (k)')\n",
    "plt.ylabel('P(k)')\n",
    "\n",
    "plt.tight_layout()\n",
    "plt.savefig('ccdf.png',dpi=1000)"
   ]
  },
  {
   "cell_type": "code",
   "execution_count": 16,
   "id": "be8667a6",
   "metadata": {},
   "outputs": [],
   "source": [
    "In_degree_nodes = G.in_degree()"
   ]
  },
  {
   "cell_type": "code",
   "execution_count": 17,
   "id": "29c70f4d",
   "metadata": {},
   "outputs": [
    {
     "data": {
      "text/plain": [
       "[('EP19870302620', 60),\n",
       " ('EP20030290754', 42),\n",
       " ('EP19910920852', 32),\n",
       " ('EP19830306636', 27),\n",
       " ('EP19840301996', 26),\n",
       " ('EP19790302978', 23),\n",
       " ('EP19940926320', 23),\n",
       " ('EP19820300416', 22),\n",
       " ('EP19870302296', 21),\n",
       " ('EP19900915148', 21)]"
      ]
     },
     "execution_count": 17,
     "metadata": {},
     "output_type": "execute_result"
    }
   ],
   "source": [
    "In_degree_nodes = sorted(dict(In_degree_nodes).items(),key=lambda x:x[1],reverse=True)\n",
    "\n",
    "In_degree_nodes[:10]"
   ]
  },
  {
   "cell_type": "code",
   "execution_count": 18,
   "id": "60b39b29",
   "metadata": {},
   "outputs": [],
   "source": [
    "patent_ipcs = {}\n",
    "\n",
    "with open('epo_to_IPCs.json','r') as f:\n",
    "    \n",
    "    patent_ipcs = json.load(f)\n",
    "    \n",
    "\n",
    "for i in patent_ipcs:\n",
    "    \n",
    "    patent_ipcs[i] = patent_ipcs[i].strip()\n",
    "    patent_ipcs[i] = patent_ipcs[i].replace(' ','0')\n",
    "    \n",
    "    new_ipcs = [j+'0' if len(j)==4 else j for j in patent_ipcs[i].split(',')]\n",
    "    \n",
    "    patent_ipcs[i] = ','.join(new_ipcs)\n",
    "#     if len(patent_ipcs[i]) == 4:\n",
    "#         patent_ipcs[i] = patent_ipcs[i]+'0'\n",
    "        \n",
    "#     patent_ipcs[i] = [j+'0' for j in patent_ipcs[i].split(',') if len(j)==4]\n",
    "#     patent_ipcs[i] = ','.join(patent_ipcs[i])"
   ]
  },
  {
   "cell_type": "code",
   "execution_count": 19,
   "id": "07083b44",
   "metadata": {},
   "outputs": [],
   "source": [
    "def check_If_ipc(ipc,Biotech_codes):\n",
    "    \n",
    "    for bipc in Biotech_codes:\n",
    "        \n",
    "        if (ipc == bipc) or (ipc in bipc):\n",
    "            \n",
    "            return True\n",
    "    "
   ]
  },
  {
   "cell_type": "code",
   "execution_count": 20,
   "id": "a874592f",
   "metadata": {},
   "outputs": [
    {
     "name": "stderr",
     "output_type": "stream",
     "text": [
      "100%|████████████████████████████████████████████████████████████████████████████████████████████████████████████████████████| 25857/25857 [00:00<00:00, 64803.55it/s]\n"
     ]
    }
   ],
   "source": [
    "#### old method -- matching the entire string -- not correct completely \n",
    "\n",
    "# biotech_patents = []\n",
    "\n",
    "# for i in tqdm(G.nodes()):\n",
    "    \n",
    "#     nodes_ipc = [j for j in patent_ipcs[i].split(',')]\n",
    "    \n",
    "#     if len(set(nodes_ipc).intersection(set(Biotech_codes))) > 0:\n",
    "        \n",
    "#         biotech_patents.append((i,G.in_degree(i)))\n",
    "        \n",
    "        \n",
    "### new method \n",
    "\n",
    "biotech_patents = []\n",
    "\n",
    "for i in tqdm(G.nodes()):\n",
    "    \n",
    "    nodes_ipc = patent_ipcs[i].split(',')\n",
    "    \n",
    "    for nipc in nodes_ipc:\n",
    "        \n",
    "        flag = check_If_ipc(nipc,Biotech_codes)\n",
    "        \n",
    "        if flag:\n",
    "            \n",
    "            biotech_patents.append((i,G.in_degree(i)))\n",
    "                \n"
   ]
  },
  {
   "cell_type": "code",
   "execution_count": 21,
   "id": "3da71dc6",
   "metadata": {},
   "outputs": [
    {
     "data": {
      "text/plain": [
       "418"
      ]
     },
     "execution_count": 21,
     "metadata": {},
     "output_type": "execute_result"
    }
   ],
   "source": [
    "len(set(biotech_patents))"
   ]
  },
  {
   "cell_type": "code",
   "execution_count": 22,
   "id": "69f10ba5",
   "metadata": {},
   "outputs": [],
   "source": [
    "biotech_patents = list(set(biotech_patents))"
   ]
  },
  {
   "cell_type": "code",
   "execution_count": 23,
   "id": "cdc7d330",
   "metadata": {},
   "outputs": [
    {
     "data": {
      "text/plain": [
       "121"
      ]
     },
     "execution_count": 23,
     "metadata": {},
     "output_type": "execute_result"
    }
   ],
   "source": [
    "len(set(Biotech_codes))"
   ]
  },
  {
   "cell_type": "code",
   "execution_count": 24,
   "id": "42275a0d",
   "metadata": {},
   "outputs": [
    {
     "data": {
      "text/plain": [
       "25857"
      ]
     },
     "execution_count": 24,
     "metadata": {},
     "output_type": "execute_result"
    }
   ],
   "source": [
    "len(G.nodes())"
   ]
  },
  {
   "cell_type": "code",
   "execution_count": 25,
   "id": "f104f305",
   "metadata": {},
   "outputs": [],
   "source": [
    "biotech_patents = sorted(biotech_patents,key=lambda x:x[1],reverse=True)"
   ]
  },
  {
   "cell_type": "code",
   "execution_count": 26,
   "id": "3b374f92",
   "metadata": {},
   "outputs": [],
   "source": [
    "import regex as re"
   ]
  },
  {
   "cell_type": "code",
   "execution_count": 27,
   "id": "591f8d01",
   "metadata": {},
   "outputs": [],
   "source": [
    "biotech_patents = [i for i in biotech_patents if i[1]>0]\n",
    "biotech_patents_C = [i[0] for i in biotech_patents]"
   ]
  },
  {
   "cell_type": "code",
   "execution_count": 28,
   "id": "33122e1c",
   "metadata": {},
   "outputs": [],
   "source": [
    "biotech_patents_new_df = pd.read_csv('data/biotec_IPC.csv',header=0,sep=',')"
   ]
  },
  {
   "cell_type": "code",
   "execution_count": 29,
   "id": "78607ac7",
   "metadata": {},
   "outputs": [],
   "source": [
    "biotech_patents_M = biotech_patents_new_df.app_nbr.values\n",
    "biotech_patents_new = biotech_patents_new_df.app_nbr.values"
   ]
  },
  {
   "cell_type": "code",
   "execution_count": 30,
   "id": "e5a8272e",
   "metadata": {},
   "outputs": [],
   "source": [
    "diff = list(set(biotech_patents_M) - set(biotech_patents_C))"
   ]
  },
  {
   "cell_type": "code",
   "execution_count": 31,
   "id": "8cca9ba0",
   "metadata": {},
   "outputs": [],
   "source": [
    "# list(map(lambda x: len(set(patent_ipcs[x].split(',')).intersection(set(Biotech_codes))), diff))"
   ]
  },
  {
   "cell_type": "code",
   "execution_count": 32,
   "id": "e131a514",
   "metadata": {},
   "outputs": [
    {
     "data": {
      "text/plain": [
       "'C12Q0,C12Q001/04,C12Q001/48,C12Q001/66'"
      ]
     },
     "execution_count": 32,
     "metadata": {},
     "output_type": "execute_result"
    }
   ],
   "source": [
    "patent_ipcs[biotech_patents[0][0]]"
   ]
  },
  {
   "cell_type": "code",
   "execution_count": 33,
   "id": "4a03c465",
   "metadata": {},
   "outputs": [
    {
     "data": {
      "text/plain": [
       "'A01K067/027,A61K031/4985,A61K031/517,A61K031/519,A61K038/00,A61K038/16,A61K038/43,A61K038/45,A61K038/46,A61K038/53,A61K045/00,A61P005/08,A61P005/10,A61P007/12,A61P009/04,A61P009/10,A61P009/12,A61P013/00,A61P015/00,A61P015/16,A61P021/00,A61P043/00,C07D0403/04,C07D0405/14,C07D0471/14,C07D0487/04,C12N005/10,C12N009/16,C12N015/09,C12N015/85,C12Q001/02,C12Q001/44,C12Q001/68,G01N033/15,G01N033/50'"
      ]
     },
     "execution_count": 33,
     "metadata": {},
     "output_type": "execute_result"
    }
   ],
   "source": [
    "patent_ipcs[diff[0]]"
   ]
  },
  {
   "cell_type": "code",
   "execution_count": 34,
   "id": "0c162a2f",
   "metadata": {},
   "outputs": [
    {
     "data": {
      "text/plain": [
       "484"
      ]
     },
     "execution_count": 34,
     "metadata": {},
     "output_type": "execute_result"
    }
   ],
   "source": [
    "len(diff)"
   ]
  },
  {
   "cell_type": "code",
   "execution_count": 35,
   "id": "3510cb08",
   "metadata": {},
   "outputs": [
    {
     "data": {
      "text/plain": [
       "(627, 198)"
      ]
     },
     "execution_count": 35,
     "metadata": {},
     "output_type": "execute_result"
    }
   ],
   "source": [
    "len(biotech_patents_M),len(biotech_patents_C)"
   ]
  },
  {
   "cell_type": "code",
   "execution_count": 36,
   "id": "3016c915",
   "metadata": {},
   "outputs": [],
   "source": [
    "diff_cm = list(set(biotech_patents_C)-set(biotech_patents_M))"
   ]
  },
  {
   "cell_type": "code",
   "execution_count": 37,
   "id": "0531998a",
   "metadata": {},
   "outputs": [
    {
     "data": {
      "text/plain": [
       "'A61K0,A61K008/41,A61K008/49,A61K008/73,A61Q005/02,A61Q005/12,C07D0213/89'"
      ]
     },
     "execution_count": 37,
     "metadata": {},
     "output_type": "execute_result"
    }
   ],
   "source": [
    "patent_ipcs[diff_cm[0]]"
   ]
  },
  {
   "cell_type": "code",
   "execution_count": 38,
   "id": "d215b7f1",
   "metadata": {},
   "outputs": [
    {
     "data": {
      "text/plain": [
       "1"
      ]
     },
     "execution_count": 38,
     "metadata": {},
     "output_type": "execute_result"
    }
   ],
   "source": [
    "G.in_degree(diff_cm[0])"
   ]
  },
  {
   "cell_type": "code",
   "execution_count": 39,
   "id": "b64b8277",
   "metadata": {},
   "outputs": [
    {
     "data": {
      "text/plain": [
       "55"
      ]
     },
     "execution_count": 39,
     "metadata": {},
     "output_type": "execute_result"
    }
   ],
   "source": [
    "len(diff_cm)"
   ]
  },
  {
   "cell_type": "code",
   "execution_count": 40,
   "id": "0e25a4a7",
   "metadata": {},
   "outputs": [
    {
     "data": {
      "text/plain": [
       "'EP19790301208'"
      ]
     },
     "execution_count": 40,
     "metadata": {},
     "output_type": "execute_result"
    }
   ],
   "source": [
    "diff_cm[0]"
   ]
  },
  {
   "cell_type": "code",
   "execution_count": 41,
   "id": "02c397af",
   "metadata": {},
   "outputs": [
    {
     "data": {
      "text/plain": [
       "'A61K0,A61K008/41,A61K008/49,A61K008/73,A61Q005/02,A61Q005/12,C07D0213/89'"
      ]
     },
     "execution_count": 41,
     "metadata": {},
     "output_type": "execute_result"
    }
   ],
   "source": [
    "patent_ipcs[diff_cm[0]]"
   ]
  },
  {
   "cell_type": "code",
   "execution_count": 42,
   "id": "fd69cf6f",
   "metadata": {},
   "outputs": [
    {
     "data": {
      "text/plain": [
       "198"
      ]
     },
     "execution_count": 42,
     "metadata": {},
     "output_type": "execute_result"
    }
   ],
   "source": [
    "len(biotech_patents_C)"
   ]
  },
  {
   "cell_type": "code",
   "execution_count": 43,
   "id": "afca7a1b",
   "metadata": {},
   "outputs": [
    {
     "data": {
      "text/plain": [
       "143"
      ]
     },
     "execution_count": 43,
     "metadata": {},
     "output_type": "execute_result"
    }
   ],
   "source": [
    "len(set(biotech_patents_C).intersection(set(biotech_patents_M)))"
   ]
  },
  {
   "cell_type": "code",
   "execution_count": 44,
   "id": "66086bd8",
   "metadata": {},
   "outputs": [],
   "source": [
    "with open('epo_to_IPCs.json','r') as f:\n",
    "    \n",
    "    patent_ipcs_0 = json.load(f)"
   ]
  },
  {
   "cell_type": "code",
   "execution_count": 45,
   "id": "3b02dd66",
   "metadata": {},
   "outputs": [
    {
     "data": {
      "text/plain": [
       "'A61K,A61K008/41,A61K008/49,A61K008/73,A61Q005/02,A61Q005/12,C07D 213/89'"
      ]
     },
     "execution_count": 45,
     "metadata": {},
     "output_type": "execute_result"
    }
   ],
   "source": [
    "patent_ipcs_0[diff_cm[0]]"
   ]
  },
  {
   "cell_type": "code",
   "execution_count": 46,
   "id": "8c8c2e20",
   "metadata": {},
   "outputs": [],
   "source": [
    "biotech_patents = [(i,G.in_degree(i)) for i in biotech_patents_new]"
   ]
  },
  {
   "cell_type": "code",
   "execution_count": 47,
   "id": "96fb5410",
   "metadata": {},
   "outputs": [],
   "source": [
    "biotech_patents = sorted(biotech_patents,key=lambda x:x[1],reverse=True)"
   ]
  },
  {
   "cell_type": "code",
   "execution_count": 48,
   "id": "8c8b4738",
   "metadata": {},
   "outputs": [
    {
     "data": {
      "text/plain": [
       "[('EP19870302620', 60),\n",
       " ('EP19840301996', 26),\n",
       " ('EP19820300416', 22),\n",
       " ('EP19880310000', 17),\n",
       " ('EP19870307668', 15),\n",
       " ('EP19860303039', 13),\n",
       " ('EP19870305732', 13),\n",
       " ('EP19880303157', 12),\n",
       " ('EP19970947810', 11),\n",
       " ('EP19790301773', 10)]"
      ]
     },
     "execution_count": 48,
     "metadata": {},
     "output_type": "execute_result"
    }
   ],
   "source": [
    "biotech_patents[:10]"
   ]
  },
  {
   "cell_type": "code",
   "execution_count": 49,
   "id": "19a263ca",
   "metadata": {},
   "outputs": [
    {
     "data": {
      "text/plain": [
       "'A61K039/395,C07K014/005,C07K014/195,C07K016/00,C07K016/46,C07K019/00,C12N005/00,C12N005/10,C12N015/00,C12N015/09,C12P021/00,C12P021/02,C12P021/08,C12R001/91'"
      ]
     },
     "execution_count": 49,
     "metadata": {},
     "output_type": "execute_result"
    }
   ],
   "source": [
    "patent_ipcs[biotech_patents[0][0]]"
   ]
  },
  {
   "cell_type": "code",
   "execution_count": 50,
   "id": "17723503",
   "metadata": {},
   "outputs": [],
   "source": [
    "biotech_patents_nodes = [i[0] for i in biotech_patents]"
   ]
  },
  {
   "cell_type": "code",
   "execution_count": 51,
   "id": "b4af864c",
   "metadata": {},
   "outputs": [
    {
     "data": {
      "text/plain": [
       "0.024248752755540087"
      ]
     },
     "execution_count": 51,
     "metadata": {},
     "output_type": "execute_result"
    }
   ],
   "source": [
    "len(biotech_patents)/len(G)"
   ]
  },
  {
   "cell_type": "code",
   "execution_count": 52,
   "id": "d04e8659",
   "metadata": {},
   "outputs": [],
   "source": [
    "G_biotech = nx.subgraph(G,biotech_patents_nodes)"
   ]
  },
  {
   "cell_type": "code",
   "execution_count": 53,
   "id": "802add5a",
   "metadata": {},
   "outputs": [],
   "source": [
    "node_color = ['red' if n in biotech_patents_nodes else 'black' for n in G.nodes]"
   ]
  },
  {
   "cell_type": "code",
   "execution_count": 54,
   "id": "4eebad02",
   "metadata": {},
   "outputs": [],
   "source": [
    "with open('nodes_file.csv','w') as f:\n",
    "    \n",
    "    for i,j in zip(G.nodes,node_color):\n",
    "        f.write(f'{i},{j}\\n')"
   ]
  },
  {
   "cell_type": "code",
   "execution_count": 55,
   "id": "4ebeb694",
   "metadata": {},
   "outputs": [],
   "source": [
    "cit_df = pd.read_csv('data/UK_patent_citations.csv',header=0,sep=',')"
   ]
  },
  {
   "cell_type": "code",
   "execution_count": 56,
   "id": "ef65dd13",
   "metadata": {},
   "outputs": [],
   "source": [
    "cit_df_grouped = cit_df.groupby('time')"
   ]
  },
  {
   "cell_type": "code",
   "execution_count": 57,
   "id": "3cdc31b1",
   "metadata": {},
   "outputs": [],
   "source": [
    "x,y = list(cit_df_grouped.groups.keys()), cit_df_grouped.size()"
   ]
  },
  {
   "cell_type": "code",
   "execution_count": 58,
   "id": "ca38539e",
   "metadata": {},
   "outputs": [
    {
     "name": "stderr",
     "output_type": "stream",
     "text": [
      "/var/folders/nh/5jq2mlf15kvc6qs_xh074tn80000gn/T/ipykernel_55313/3622891455.py:27: UserWarning: Matplotlib is currently using module://matplotlib_inline.backend_inline, which is a non-GUI backend, so cannot show the figure.\n",
      "  fig.show()\n"
     ]
    },
    {
     "data": {
      "text/plain": [
       "<Axes: xlabel='Years', ylabel='Citations'>"
      ]
     },
     "execution_count": 58,
     "metadata": {},
     "output_type": "execute_result"
    },
    {
     "data": {
      "image/png": "[encoded data removed]",
      "text/plain": [
       "<Figure size 400x300 with 1 Axes>"
      ]
     },
     "metadata": {},
     "output_type": "display_data"
    }
   ],
   "source": [
    "lineplot(x[:-1],y[:-1],'Years','Citations',scale=False)"
   ]
  },
  {
   "cell_type": "code",
   "execution_count": 59,
   "id": "c8c9011a",
   "metadata": {},
   "outputs": [
    {
     "data": {
      "text/plain": [
       "[('EP19870302620', 60),\n",
       " ('EP19840301996', 26),\n",
       " ('EP19820300416', 22),\n",
       " ('EP19880310000', 17),\n",
       " ('EP19870307668', 15),\n",
       " ('EP19860303039', 13),\n",
       " ('EP19870305732', 13),\n",
       " ('EP19880303157', 12),\n",
       " ('EP19970947810', 11),\n",
       " ('EP19790301773', 10)]"
      ]
     },
     "execution_count": 59,
     "metadata": {},
     "output_type": "execute_result"
    }
   ],
   "source": [
    "biotech_patents[:10]"
   ]
  },
  {
   "cell_type": "code",
   "execution_count": 60,
   "id": "c6a2a75a",
   "metadata": {},
   "outputs": [],
   "source": [
    "ipc_count = defaultdict(int)\n",
    "\n",
    "for i in patent_ipcs:\n",
    "    for j in patent_ipcs[i].split(','):\n",
    "        \n",
    "        ipc_count[j]+=1\n",
    "        \n",
    "ipc_count = dict(ipc_count)"
   ]
  },
  {
   "cell_type": "code",
   "execution_count": 61,
   "id": "9e9a51c2",
   "metadata": {},
   "outputs": [],
   "source": [
    "N = sum(ipc_count.values())\n",
    "p_ipc = {i:ipc_count[i]/N for i in ipc_count}"
   ]
  },
  {
   "cell_type": "code",
   "execution_count": 62,
   "id": "bdce4065",
   "metadata": {},
   "outputs": [],
   "source": [
    "def get_shannon_entropy(pat,p_ipc):\n",
    "    \n",
    "    ipcs = patent_ipcs[pat].split(',')\n",
    "    \n",
    "    return -sum([p_ipc[i]*np.log(p_ipc[i]) for i in ipcs])"
   ]
  },
  {
   "cell_type": "code",
   "execution_count": 63,
   "id": "c6c7d037",
   "metadata": {},
   "outputs": [],
   "source": [
    "patents_entropy = {i:get_shannon_entropy(i,p_ipc) for i in patent_ipcs}"
   ]
  },
  {
   "cell_type": "code",
   "execution_count": 64,
   "id": "9821088d",
   "metadata": {},
   "outputs": [],
   "source": [
    "patents_entropy = {i:j for i,j in sorted(patents_entropy.items(),key=lambda x:x[1],reverse=True)}"
   ]
  },
  {
   "cell_type": "code",
   "execution_count": 65,
   "id": "20a16b73",
   "metadata": {},
   "outputs": [],
   "source": [
    "patents_entropy_val = patents_entropy.values()"
   ]
  },
  {
   "cell_type": "code",
   "execution_count": 66,
   "id": "b3b9368c",
   "metadata": {},
   "outputs": [
    {
     "data": {
      "text/plain": [
       "<matplotlib.legend.Legend at 0x2aa11c160>"
      ]
     },
     "execution_count": 66,
     "metadata": {},
     "output_type": "execute_result"
    },
    {
     "data": {
      "image/png": "[encoded data removed]",
      "text/plain": [
       "<Figure size 400x400 with 1 Axes>"
      ]
     },
     "metadata": {},
     "output_type": "display_data"
    }
   ],
   "source": [
    "plt.figure(figsize=(4,4))\n",
    "sns.kdeplot(patents_entropy_val,label='Entropy')\n",
    "plt.yscale('symlog')\n",
    "plt.xscale('log')\n",
    "plt.legend()"
   ]
  },
  {
   "cell_type": "code",
   "execution_count": 67,
   "id": "250a4feb",
   "metadata": {},
   "outputs": [],
   "source": [
    "nodes_ipcs = {n:patent_ipcs[n] for n in G.nodes}\n",
    "\n",
    "data_entropy = {i:get_shannon_entropy(i,p_ipc) for i in nodes_ipcs}"
   ]
  },
  {
   "cell_type": "code",
   "execution_count": 68,
   "id": "e5f7fcce",
   "metadata": {},
   "outputs": [],
   "source": [
    "class Entropy_msrs:\n",
    "    \n",
    "    def __init__(self,data,depth):\n",
    "        self.data = data\n",
    "        self.depth = depth  ### level at which we look into the entropy\n",
    "        \n",
    "        self.unique_ipcs = self.get_ipcs()\n",
    "        self.Prob_ipcs = self.get_probability()\n",
    "        \n",
    "        return None\n",
    "    \n",
    "    def get_ipcs(self):\n",
    "        \n",
    "        ipcs = []\n",
    "        \n",
    "        for i in self.data:\n",
    "            \n",
    "            ipcs.extend([j if self.depth==0 else j[:self.depth] for j in i.split(',')])\n",
    "        \n",
    "        ipcs = list(set(ipcs))\n",
    "        \n",
    "        return ipcs\n",
    "    \n",
    "    def get_probability(self):\n",
    "        \n",
    "        ipc_count = defaultdict(int)\n",
    "\n",
    "        for i in self.data:\n",
    "            for j in self.data[i].split(','):\n",
    "                \n",
    "                if self.depth == 0:\n",
    "                    \n",
    "                    ipc_count[j]+=1\n",
    "                else:\n",
    "                    ipc_count[j[:self.depth]]+=1\n",
    "\n",
    "        ipc_count = dict(ipc_count)\n",
    "        N = sum(ipc_count.values())\n",
    "        p_ipc = {i:ipc_count[i]/N for i in ipc_count}\n",
    "        \n",
    "        return p_ipc\n",
    "    \n",
    "    def get_shannon_entropy(self,pat):\n",
    "    \n",
    "        p_ipc = self.Prob_ipcs\n",
    "        ipcs = [j if self.depth==0 else j[:self.depth] for j in self.data[pat].split(',')]\n",
    "    \n",
    "        return -sum([p_ipc[i]*np.log(p_ipc[i]) for i in ipcs])\n",
    "    \n",
    "    def get_data_entropy(self):\n",
    "        \n",
    "        p_ipc = self.Prob_ipcs\n",
    "        \n",
    "        return -sum([p_ipc[i]*np.log(p_ipc[i]) for i in p_ipc])\n",
    "    \n",
    "#     def get_ccdf(self,Prob_dict):\n",
    "        \n",
    "#         vals = list(Prob_dict.values())\n",
    "        \n",
    "#         vals = np.sort(vals)\n",
    "        \n",
    "#         ccdf = np.zeros(len(vals))\n",
    "        \n",
    "#         N = float(len(vals))\n",
    "#         for i in range(int(N)):\n",
    "            \n",
    "#             ccdf[i] = np.sum(vals>=vals[i])/N\n",
    "            \n",
    "#         return ccdf\n",
    "    \n",
    "    def get_jaccard():\n",
    "        \n",
    "        return None \n",
    "        "
   ]
  },
  {
   "cell_type": "code",
   "execution_count": 69,
   "id": "4d55f168",
   "metadata": {},
   "outputs": [],
   "source": [
    "E1 = Entropy_msrs(patent_ipcs,0)\n",
    "E2 = Entropy_msrs(nodes_ipcs,0)"
   ]
  },
  {
   "cell_type": "code",
   "execution_count": 70,
   "id": "74131b28",
   "metadata": {},
   "outputs": [],
   "source": [
    "prob_dict = E2.get_probability()\n",
    "prob_dict1 = E1.get_probability()"
   ]
  },
  {
   "cell_type": "code",
   "execution_count": 71,
   "id": "b828c60b",
   "metadata": {},
   "outputs": [],
   "source": [
    "prob_dict = {i:j for i,j in sorted(prob_dict.items(), key=lambda x:x[1])}"
   ]
  },
  {
   "cell_type": "code",
   "execution_count": 72,
   "id": "ef87297f",
   "metadata": {},
   "outputs": [
    {
     "data": {
      "text/plain": [
       "0.9530507741652402"
      ]
     },
     "execution_count": 72,
     "metadata": {},
     "output_type": "execute_result"
    }
   ],
   "source": [
    "E2.get_data_entropy()/E1.get_data_entropy()"
   ]
  },
  {
   "cell_type": "code",
   "execution_count": 73,
   "id": "7570c12a",
   "metadata": {},
   "outputs": [
    {
     "data": {
      "text/plain": [
       "6.0132291040288637e-05"
      ]
     },
     "execution_count": 73,
     "metadata": {},
     "output_type": "execute_result"
    }
   ],
   "source": [
    "prob_dict['H01H033/18']"
   ]
  },
  {
   "cell_type": "code",
   "execution_count": 74,
   "id": "b7847563",
   "metadata": {},
   "outputs": [
    {
     "data": {
      "text/plain": [
       "0.0005844235461327104"
      ]
     },
     "execution_count": 74,
     "metadata": {},
     "output_type": "execute_result"
    }
   ],
   "source": [
    "E2.get_shannon_entropy('EP19790302618')"
   ]
  },
  {
   "cell_type": "code",
   "execution_count": 75,
   "id": "24a1eafc",
   "metadata": {},
   "outputs": [],
   "source": [
    "cited_nodes = [n for n in G.nodes() if G.in_degree(n)>0]"
   ]
  },
  {
   "cell_type": "code",
   "execution_count": 76,
   "id": "db0e33e2",
   "metadata": {},
   "outputs": [],
   "source": [
    "colors = ['darkred' if n in biotech_patents_nodes else 'lightgray' for n in cited_nodes]"
   ]
  },
  {
   "cell_type": "code",
   "execution_count": 142,
   "id": "de3a6a9c",
   "metadata": {},
   "outputs": [],
   "source": [
    "Graph_Ent = Entropy_msrs(nodes_ipcs,0)"
   ]
  },
  {
   "cell_type": "code",
   "execution_count": 143,
   "id": "e82ddc0a",
   "metadata": {},
   "outputs": [],
   "source": [
    "# Graph_Ent.get_probability()"
   ]
  },
  {
   "cell_type": "code",
   "execution_count": 397,
   "id": "e17fbaeb",
   "metadata": {},
   "outputs": [
    {
     "name": "stderr",
     "output_type": "stream",
     "text": [
      "100%|████████████████████████████████████████████████████████████████████████████████████████████████████████████████████████| 12545/12545 [00:00<00:00, 99620.48it/s]\n"
     ]
    }
   ],
   "source": [
    "Cit,Div_se = [],[]\n",
    "for n in tqdm(cited_nodes):\n",
    "# for n in tqdm(biotech_patents_nodes):\n",
    "    nbrs_n = list(G.predecessors(n))\n",
    "    \n",
    "    \n",
    "    div = [Graph_Ent.get_shannon_entropy(i) for i in nbrs_n]\n",
    "    \n",
    "    \n",
    "    Cit.append(len(nbrs_n))\n",
    "    \n",
    "    Div_se.append(np.max(div))"
   ]
  },
  {
   "cell_type": "code",
   "execution_count": 398,
   "id": "c66432a4",
   "metadata": {},
   "outputs": [
    {
     "data": {
      "image/png": "[encoded data removed]",
      "text/plain": [
       "<Figure size 640x480 with 1 Axes>"
      ]
     },
     "metadata": {},
     "output_type": "display_data"
    }
   ],
   "source": [
    "# plt.scatter(Cit,Div_se,color=colors)\n",
    "plt.scatter(Cit,Div_se,color='darkred')\n",
    "plt.yscale('log')\n",
    "plt.xscale('log')"
   ]
  },
  {
   "cell_type": "code",
   "execution_count": 399,
   "id": "6fc8a6e7",
   "metadata": {},
   "outputs": [],
   "source": [
    "from scipy.stats import spearmanr,pearsonr\n",
    "# from scipy.stats import binned_statistic as bin1d"
   ]
  },
  {
   "cell_type": "code",
   "execution_count": 400,
   "id": "8505db69",
   "metadata": {},
   "outputs": [],
   "source": [
    "X_,Y_,yerr_ = [],[],[]\n",
    "\n",
    "Cit_div = {}\n",
    "\n",
    "for i,j in zip(Cit,Div_se):\n",
    "    \n",
    "    if i not in Cit_div:\n",
    "        \n",
    "        Cit_div[i] = [j]\n",
    "        \n",
    "    else:\n",
    "        Cit_div[i].append(j)"
   ]
  },
  {
   "cell_type": "code",
   "execution_count": 401,
   "id": "e43ac4e0",
   "metadata": {},
   "outputs": [],
   "source": [
    "Cit_div = {i:j for i,j in sorted(Cit_div.items(),key = lambda x:x[0])}"
   ]
  },
  {
   "cell_type": "code",
   "execution_count": 402,
   "id": "407654e7",
   "metadata": {},
   "outputs": [],
   "source": [
    "for i in Cit_div:\n",
    "    \n",
    "    X_.append(i)\n",
    "    \n",
    "    Y_.append(np.mean(Cit_div[i]))\n",
    "    \n",
    "    yerr_.append(np.std(Cit_div[i])/np.sqrt(len(Cit_div[i])))"
   ]
  },
  {
   "cell_type": "code",
   "execution_count": 403,
   "id": "edf9c64a",
   "metadata": {},
   "outputs": [],
   "source": [
    "spr0 = spearmanr(X_,Y_) ### two-sided p-value, null == np correlation\n",
    "spr1 = spearmanr(Cit,Div_se)"
   ]
  },
  {
   "cell_type": "code",
   "execution_count": 406,
   "id": "6cedf8f1",
   "metadata": {},
   "outputs": [
    {
     "data": {
      "image/png": "[encoded data removed]",
      "text/plain": [
       "<Figure size 400x400 with 1 Axes>"
      ]
     },
     "metadata": {},
     "output_type": "display_data"
    }
   ],
   "source": [
    "plt.figure(figsize=(4,4))\n",
    "plt.scatter(Cit,Div_se,color=colors)\n",
    "# plt.scatter(Cit,Div_se,color='darkred')\n",
    "plt.errorbar(X_,Y_,yerr=yerr_,ecolor='blue',capsize=3,linestyle='--',color='darkblue')\n",
    "plt.yscale('log')\n",
    "plt.xscale('log')\n",
    "\n",
    "plt.text(5,0.0002,f'spearman corr : {np.round(spr1.statistic,3)},\\n\\np-val: {np.round(spr1.pvalue,2)}')\n",
    "\n",
    "plt.ylabel('Diversity (Shannon)')\n",
    "plt.xlabel('Citations')\n",
    "\n",
    "plt.tight_layout()\n",
    "plt.savefig('div_vs_cit_shan_maxD_all.pdf')\n",
    "plt.savefig('div_vs_cit_shan_maxD_all.png')"
   ]
  },
  {
   "cell_type": "code",
   "execution_count": 206,
   "id": "799b2396",
   "metadata": {},
   "outputs": [],
   "source": [
    "import random as rd"
   ]
  },
  {
   "cell_type": "code",
   "execution_count": 207,
   "id": "18d48501",
   "metadata": {},
   "outputs": [],
   "source": [
    "def Randomize(N_iter):\n",
    "    \n",
    "    R_spr = []\n",
    "    pval = []\n",
    "    R_spr2 = []\n",
    "    pval2 = []\n",
    "    \n",
    "    sample_set = list(set(cited_nodes) - set(biotech_patents_nodes))\n",
    "    \n",
    "    for i in tqdm(range(N_iter)):\n",
    "        \n",
    "        random_nodes = np.random.choice(sample_set,len(biotech_patents_nodes),replace=False)\n",
    "        \n",
    "        \n",
    "        \n",
    "        Cit,Div_se = [],[]\n",
    "        # for n in tqdm(cited_nodes):\n",
    "        for n in random_nodes:\n",
    "            nbrs_n = list(G.predecessors(n))\n",
    "\n",
    "\n",
    "            div = [Graph_Ent.get_shannon_entropy(i) for i in nbrs_n]\n",
    "\n",
    "\n",
    "            Cit.append(len(nbrs_n))\n",
    "\n",
    "            Div_se.append(np.max(div))\n",
    "        \n",
    "        \n",
    "        spr0 = spearmanr(Cit,Div_se)\n",
    "        R_spr.append(spr0.statistic)\n",
    "        pval.append(spr0.pvalue)\n",
    "        \n",
    "        X_,Y_,yerr_ = [],[],[]\n",
    "\n",
    "        Cit_div = {}\n",
    "\n",
    "        for i,j in zip(Cit,Div_se):\n",
    "\n",
    "            if i not in Cit_div:\n",
    "\n",
    "                Cit_div[i] = [j]\n",
    "\n",
    "            else:\n",
    "                Cit_div[i].append(j)\n",
    "\n",
    "        Cit_div = {i:j for i,j in sorted(Cit_div.items(),key = lambda x:x[0])}\n",
    "\n",
    "        for i in Cit_div:\n",
    "\n",
    "            X_.append(i)\n",
    "\n",
    "            Y_.append(np.mean(Cit_div[i]))\n",
    "\n",
    "            yerr_.append(np.std(Cit_div[i])/np.sqrt(len(Cit_div[i])))\n",
    "\n",
    "        spr2 = spearmanr(X_,Y_)\n",
    "        \n",
    "        pval2.append(spr2.pvalue)\n",
    "\n",
    "        R_spr2.append(spr2.statistic)\n",
    "    \n",
    "    return R_spr,pval,R_spr2,pval2\n",
    "\n"
   ]
  },
  {
   "cell_type": "code",
   "execution_count": 208,
   "id": "1e14a95e",
   "metadata": {},
   "outputs": [
    {
     "name": "stderr",
     "output_type": "stream",
     "text": [
      "100%|████████████████████████████████████████████████████████████████████████████████████████████████████████████████████████████| 1000/1000 [00:05<00:00, 172.74it/s]\n"
     ]
    }
   ],
   "source": [
    "R_spr1,pval1,R_spr2,pval2 = Randomize(1000)"
   ]
  },
  {
   "cell_type": "code",
   "execution_count": 253,
   "id": "681ee200",
   "metadata": {},
   "outputs": [
    {
     "data": {
      "text/plain": [
       "<matplotlib.lines.Line2D at 0x2c22f60d0>"
      ]
     },
     "execution_count": 253,
     "metadata": {},
     "output_type": "execute_result"
    },
    {
     "data": {
      "image/png": "[encoded data removed]",
      "text/plain": [
       "<Figure size 300x300 with 1 Axes>"
      ]
     },
     "metadata": {},
     "output_type": "display_data"
    }
   ],
   "source": [
    "plt.figure(figsize=(3,3))\n",
    "clean_Rspr = [i for i,j in zip(R_spr1,pval1) if j <= 0.01]\n",
    "\n",
    "sns.kdeplot(clean_Rspr,color='gray')\n",
    "plt.axvline(spr1.statistic,color='red')"
   ]
  },
  {
   "cell_type": "code",
   "execution_count": 410,
   "id": "edfc602f",
   "metadata": {},
   "outputs": [],
   "source": [
    "def check_if_in_biotech(x,Biotech_codes=Biotech_codes):\n",
    "    \n",
    "    x_ipcs = patent_ipcs[x].split(',')\n",
    "    \n",
    "    flag = False\n",
    "    for bipc in Biotech_codes:\n",
    "        \n",
    "        for xi in x_ipcs:\n",
    "        \n",
    "            if (bipc == xi) or (bipc in xi):\n",
    "            \n",
    "                flag = True\n",
    "                break\n",
    "    return flag\n",
    "\n",
    "def prop_citations_from_biotech(target,G):\n",
    "    \n",
    "    nbrs_n = list(G.predecessors(target))\n",
    "    N = len(nbrs_n)\n",
    "    \n",
    "    from_biotech = np.zeros(N)\n",
    "    \n",
    "    for i,n in enumerate(nbrs_n):\n",
    "        \n",
    "        flag = check_if_in_biotech(n)\n",
    "        \n",
    "        if flag:\n",
    "            from_biotech[i] = 1\n",
    "    \n",
    "    return sum(from_biotech)/N"
   ]
  },
  {
   "cell_type": "code",
   "execution_count": 411,
   "id": "1fae21a4",
   "metadata": {},
   "outputs": [],
   "source": [
    "epo_to_yr_df = pd.read_csv('data/EPO_to_IPC_year.csv',header=0,sep=',',index_col=0)"
   ]
  },
  {
   "cell_type": "code",
   "execution_count": 412,
   "id": "ef483ce8",
   "metadata": {},
   "outputs": [],
   "source": [
    "epo_to_yr_df.dropna(inplace=True)"
   ]
  },
  {
   "cell_type": "code",
   "execution_count": 413,
   "id": "f566152c",
   "metadata": {},
   "outputs": [],
   "source": [
    "node_yr = {i:int(j) for i,j in zip(epo_to_yr_df.index.values,epo_to_yr_df.app_year.values)}"
   ]
  },
  {
   "cell_type": "code",
   "execution_count": 414,
   "id": "b52834d3",
   "metadata": {},
   "outputs": [],
   "source": [
    "def filter_dt(dt):\n",
    "    \n",
    "    if dt < 0 and dt >= -3:\n",
    "        return 0\n",
    "    elif dt<-3:\n",
    "        return np.nan\n",
    "    else:\n",
    "        return dt"
   ]
  },
  {
   "cell_type": "code",
   "execution_count": 415,
   "id": "1f95565a",
   "metadata": {},
   "outputs": [
    {
     "name": "stderr",
     "output_type": "stream",
     "text": [
      "100%|███████████████████████████████████████████████████████████████████████████████████████████████████████████████████████| 12545/12545 [00:00<00:00, 113052.68it/s]\n"
     ]
    }
   ],
   "source": [
    "delta_T,Div_se = [],[]\n",
    "\n",
    "for n in tqdm(cited_nodes):\n",
    "# for n in tqdm(biotech_patents_nodes):\n",
    "    \n",
    "    nbrs_n = list(G.predecessors(n))\n",
    "    div_sub = [] \n",
    "    \n",
    "#     dt = [node_yr[i] - node_yr[n] for i in nbrs_n]\n",
    "    dt_sub = []\n",
    "    \n",
    "    for i in nbrs_n:\n",
    "        \n",
    "        dt = filter_dt(node_yr[i] - node_yr[n])\n",
    "        div = Graph_Ent.get_shannon_entropy(i)\n",
    "        \n",
    "        dt_sub.append(dt)\n",
    "        div_sub.append(div)\n",
    "    delta_T.extend(dt_sub)\n",
    "    \n",
    "    Div_se.extend(div_sub)"
   ]
  },
  {
   "cell_type": "code",
   "execution_count": 416,
   "id": "a076e144",
   "metadata": {},
   "outputs": [
    {
     "data": {
      "text/plain": [
       "(19767, 19767)"
      ]
     },
     "execution_count": 416,
     "metadata": {},
     "output_type": "execute_result"
    }
   ],
   "source": [
    "len(delta_T),len(Div_se)"
   ]
  },
  {
   "cell_type": "code",
   "execution_count": 417,
   "id": "45068147",
   "metadata": {},
   "outputs": [],
   "source": [
    "delta_T = np.array(delta_T)\n",
    "Div_se = np.array(Div_se)"
   ]
  },
  {
   "cell_type": "code",
   "execution_count": 418,
   "id": "e51a174e",
   "metadata": {},
   "outputs": [],
   "source": [
    "indx = np.where(delta_T!=np.nan)"
   ]
  },
  {
   "cell_type": "code",
   "execution_count": 419,
   "id": "f11a586d",
   "metadata": {},
   "outputs": [],
   "source": [
    "delta_T = delta_T[indx]\n",
    "Div_se = Div_se[indx]"
   ]
  },
  {
   "cell_type": "code",
   "execution_count": null,
   "id": "28a95aac",
   "metadata": {},
   "outputs": [],
   "source": []
  },
  {
   "cell_type": "code",
   "execution_count": 420,
   "id": "18944113",
   "metadata": {},
   "outputs": [
    {
     "data": {
      "text/plain": [
       "[<matplotlib.lines.Line2D at 0x2c96e99d0>]"
      ]
     },
     "execution_count": 420,
     "metadata": {},
     "output_type": "execute_result"
    },
    {
     "data": {
      "image/png": "[encoded data removed]",
      "text/plain": [
       "<Figure size 400x400 with 1 Axes>"
      ]
     },
     "metadata": {},
     "output_type": "display_data"
    }
   ],
   "source": [
    "plt.figure(figsize=(4,4))\n",
    "y,x,_ = plt.hist(list(delta_T),density=True,color='lightgray',alpha=0.5)\n",
    "plt.plot(x[1:],y,color='gray')"
   ]
  },
  {
   "cell_type": "code",
   "execution_count": 455,
   "id": "6608f049",
   "metadata": {},
   "outputs": [
    {
     "name": "stderr",
     "output_type": "stream",
     "text": [
      "/var/folders/nh/5jq2mlf15kvc6qs_xh074tn80000gn/T/ipykernel_55313/969955511.py:5: RuntimeWarning: overflow encountered in exp\n",
      "  return b*np.exp(-l*x)\n"
     ]
    },
    {
     "name": "stdout",
     "output_type": "stream",
     "text": [
      "[0.16995148 0.23947067]\n"
     ]
    },
    {
     "data": {
      "image/png": "[encoded data removed]",
      "text/plain": [
       "<Figure size 400x400 with 1 Axes>"
      ]
     },
     "metadata": {},
     "output_type": "display_data"
    }
   ],
   "source": [
    "from scipy.optimize import curve_fit\n",
    "\n",
    "def f_exp(x,l,b):\n",
    "    \n",
    "    return b*np.exp(-l*x)\n",
    "\n",
    "params,pcov = curve_fit(f_exp,x[1:],y)\n",
    "print(params)\n",
    "\n",
    "x1 = np.linspace(3,40,100)\n",
    "\n",
    "plt.figure(figsize=(4,4))\n",
    "y,x,_ = plt.hist(list(delta_T),density=True,color='lightgray',alpha=0.5)\n",
    "# plt.plot(x[1:],y,color='gray')\n",
    "plt.plot(x1,f_exp(x1,*params),'--',label='Exponential Fit')\n",
    "plt.ylabel('Density of Citations',fontsize=16)\n",
    "plt.xlabel(r'$\\Delta T$',fontsize=16)\n",
    "plt.text(15,0.10,r'half-life = %0.2f years'%(half_life))\n",
    "plt.legend()\n",
    "plt.tight_layout()\n",
    "plt.savefig('half_life_cit.png',dpi=500)\n",
    "plt.savefig('half_life_cit.pdf')"
   ]
  },
  {
   "cell_type": "code",
   "execution_count": 422,
   "id": "cdb96c31",
   "metadata": {},
   "outputs": [
    {
     "data": {
      "text/plain": [
       "4.078500440777193"
      ]
     },
     "execution_count": 422,
     "metadata": {},
     "output_type": "execute_result"
    }
   ],
   "source": [
    "half_life = np.log(2)/params[0]\n",
    "half_life"
   ]
  },
  {
   "cell_type": "code",
   "execution_count": 423,
   "id": "f1cc0bcd",
   "metadata": {},
   "outputs": [],
   "source": [
    "from scipy.stats import binned_statistic as bin1d"
   ]
  },
  {
   "cell_type": "code",
   "execution_count": 424,
   "id": "bbcc2642",
   "metadata": {},
   "outputs": [],
   "source": [
    "xt,yt,yerrt = [],[],[]\n",
    "\n",
    "div_t = {}\n",
    "\n",
    "for i,j in zip(delta_T,Div_se):\n",
    "    \n",
    "    if i not in div_t:\n",
    "        \n",
    "        div_t[i] = [j]\n",
    "    else:\n",
    "        div_t[i].append(j)"
   ]
  },
  {
   "cell_type": "code",
   "execution_count": 425,
   "id": "aebf0564",
   "metadata": {},
   "outputs": [],
   "source": [
    "div_t = {i:j for i,j in sorted(div_t.items(),key=lambda x:x[0])}"
   ]
  },
  {
   "cell_type": "code",
   "execution_count": 426,
   "id": "21867b88",
   "metadata": {},
   "outputs": [],
   "source": [
    "for i in div_t:\n",
    "    \n",
    "    xt.append(i)\n",
    "    yt.append(np.mean(div_t[i]))\n",
    "    yerrt.append(np.std(div_t[i])/len(div_t)**0.5)"
   ]
  },
  {
   "cell_type": "code",
   "execution_count": 443,
   "id": "fd37e678",
   "metadata": {},
   "outputs": [
    {
     "data": {
      "image/png": "[encoded data removed]",
      "text/plain": [
       "<Figure size 400x400 with 1 Axes>"
      ]
     },
     "metadata": {},
     "output_type": "display_data"
    }
   ],
   "source": [
    "plt.figure(figsize=(4,4))\n",
    "plt.errorbar(xt,yt,yerrt,capsize=3,color='gray',ecolor='gray',fmt='o',alpha=0.8)\n",
    "plt.plot(xt,yt,'--')\n",
    "sns.scatterplot(x=delta_T,y=Div_se,alpha=0.3,color='lightblue');\n",
    "plt.xlabel(r'$\\Delta T$',fontsize=16)\n",
    "plt.ylabel('Mean Diversity (Citing)',fontsize=16)\n",
    "plt.yscale('log')\n",
    "plt.tight_layout()\n",
    "plt.savefig('mean_diversity_deltaT.png',dpi=600)\n",
    "plt.savefig('mean_diversity_deltaT.pdf')\n",
    "plt.show()\n"
   ]
  },
  {
   "cell_type": "code",
   "execution_count": 233,
   "id": "c89e8a32",
   "metadata": {},
   "outputs": [],
   "source": [
    "#### Regions \n",
    "\n",
    "delta_T = delta_T[np.where(delta_T!=np.nan)]\n",
    "Div_se = Div_se[np.where(delta_T!=np.nan)]\n"
   ]
  },
  {
   "cell_type": "code",
   "execution_count": 234,
   "id": "af65887a",
   "metadata": {},
   "outputs": [
    {
     "data": {
      "text/plain": [
       "PearsonRResult(statistic=-0.45881699207202103, pvalue=0.005567174419263755)"
      ]
     },
     "execution_count": 234,
     "metadata": {},
     "output_type": "execute_result"
    }
   ],
   "source": [
    "pearsonr(xt[:-7],yt[:-7])"
   ]
  },
  {
   "cell_type": "code",
   "execution_count": 235,
   "id": "49ef0d41",
   "metadata": {},
   "outputs": [],
   "source": [
    "from statsmodels.regression import linear_model"
   ]
  },
  {
   "cell_type": "code",
   "execution_count": 236,
   "id": "0fc390bc",
   "metadata": {},
   "outputs": [],
   "source": [
    "# help(linear_model)"
   ]
  },
  {
   "cell_type": "code",
   "execution_count": 237,
   "id": "84e14089",
   "metadata": {},
   "outputs": [],
   "source": [
    "# delta_T = delta_T[np.where(delta_T!=np.nan)]\n",
    "# Div_se = Div_se[np.where(delta_T!=np.nan)]\n",
    "model = linear_model.OLS(yt[:-7],xt[:-7])"
   ]
  },
  {
   "cell_type": "code",
   "execution_count": 238,
   "id": "d28cd1ad",
   "metadata": {},
   "outputs": [],
   "source": [
    "res = model.fit()"
   ]
  },
  {
   "cell_type": "code",
   "execution_count": 239,
   "id": "8bc45054",
   "metadata": {},
   "outputs": [
    {
     "data": {
      "text/html": [
       "<table class=\"simpletable\">\n",
       "<caption>OLS Regression Results</caption>\n",
       "<tr>\n",
       "  <th>Dep. Variable:</th>            <td>y</td>        <th>  R-squared (uncentered):</th>      <td>   0.404</td>\n",
       "</tr>\n",
       "<tr>\n",
       "  <th>Model:</th>                   <td>OLS</td>       <th>  Adj. R-squared (uncentered):</th> <td>   0.386</td>\n",
       "</tr>\n",
       "<tr>\n",
       "  <th>Method:</th>             <td>Least Squares</td>  <th>  F-statistic:       </th>          <td>   23.01</td>\n",
       "</tr>\n",
       "<tr>\n",
       "  <th>Date:</th>             <td>Thu, 29 Jun 2023</td> <th>  Prob (F-statistic):</th>          <td>3.14e-05</td>\n",
       "</tr>\n",
       "<tr>\n",
       "  <th>Time:</th>                 <td>18:27:15</td>     <th>  Log-Likelihood:    </th>          <td>  118.40</td>\n",
       "</tr>\n",
       "<tr>\n",
       "  <th>No. Observations:</th>      <td>    35</td>      <th>  AIC:               </th>          <td>  -234.8</td>\n",
       "</tr>\n",
       "<tr>\n",
       "  <th>Df Residuals:</th>          <td>    34</td>      <th>  BIC:               </th>          <td>  -233.3</td>\n",
       "</tr>\n",
       "<tr>\n",
       "  <th>Df Model:</th>              <td>     1</td>      <th>                     </th>              <td> </td>   \n",
       "</tr>\n",
       "<tr>\n",
       "  <th>Covariance Type:</th>      <td>nonrobust</td>    <th>                     </th>              <td> </td>   \n",
       "</tr>\n",
       "</table>\n",
       "<table class=\"simpletable\">\n",
       "<tr>\n",
       "   <td></td>     <th>coef</th>     <th>std err</th>      <th>t</th>      <th>P>|t|</th>  <th>[0.025</th>    <th>0.975]</th>  \n",
       "</tr>\n",
       "<tr>\n",
       "  <th>x1</th> <td>    0.0003</td> <td> 7.12e-05</td> <td>    4.797</td> <td> 0.000</td> <td>    0.000</td> <td>    0.000</td>\n",
       "</tr>\n",
       "</table>\n",
       "<table class=\"simpletable\">\n",
       "<tr>\n",
       "  <th>Omnibus:</th>       <td> 1.300</td> <th>  Durbin-Watson:     </th> <td>   0.376</td>\n",
       "</tr>\n",
       "<tr>\n",
       "  <th>Prob(Omnibus):</th> <td> 0.522</td> <th>  Jarque-Bera (JB):  </th> <td>   1.203</td>\n",
       "</tr>\n",
       "<tr>\n",
       "  <th>Skew:</th>          <td> 0.311</td> <th>  Prob(JB):          </th> <td>   0.548</td>\n",
       "</tr>\n",
       "<tr>\n",
       "  <th>Kurtosis:</th>      <td> 2.338</td> <th>  Cond. No.          </th> <td>    1.00</td>\n",
       "</tr>\n",
       "</table><br/><br/>Notes:<br/>[1] R² is computed without centering (uncentered) since the model does not contain a constant.<br/>[2] Standard Errors assume that the covariance matrix of the errors is correctly specified."
      ],
      "text/plain": [
       "<class 'statsmodels.iolib.summary.Summary'>\n",
       "\"\"\"\n",
       "                                 OLS Regression Results                                \n",
       "=======================================================================================\n",
       "Dep. Variable:                      y   R-squared (uncentered):                   0.404\n",
       "Model:                            OLS   Adj. R-squared (uncentered):              0.386\n",
       "Method:                 Least Squares   F-statistic:                              23.01\n",
       "Date:                Thu, 29 Jun 2023   Prob (F-statistic):                    3.14e-05\n",
       "Time:                        18:27:15   Log-Likelihood:                          118.40\n",
       "No. Observations:                  35   AIC:                                     -234.8\n",
       "Df Residuals:                      34   BIC:                                     -233.3\n",
       "Df Model:                           1                                                  \n",
       "Covariance Type:            nonrobust                                                  \n",
       "==============================================================================\n",
       "                 coef    std err          t      P>|t|      [0.025      0.975]\n",
       "------------------------------------------------------------------------------\n",
       "x1             0.0003   7.12e-05      4.797      0.000       0.000       0.000\n",
       "==============================================================================\n",
       "Omnibus:                        1.300   Durbin-Watson:                   0.376\n",
       "Prob(Omnibus):                  0.522   Jarque-Bera (JB):                1.203\n",
       "Skew:                           0.311   Prob(JB):                        0.548\n",
       "Kurtosis:                       2.338   Cond. No.                         1.00\n",
       "==============================================================================\n",
       "\n",
       "Notes:\n",
       "[1] R² is computed without centering (uncentered) since the model does not contain a constant.\n",
       "[2] Standard Errors assume that the covariance matrix of the errors is correctly specified.\n",
       "\"\"\""
      ]
     },
     "execution_count": 239,
     "metadata": {},
     "output_type": "execute_result"
    }
   ],
   "source": [
    "res.summary()"
   ]
  },
  {
   "cell_type": "code",
   "execution_count": 446,
   "id": "560c8de8",
   "metadata": {},
   "outputs": [],
   "source": [
    "with open('Patents_info_all.csv','w') as f:\n",
    "    \n",
    "    f.write('id,diversity,citations,year,region,is_Biotech\\n')\n",
    "\n",
    "    for i in G.nodes():\n",
    "    \n",
    "        uid,div,cit,yr,region = i,Graph_Ent.get_shannon_entropy(i),G.in_degree(i),node_yr[i],patentsID_to_region[i]\n",
    "        if i in biotech_patents_nodes:\n",
    "            is_Biotech=1\n",
    "        else:\n",
    "            is_Biotech=0\n",
    "        #         print(i,Graph_Ent.get_shannon_entropy(i),G.in_degree(i))\n",
    "        f.write(f'{uid},{np.round(div,4)},{cit},{yr},{region},{is_Biotech}\\n')"
   ]
  },
  {
   "cell_type": "code",
   "execution_count": 254,
   "id": "3cfc94a5",
   "metadata": {},
   "outputs": [],
   "source": [
    "patentsID_to_region = {} \n",
    "\n",
    "for i,j in zip(DF_pct_citations.Citing_app_nbr_EPO.values, DF_pct_citations.reg_code.values):\n",
    "    \n",
    "    if i not in patentsID_to_region:\n",
    "        \n",
    "        patentsID_to_region[i] = j\n",
    "        \n",
    "for i,j in zip(DF_epo_citations.Citing_app_nbr.values, DF_epo_citations.reg_code.values):\n",
    "    \n",
    "    if i not in patentsID_to_region:\n",
    "        \n",
    "        patentsID_to_region[i] = j\n",
    "        \n",
    "for i,j in zip(UK_patents_cited.app_nbr.values, UK_patents_cited.reg_code.values):\n",
    "    \n",
    "    if i not in patentsID_to_region:\n",
    "        \n",
    "        patentsID_to_region[i] = j"
   ]
  },
  {
   "cell_type": "code",
   "execution_count": 283,
   "id": "34608268",
   "metadata": {},
   "outputs": [],
   "source": [
    "patents_info = pd.read_csv('Patents_info.csv',header=0,sep=',')"
   ]
  },
  {
   "cell_type": "code",
   "execution_count": 284,
   "id": "2d74cc9b",
   "metadata": {},
   "outputs": [],
   "source": [
    "patents_info = patents_info.sort_values(by='year')"
   ]
  },
  {
   "cell_type": "code",
   "execution_count": 285,
   "id": "aefe23f5",
   "metadata": {},
   "outputs": [],
   "source": [
    "patents_info_groupd_bT = patents_info.groupby('is_Biotech')"
   ]
  },
  {
   "cell_type": "code",
   "execution_count": 295,
   "id": "ffc567e3",
   "metadata": {},
   "outputs": [
    {
     "data": {
      "text/html": [
       "<div>\n",
       "<style scoped>\n",
       "    .dataframe tbody tr th:only-of-type {\n",
       "        vertical-align: middle;\n",
       "    }\n",
       "\n",
       "    .dataframe tbody tr th {\n",
       "        vertical-align: top;\n",
       "    }\n",
       "\n",
       "    .dataframe thead th {\n",
       "        text-align: right;\n",
       "    }\n",
       "</style>\n",
       "<table border=\"1\" class=\"dataframe\">\n",
       "  <thead>\n",
       "    <tr style=\"text-align: right;\">\n",
       "      <th></th>\n",
       "      <th>id</th>\n",
       "      <th>diversity</th>\n",
       "      <th>citations</th>\n",
       "      <th>year</th>\n",
       "      <th>region</th>\n",
       "      <th>is_Biotech</th>\n",
       "    </tr>\n",
       "  </thead>\n",
       "  <tbody>\n",
       "    <tr>\n",
       "      <th>876</th>\n",
       "      <td>EP19780100395</td>\n",
       "      <td>0.0049</td>\n",
       "      <td>1</td>\n",
       "      <td>1978</td>\n",
       "      <td>UKJ42</td>\n",
       "      <td>1</td>\n",
       "    </tr>\n",
       "    <tr>\n",
       "      <th>11201</th>\n",
       "      <td>EP19980938832</td>\n",
       "      <td>0.0110</td>\n",
       "      <td>1</td>\n",
       "      <td>1998</td>\n",
       "      <td>UKL22</td>\n",
       "      <td>1</td>\n",
       "    </tr>\n",
       "    <tr>\n",
       "      <th>8168</th>\n",
       "      <td>EP19980957019</td>\n",
       "      <td>0.0173</td>\n",
       "      <td>1</td>\n",
       "      <td>1998</td>\n",
       "      <td>UKJ42</td>\n",
       "      <td>1</td>\n",
       "    </tr>\n",
       "    <tr>\n",
       "      <th>10620</th>\n",
       "      <td>EP19980940467</td>\n",
       "      <td>0.0014</td>\n",
       "      <td>1</td>\n",
       "      <td>1998</td>\n",
       "      <td>UKJ24</td>\n",
       "      <td>1</td>\n",
       "    </tr>\n",
       "    <tr>\n",
       "      <th>12525</th>\n",
       "      <td>EP19980932298</td>\n",
       "      <td>0.0181</td>\n",
       "      <td>1</td>\n",
       "      <td>1998</td>\n",
       "      <td>UKE12</td>\n",
       "      <td>1</td>\n",
       "    </tr>\n",
       "    <tr>\n",
       "      <th>...</th>\n",
       "      <td>...</td>\n",
       "      <td>...</td>\n",
       "      <td>...</td>\n",
       "      <td>...</td>\n",
       "      <td>...</td>\n",
       "      <td>...</td>\n",
       "    </tr>\n",
       "    <tr>\n",
       "      <th>2449</th>\n",
       "      <td>EP19870307668</td>\n",
       "      <td>0.0261</td>\n",
       "      <td>15</td>\n",
       "      <td>1987</td>\n",
       "      <td>UKF16</td>\n",
       "      <td>1</td>\n",
       "    </tr>\n",
       "    <tr>\n",
       "      <th>2783</th>\n",
       "      <td>EP19880310000</td>\n",
       "      <td>0.0889</td>\n",
       "      <td>17</td>\n",
       "      <td>1988</td>\n",
       "      <td>UKF16</td>\n",
       "      <td>1</td>\n",
       "    </tr>\n",
       "    <tr>\n",
       "      <th>6732</th>\n",
       "      <td>EP19820300416</td>\n",
       "      <td>0.0499</td>\n",
       "      <td>22</td>\n",
       "      <td>1982</td>\n",
       "      <td>UKD61</td>\n",
       "      <td>1</td>\n",
       "    </tr>\n",
       "    <tr>\n",
       "      <th>7122</th>\n",
       "      <td>EP19840301996</td>\n",
       "      <td>0.1200</td>\n",
       "      <td>26</td>\n",
       "      <td>1984</td>\n",
       "      <td>UKJ11</td>\n",
       "      <td>1</td>\n",
       "    </tr>\n",
       "    <tr>\n",
       "      <th>3314</th>\n",
       "      <td>EP19870302620</td>\n",
       "      <td>0.0643</td>\n",
       "      <td>60</td>\n",
       "      <td>1987</td>\n",
       "      <td>GBZZZ</td>\n",
       "      <td>1</td>\n",
       "    </tr>\n",
       "  </tbody>\n",
       "</table>\n",
       "<p>627 rows × 6 columns</p>\n",
       "</div>"
      ],
      "text/plain": [
       "                  id  diversity  citations  year region  is_Biotech\n",
       "876    EP19780100395     0.0049          1  1978  UKJ42           1\n",
       "11201  EP19980938832     0.0110          1  1998  UKL22           1\n",
       "8168   EP19980957019     0.0173          1  1998  UKJ42           1\n",
       "10620  EP19980940467     0.0014          1  1998  UKJ24           1\n",
       "12525  EP19980932298     0.0181          1  1998  UKE12           1\n",
       "...              ...        ...        ...   ...    ...         ...\n",
       "2449   EP19870307668     0.0261         15  1987  UKF16           1\n",
       "2783   EP19880310000     0.0889         17  1988  UKF16           1\n",
       "6732   EP19820300416     0.0499         22  1982  UKD61           1\n",
       "7122   EP19840301996     0.1200         26  1984  UKJ11           1\n",
       "3314   EP19870302620     0.0643         60  1987  GBZZZ           1\n",
       "\n",
       "[627 rows x 6 columns]"
      ]
     },
     "execution_count": 295,
     "metadata": {},
     "output_type": "execute_result"
    }
   ],
   "source": [
    "patents_info_groupd_bT.get_group(1).sort_values(by='citations')"
   ]
  },
  {
   "cell_type": "code",
   "execution_count": 271,
   "id": "f8957bc5",
   "metadata": {},
   "outputs": [
    {
     "data": {
      "text/html": [
       "<div>\n",
       "<style scoped>\n",
       "    .dataframe tbody tr th:only-of-type {\n",
       "        vertical-align: middle;\n",
       "    }\n",
       "\n",
       "    .dataframe tbody tr th {\n",
       "        vertical-align: top;\n",
       "    }\n",
       "\n",
       "    .dataframe thead th {\n",
       "        text-align: right;\n",
       "    }\n",
       "</style>\n",
       "<table border=\"1\" class=\"dataframe\">\n",
       "  <thead>\n",
       "    <tr style=\"text-align: right;\">\n",
       "      <th></th>\n",
       "      <th>id</th>\n",
       "      <th>diversity</th>\n",
       "      <th>citations</th>\n",
       "      <th>year</th>\n",
       "      <th>region</th>\n",
       "      <th>is_Biotech</th>\n",
       "    </tr>\n",
       "  </thead>\n",
       "  <tbody>\n",
       "    <tr>\n",
       "      <th>1642</th>\n",
       "      <td>EP19780300180</td>\n",
       "      <td>0.0073</td>\n",
       "      <td>1</td>\n",
       "      <td>1978</td>\n",
       "      <td>UKF22</td>\n",
       "      <td>0</td>\n",
       "    </tr>\n",
       "    <tr>\n",
       "      <th>5630</th>\n",
       "      <td>EP19780300248</td>\n",
       "      <td>0.0009</td>\n",
       "      <td>1</td>\n",
       "      <td>1978</td>\n",
       "      <td>UKL21</td>\n",
       "      <td>0</td>\n",
       "    </tr>\n",
       "    <tr>\n",
       "      <th>163</th>\n",
       "      <td>EP19780200049</td>\n",
       "      <td>0.0289</td>\n",
       "      <td>4</td>\n",
       "      <td>1978</td>\n",
       "      <td>UKC22</td>\n",
       "      <td>0</td>\n",
       "    </tr>\n",
       "    <tr>\n",
       "      <th>656</th>\n",
       "      <td>EP19780300224</td>\n",
       "      <td>0.0021</td>\n",
       "      <td>2</td>\n",
       "      <td>1978</td>\n",
       "      <td>UKJ14</td>\n",
       "      <td>0</td>\n",
       "    </tr>\n",
       "    <tr>\n",
       "      <th>171</th>\n",
       "      <td>EP19780300375</td>\n",
       "      <td>0.0004</td>\n",
       "      <td>1</td>\n",
       "      <td>1978</td>\n",
       "      <td>UKE32</td>\n",
       "      <td>0</td>\n",
       "    </tr>\n",
       "    <tr>\n",
       "      <th>...</th>\n",
       "      <td>...</td>\n",
       "      <td>...</td>\n",
       "      <td>...</td>\n",
       "      <td>...</td>\n",
       "      <td>...</td>\n",
       "      <td>...</td>\n",
       "    </tr>\n",
       "    <tr>\n",
       "      <th>9751</th>\n",
       "      <td>EP20180020259</td>\n",
       "      <td>0.0019</td>\n",
       "      <td>1</td>\n",
       "      <td>2018</td>\n",
       "      <td>UKG24</td>\n",
       "      <td>0</td>\n",
       "    </tr>\n",
       "    <tr>\n",
       "      <th>9816</th>\n",
       "      <td>EP20180159114</td>\n",
       "      <td>0.0028</td>\n",
       "      <td>1</td>\n",
       "      <td>2018</td>\n",
       "      <td>UKF11</td>\n",
       "      <td>0</td>\n",
       "    </tr>\n",
       "    <tr>\n",
       "      <th>9774</th>\n",
       "      <td>EP20180212257</td>\n",
       "      <td>0.0025</td>\n",
       "      <td>1</td>\n",
       "      <td>2018</td>\n",
       "      <td>UKJ23</td>\n",
       "      <td>0</td>\n",
       "    </tr>\n",
       "    <tr>\n",
       "      <th>9763</th>\n",
       "      <td>EP20180155163</td>\n",
       "      <td>0.0033</td>\n",
       "      <td>1</td>\n",
       "      <td>2018</td>\n",
       "      <td>UKK12</td>\n",
       "      <td>0</td>\n",
       "    </tr>\n",
       "    <tr>\n",
       "      <th>9760</th>\n",
       "      <td>EP20180184062</td>\n",
       "      <td>0.0015</td>\n",
       "      <td>1</td>\n",
       "      <td>2018</td>\n",
       "      <td>UKM22</td>\n",
       "      <td>0</td>\n",
       "    </tr>\n",
       "  </tbody>\n",
       "</table>\n",
       "<p>12545 rows × 6 columns</p>\n",
       "</div>"
      ],
      "text/plain": [
       "                 id  diversity  citations  year region  is_Biotech\n",
       "1642  EP19780300180     0.0073          1  1978  UKF22           0\n",
       "5630  EP19780300248     0.0009          1  1978  UKL21           0\n",
       "163   EP19780200049     0.0289          4  1978  UKC22           0\n",
       "656   EP19780300224     0.0021          2  1978  UKJ14           0\n",
       "171   EP19780300375     0.0004          1  1978  UKE32           0\n",
       "...             ...        ...        ...   ...    ...         ...\n",
       "9751  EP20180020259     0.0019          1  2018  UKG24           0\n",
       "9816  EP20180159114     0.0028          1  2018  UKF11           0\n",
       "9774  EP20180212257     0.0025          1  2018  UKJ23           0\n",
       "9763  EP20180155163     0.0033          1  2018  UKK12           0\n",
       "9760  EP20180184062     0.0015          1  2018  UKM22           0\n",
       "\n",
       "[12545 rows x 6 columns]"
      ]
     },
     "execution_count": 271,
     "metadata": {},
     "output_type": "execute_result"
    }
   ],
   "source": [
    "patents_info"
   ]
  },
  {
   "cell_type": "code",
   "execution_count": 307,
   "id": "3a95f573",
   "metadata": {},
   "outputs": [],
   "source": [
    "def Correlation_plots(node_list,ax,label):\n",
    "    \n",
    "\n",
    "    Cit,Div_se = [],[]\n",
    "\n",
    "    for n in node_list:\n",
    "        nbrs_n = list(G.predecessors(n))\n",
    "\n",
    "\n",
    "        div = [Graph_Ent.get_shannon_entropy(i) for i in nbrs_n]\n",
    "\n",
    "\n",
    "        Cit.append(len(nbrs_n))\n",
    "\n",
    "        Div_se.append(np.max(div))\n",
    "\n",
    "    ax.scatter(Cit,Div_se,label=label)\n",
    "    \n",
    "    spr_all = spearmanr(Cit,Div_se)\n",
    "\n",
    "    X_,Y_,yerr_ = [],[],[]\n",
    "\n",
    "    Cit_div = {}\n",
    "\n",
    "    for i,j in zip(Cit,Div_se):\n",
    "\n",
    "        if i not in Cit_div:\n",
    "\n",
    "            Cit_div[i] = [j]\n",
    "\n",
    "        else:\n",
    "            Cit_div[i].append(j)\n",
    "\n",
    "    Cit_div = {i:j for i,j in sorted(Cit_div.items(),key = lambda x:x[0])}\n",
    "\n",
    "    for i in Cit_div:\n",
    "\n",
    "        X_.append(i)\n",
    "\n",
    "        Y_.append(np.mean(Cit_div[i]))\n",
    "\n",
    "        yerr_.append(np.std(Cit_div[i])/np.sqrt(len(Cit_div[i])))\n",
    "\n",
    "    spr_mean = spearmanr(X_,Y_)\n",
    "\n",
    "   \n",
    "    return spr_all,spr_mean\n",
    "\n"
   ]
  },
  {
   "cell_type": "code",
   "execution_count": 303,
   "id": "dce409bb",
   "metadata": {},
   "outputs": [],
   "source": [
    "def get_region_nodes(reg_code,df):\n",
    "    \n",
    "    nList = []\n",
    "    \n",
    "    for i,j in zip(df.id,df.region):\n",
    "        \n",
    "        if (j == reg_code) and (i in biotech_patents_nodes):\n",
    "            nList.append(i)\n",
    "    \n",
    "    return nList"
   ]
  },
  {
   "cell_type": "code",
   "execution_count": 309,
   "id": "f3e01564",
   "metadata": {},
   "outputs": [
    {
     "data": {
      "text/plain": [
       "<matplotlib.legend.Legend at 0x2bf7ac190>"
      ]
     },
     "execution_count": 309,
     "metadata": {},
     "output_type": "execute_result"
    },
    {
     "data": {
      "image/png": "[encoded data removed]",
      "text/plain": [
       "<Figure size 400x400 with 1 Axes>"
      ]
     },
     "metadata": {},
     "output_type": "display_data"
    }
   ],
   "source": [
    "oxford ='UKJ14'\n",
    "cambridge = 'UKH12'\n",
    "\n",
    "oxford_nodes = get_region_nodes(oxford,patents_info)\n",
    "cambridge_nodes = get_region_nodes(cambridge,patents_info)\n",
    "\n",
    "\n",
    "fig = plt.figure(figsize=(4,4))\n",
    "\n",
    "ax = fig.add_subplot(111)\n",
    "\n",
    "Correlation_plots(oxford_nodes,ax,'Oxford')\n",
    "Correlation_plots(cambridge_nodes,ax,'Cambridge')\n",
    "\n",
    "ax.set_xscale('log')\n",
    "ax.set_yscale('log')\n",
    "ax.legend()"
   ]
  },
  {
   "cell_type": "code",
   "execution_count": 317,
   "id": "c9542960",
   "metadata": {},
   "outputs": [],
   "source": [
    "# sns.kdeplot(patents_info.diversity.values)"
   ]
  },
  {
   "cell_type": "code",
   "execution_count": 320,
   "id": "e0681050",
   "metadata": {},
   "outputs": [],
   "source": [
    "def Randomize_two(N_iter,G):\n",
    "    \n",
    "    '''\n",
    "    We shuflle the nodes edges to get the random null model of the graph preserving the degrees\n",
    "    and do the same calculations as we did for the nodes in \n",
    "    the biotech nodes\n",
    "    \n",
    "    '''\n",
    "    \n",
    "    R_spr = []\n",
    "    pval = []\n",
    "    R_spr2 = []\n",
    "    pval2 = []\n",
    "    \n",
    "    nodes = list(G.nodes())\n",
    "    \n",
    "    in_seq = [G.in_degree(i) for i in nodes]\n",
    "    out_seq = [G.out_degree(i) for i in nodes]\n",
    "    \n",
    "    for i in tqdm(range(N_iter)):\n",
    "        \n",
    "        \n",
    "        Gr = nx.directed_configuration_model(in_seq,out_seq)\n",
    "        \n",
    "        nmap_true_to_rand = {i:j for i,j in zip(nodes,Gr.nodes())}\n",
    "        nmap_rand_to_true = {j:i for i,j in zip(nodes,Gr.nodes())}\n",
    "        \n",
    "        Cit,Div_se = [],[]\n",
    "        # for n in tqdm(cited_nodes):\n",
    "        for n in biotech_patents_nodes:\n",
    "            \n",
    "            nbrs_n = list(Gr.predecessors(nmap_true_to_rand[n]))\n",
    "\n",
    "\n",
    "            div = [Graph_Ent.get_shannon_entropy(nmap_rand_to_true[i]) for i in nbrs_n]\n",
    "\n",
    "\n",
    "            Cit.append(len(nbrs_n))\n",
    "\n",
    "            Div_se.append(np.max(div))\n",
    "        \n",
    "        \n",
    "        spr0 = spearmanr(Cit,Div_se)\n",
    "        R_spr.append(spr0.statistic)\n",
    "        pval.append(spr0.pvalue)\n",
    "        \n",
    "        X_,Y_,yerr_ = [],[],[]\n",
    "\n",
    "        Cit_div = {}\n",
    "\n",
    "        for i,j in zip(Cit,Div_se):\n",
    "\n",
    "            if i not in Cit_div:\n",
    "\n",
    "                Cit_div[i] = [j]\n",
    "\n",
    "            else:\n",
    "                Cit_div[i].append(j)\n",
    "\n",
    "        Cit_div = {i:j for i,j in sorted(Cit_div.items(),key = lambda x:x[0])}\n",
    "\n",
    "        for i in Cit_div:\n",
    "\n",
    "            X_.append(i)\n",
    "\n",
    "            Y_.append(np.mean(Cit_div[i]))\n",
    "\n",
    "            yerr_.append(np.std(Cit_div[i])/np.sqrt(len(Cit_div[i])))\n",
    "\n",
    "        spr2 = spearmanr(X_,Y_)\n",
    "        \n",
    "        pval2.append(spr2.pvalue)\n",
    "\n",
    "        R_spr2.append(spr2.statistic)\n",
    "    \n",
    "    return R_spr,pval,R_spr2,pval2\n",
    "\n"
   ]
  },
  {
   "cell_type": "code",
   "execution_count": 323,
   "id": "332b139a",
   "metadata": {},
   "outputs": [
    {
     "name": "stderr",
     "output_type": "stream",
     "text": [
      "100%|█████████████████████████████████████████████████████████████████████████████████████████████████████████████████████████████| 1000/1000 [02:18<00:00,  7.21it/s]\n"
     ]
    }
   ],
   "source": [
    "Rspr,pval1,_,_ = Randomize_two(1000,G)"
   ]
  },
  {
   "cell_type": "code",
   "execution_count": 326,
   "id": "e009061b",
   "metadata": {},
   "outputs": [
    {
     "data": {
      "text/plain": [
       "<matplotlib.legend.Legend at 0x2c2875fa0>"
      ]
     },
     "execution_count": 326,
     "metadata": {},
     "output_type": "execute_result"
    },
    {
     "data": {
      "image/png": "[encoded data removed]",
      "text/plain": [
       "<Figure size 400x400 with 1 Axes>"
      ]
     },
     "metadata": {},
     "output_type": "display_data"
    }
   ],
   "source": [
    "fig = plt.figure(figsize=(4,4))\n",
    "\n",
    "ax = fig.add_subplot(111)\n",
    "\n",
    "corr_all,corr_mean = Correlation_plots(biotech_patents_nodes,ax,'Biotech')\n",
    "\n",
    "ax.set_xscale('log')\n",
    "ax.set_yscale('log')\n",
    "ax.legend()"
   ]
  },
  {
   "cell_type": "code",
   "execution_count": 328,
   "id": "a031cafc",
   "metadata": {},
   "outputs": [
    {
     "data": {
      "text/plain": [
       "(0.3309478235598425, 1.7186000490988683e-17)"
      ]
     },
     "execution_count": 328,
     "metadata": {},
     "output_type": "execute_result"
    }
   ],
   "source": [
    "corr_all.statistic,corr_all.pvalue"
   ]
  },
  {
   "cell_type": "code",
   "execution_count": 329,
   "id": "d0bb7fc7",
   "metadata": {},
   "outputs": [],
   "source": [
    "Rand_corr = [i for i,j in zip(Rspr,pval1) if j < 0.05]"
   ]
  },
  {
   "cell_type": "code",
   "execution_count": 389,
   "id": "a3c24ae8",
   "metadata": {},
   "outputs": [
    {
     "data": {
      "image/png": "[encoded data removed]",
      "text/plain": [
       "<Figure size 400x300 with 1 Axes>"
      ]
     },
     "metadata": {},
     "output_type": "display_data"
    }
   ],
   "source": [
    "plt.figure(figsize=(4,3))\n",
    "sns.kdeplot((Rand_corr-np.mean(Rand_corr))/np.std(Rand_corr),fill='gray',label='Random')\n",
    "plt.axvline((corr_all.statistic-np.mean(Rand_corr))/np.std(Rand_corr),color='darkred',label='Observed')\n",
    "plt.legend()\n",
    "plt.xlabel('z-score')\n",
    "plt.tight_layout()\n",
    "plt.savefig('diversity_null_comparison.png',dpi=500)\n",
    "plt.savefig('diversity_null_comparison.pdf')"
   ]
  },
  {
   "cell_type": "code",
   "execution_count": 346,
   "id": "961a899b",
   "metadata": {},
   "outputs": [
    {
     "data": {
      "text/plain": [
       "-2.532414911599735"
      ]
     },
     "execution_count": 346,
     "metadata": {},
     "output_type": "execute_result"
    }
   ],
   "source": [
    "(corr_all.statistic-np.mean(Rand_corr))/np.std(Rand_corr)"
   ]
  },
  {
   "cell_type": "code",
   "execution_count": 408,
   "id": "d8354582",
   "metadata": {},
   "outputs": [
    {
     "data": {
      "text/plain": [
       "12545"
      ]
     },
     "execution_count": 408,
     "metadata": {},
     "output_type": "execute_result"
    }
   ],
   "source": [
    "len(cited_nodes)"
   ]
  },
  {
   "cell_type": "code",
   "execution_count": 444,
   "id": "ce8710d3",
   "metadata": {},
   "outputs": [
    {
     "data": {
      "text/html": [
       "<div>\n",
       "<style scoped>\n",
       "    .dataframe tbody tr th:only-of-type {\n",
       "        vertical-align: middle;\n",
       "    }\n",
       "\n",
       "    .dataframe tbody tr th {\n",
       "        vertical-align: top;\n",
       "    }\n",
       "\n",
       "    .dataframe thead th {\n",
       "        text-align: right;\n",
       "    }\n",
       "</style>\n",
       "<table border=\"1\" class=\"dataframe\">\n",
       "  <thead>\n",
       "    <tr style=\"text-align: right;\">\n",
       "      <th></th>\n",
       "      <th>id</th>\n",
       "      <th>diversity</th>\n",
       "      <th>citations</th>\n",
       "      <th>year</th>\n",
       "      <th>region</th>\n",
       "      <th>is_Biotech</th>\n",
       "    </tr>\n",
       "  </thead>\n",
       "  <tbody>\n",
       "    <tr>\n",
       "      <th>1642</th>\n",
       "      <td>EP19780300180</td>\n",
       "      <td>0.0073</td>\n",
       "      <td>1</td>\n",
       "      <td>1978</td>\n",
       "      <td>UKF22</td>\n",
       "      <td>0</td>\n",
       "    </tr>\n",
       "    <tr>\n",
       "      <th>5630</th>\n",
       "      <td>EP19780300248</td>\n",
       "      <td>0.0009</td>\n",
       "      <td>1</td>\n",
       "      <td>1978</td>\n",
       "      <td>UKL21</td>\n",
       "      <td>0</td>\n",
       "    </tr>\n",
       "    <tr>\n",
       "      <th>163</th>\n",
       "      <td>EP19780200049</td>\n",
       "      <td>0.0289</td>\n",
       "      <td>4</td>\n",
       "      <td>1978</td>\n",
       "      <td>UKC22</td>\n",
       "      <td>0</td>\n",
       "    </tr>\n",
       "    <tr>\n",
       "      <th>656</th>\n",
       "      <td>EP19780300224</td>\n",
       "      <td>0.0021</td>\n",
       "      <td>2</td>\n",
       "      <td>1978</td>\n",
       "      <td>UKJ14</td>\n",
       "      <td>0</td>\n",
       "    </tr>\n",
       "    <tr>\n",
       "      <th>171</th>\n",
       "      <td>EP19780300375</td>\n",
       "      <td>0.0004</td>\n",
       "      <td>1</td>\n",
       "      <td>1978</td>\n",
       "      <td>UKE32</td>\n",
       "      <td>0</td>\n",
       "    </tr>\n",
       "    <tr>\n",
       "      <th>...</th>\n",
       "      <td>...</td>\n",
       "      <td>...</td>\n",
       "      <td>...</td>\n",
       "      <td>...</td>\n",
       "      <td>...</td>\n",
       "      <td>...</td>\n",
       "    </tr>\n",
       "    <tr>\n",
       "      <th>9751</th>\n",
       "      <td>EP20180020259</td>\n",
       "      <td>0.0019</td>\n",
       "      <td>1</td>\n",
       "      <td>2018</td>\n",
       "      <td>UKG24</td>\n",
       "      <td>0</td>\n",
       "    </tr>\n",
       "    <tr>\n",
       "      <th>9816</th>\n",
       "      <td>EP20180159114</td>\n",
       "      <td>0.0028</td>\n",
       "      <td>1</td>\n",
       "      <td>2018</td>\n",
       "      <td>UKF11</td>\n",
       "      <td>0</td>\n",
       "    </tr>\n",
       "    <tr>\n",
       "      <th>9774</th>\n",
       "      <td>EP20180212257</td>\n",
       "      <td>0.0025</td>\n",
       "      <td>1</td>\n",
       "      <td>2018</td>\n",
       "      <td>UKJ23</td>\n",
       "      <td>0</td>\n",
       "    </tr>\n",
       "    <tr>\n",
       "      <th>9763</th>\n",
       "      <td>EP20180155163</td>\n",
       "      <td>0.0033</td>\n",
       "      <td>1</td>\n",
       "      <td>2018</td>\n",
       "      <td>UKK12</td>\n",
       "      <td>0</td>\n",
       "    </tr>\n",
       "    <tr>\n",
       "      <th>9760</th>\n",
       "      <td>EP20180184062</td>\n",
       "      <td>0.0015</td>\n",
       "      <td>1</td>\n",
       "      <td>2018</td>\n",
       "      <td>UKM22</td>\n",
       "      <td>0</td>\n",
       "    </tr>\n",
       "  </tbody>\n",
       "</table>\n",
       "<p>12545 rows × 6 columns</p>\n",
       "</div>"
      ],
      "text/plain": [
       "                 id  diversity  citations  year region  is_Biotech\n",
       "1642  EP19780300180     0.0073          1  1978  UKF22           0\n",
       "5630  EP19780300248     0.0009          1  1978  UKL21           0\n",
       "163   EP19780200049     0.0289          4  1978  UKC22           0\n",
       "656   EP19780300224     0.0021          2  1978  UKJ14           0\n",
       "171   EP19780300375     0.0004          1  1978  UKE32           0\n",
       "...             ...        ...        ...   ...    ...         ...\n",
       "9751  EP20180020259     0.0019          1  2018  UKG24           0\n",
       "9816  EP20180159114     0.0028          1  2018  UKF11           0\n",
       "9774  EP20180212257     0.0025          1  2018  UKJ23           0\n",
       "9763  EP20180155163     0.0033          1  2018  UKK12           0\n",
       "9760  EP20180184062     0.0015          1  2018  UKM22           0\n",
       "\n",
       "[12545 rows x 6 columns]"
      ]
     },
     "execution_count": 444,
     "metadata": {},
     "output_type": "execute_result"
    }
   ],
   "source": [
    "patents_info"
   ]
  },
  {
   "cell_type": "code",
   "execution_count": 448,
   "id": "12bec3b2",
   "metadata": {},
   "outputs": [],
   "source": [
    "with open('biotech_nodes_labels.csv','w') as f:\n",
    "    \n",
    "    for i in biotech_patents_nodes:\n",
    "        f.write(f'{i}\\n')"
   ]
  },
  {
   "cell_type": "code",
   "execution_count": 447,
   "id": "472d820d",
   "metadata": {},
   "outputs": [
    {
     "data": {
      "text/plain": [
       "['EP19870302620',\n",
       " 'EP19840301996',\n",
       " 'EP19820300416',\n",
       " 'EP19880310000',\n",
       " 'EP19870307668',\n",
       " 'EP19860303039',\n",
       " 'EP19870305732',\n",
       " 'EP19880303157',\n",
       " 'EP19970947810',\n",
       " 'EP19790301773',\n",
       " 'EP19890302331',\n",
       " 'EP19890303964',\n",
       " 'EP19940904295',\n",
       " 'EP19970941124',\n",
       " 'EP19820305029',\n",
       " 'EP19850904274',\n",
       " 'EP19860305604',\n",
       " 'EP20000947546',\n",
       " 'EP20040798623',\n",
       " 'EP19840115345',\n",
       " 'EP19840303090',\n",
       " 'EP19870306547',\n",
       " 'EP19930308029',\n",
       " 'EP19980310350',\n",
       " 'EP19800302498',\n",
       " 'EP19860112386',\n",
       " 'EP19860870123',\n",
       " 'EP19870304433',\n",
       " 'EP19880307641',\n",
       " 'EP19890910909',\n",
       " 'EP19900307236',\n",
       " 'EP19920301465',\n",
       " 'EP20120154614',\n",
       " 'EP19800300431',\n",
       " 'EP19800303328',\n",
       " 'EP19820301140',\n",
       " 'EP19830302451',\n",
       " 'EP19830307819',\n",
       " 'EP19840100521',\n",
       " 'EP19840300003',\n",
       " 'EP19850304169',\n",
       " 'EP19870201286',\n",
       " 'EP19870303535',\n",
       " 'EP19870900856',\n",
       " 'EP19880307148',\n",
       " 'EP19880906008',\n",
       " 'EP19890305563',\n",
       " 'EP19890306923',\n",
       " 'EP19900304575',\n",
       " 'EP19940913174',\n",
       " 'EP20000972153',\n",
       " 'EP20020755137',\n",
       " 'EP20030766486',\n",
       " 'EP20050256103',\n",
       " 'EP20060254200',\n",
       " 'EP19800303797',\n",
       " 'EP19810303373',\n",
       " 'EP19810305551',\n",
       " 'EP19820301170',\n",
       " 'EP19820303580',\n",
       " 'EP19830301651',\n",
       " 'EP19840301987',\n",
       " 'EP19840303086',\n",
       " 'EP19840308981',\n",
       " 'EP19850303302',\n",
       " 'EP19850304013',\n",
       " 'EP19850306272',\n",
       " 'EP19870201288',\n",
       " 'EP19870303135',\n",
       " 'EP19870303996',\n",
       " 'EP19880300429',\n",
       " 'EP19880303803',\n",
       " 'EP19880305450',\n",
       " 'EP19890908847',\n",
       " 'EP19900301561',\n",
       " 'EP19900312870',\n",
       " 'EP19910309596',\n",
       " 'EP19920309740',\n",
       " 'EP19920919846',\n",
       " 'EP19920922609',\n",
       " 'EP19930913383',\n",
       " 'EP19930921048',\n",
       " 'EP19950925915',\n",
       " 'EP19960924096',\n",
       " 'EP19970930670',\n",
       " 'EP19980102990',\n",
       " 'EP19980935181',\n",
       " 'EP19990928129',\n",
       " 'EP19990929561',\n",
       " 'EP19990940294',\n",
       " 'EP20020740887',\n",
       " 'EP20020743424',\n",
       " 'EP20040254370',\n",
       " 'EP20060755670',\n",
       " 'EP20080164655',\n",
       " 'EP20090162439',\n",
       " 'EP20120787672',\n",
       " 'EP19780101447',\n",
       " 'EP19800300514',\n",
       " 'EP19800301724',\n",
       " 'EP19800302902',\n",
       " 'EP19800303478',\n",
       " 'EP19810300538',\n",
       " 'EP19810302809',\n",
       " 'EP19810303247',\n",
       " 'EP19810304084',\n",
       " 'EP19810304946',\n",
       " 'EP19820201253',\n",
       " 'EP19820302265',\n",
       " 'EP19820303035',\n",
       " 'EP19820305198',\n",
       " 'EP19840115346',\n",
       " 'EP19840305102',\n",
       " 'EP19840305114',\n",
       " 'EP19840306810',\n",
       " 'EP19840307496',\n",
       " 'EP19840308773',\n",
       " 'EP19850116284',\n",
       " 'EP19850300508',\n",
       " 'EP19850300802',\n",
       " 'EP19850304172',\n",
       " 'EP19850306144',\n",
       " 'EP19860300431',\n",
       " 'EP19860301170',\n",
       " 'EP19860301708',\n",
       " 'EP19860302651',\n",
       " 'EP19860305029',\n",
       " 'EP19870103041',\n",
       " 'EP19870300839',\n",
       " 'EP19870302344',\n",
       " 'EP19870303166',\n",
       " 'EP19870304878',\n",
       " 'EP19870306535',\n",
       " 'EP19870310710',\n",
       " 'EP19880303645',\n",
       " 'EP19880306446',\n",
       " 'EP19880307927',\n",
       " 'EP19880309842',\n",
       " 'EP19880312043',\n",
       " 'EP19890110717',\n",
       " 'EP19890302755',\n",
       " 'EP19890304820',\n",
       " 'EP19890308759',\n",
       " 'EP19890905449',\n",
       " 'EP19890908238',\n",
       " 'EP19900301477',\n",
       " 'EP19900309502',\n",
       " 'EP19900314106',\n",
       " 'EP19900910807',\n",
       " 'EP19910303868',\n",
       " 'EP19910309420',\n",
       " 'EP19910311252',\n",
       " 'EP19920903535',\n",
       " 'EP19920914110',\n",
       " 'EP19920916361',\n",
       " 'EP19930109443',\n",
       " 'EP19930916049',\n",
       " 'EP19930916059',\n",
       " 'EP19930917945',\n",
       " 'EP19940918929',\n",
       " 'EP19940928450',\n",
       " 'EP19950922672',\n",
       " 'EP19950924414',\n",
       " 'EP19950924437',\n",
       " 'EP19960917584',\n",
       " 'EP19960920919',\n",
       " 'EP19960920953',\n",
       " 'EP19970929411',\n",
       " 'EP19970932920',\n",
       " 'EP19970939098',\n",
       " 'EP19970943048',\n",
       " 'EP19980203620',\n",
       " 'EP19980932361',\n",
       " 'EP19980932420',\n",
       " 'EP19980936499',\n",
       " 'EP19980942845',\n",
       " 'EP19990928110',\n",
       " 'EP19990928111',\n",
       " 'EP19990934933',\n",
       " 'EP20000920881',\n",
       " 'EP20000942249',\n",
       " 'EP20000964467',\n",
       " 'EP20000966291',\n",
       " 'EP20000971521',\n",
       " 'EP20010203352',\n",
       " 'EP20010302864',\n",
       " 'EP20010945526',\n",
       " 'EP20020730533',\n",
       " 'EP20020732970',\n",
       " 'EP20020740910',\n",
       " 'EP20030784298',\n",
       " 'EP20040253078',\n",
       " 'EP20040743090',\n",
       " 'EP20050786353',\n",
       " 'EP20050801585',\n",
       " 'EP20060709814',\n",
       " 'EP20060843125',\n",
       " 'EP20070118291',\n",
       " 'EP20070733392',\n",
       " 'EP20070821877',\n",
       " 'EP20080806563',\n",
       " 'EP20090748778',\n",
       " 'EP20090772811',\n",
       " 'EP20100171298',\n",
       " 'EP20110804968',\n",
       " 'EP20120196956',\n",
       " 'EP20130154614',\n",
       " 'EP19780100395',\n",
       " 'EP19780100463',\n",
       " 'EP19780100717',\n",
       " 'EP19780101826',\n",
       " 'EP19790300312',\n",
       " 'EP19790300811',\n",
       " 'EP19790301731',\n",
       " 'EP19800300086',\n",
       " 'EP19800301479',\n",
       " 'EP19800302307',\n",
       " 'EP19800302991',\n",
       " 'EP19800303133',\n",
       " 'EP19800303992',\n",
       " 'EP19800303993',\n",
       " 'EP19810107367',\n",
       " 'EP19810300496',\n",
       " 'EP19810301360',\n",
       " 'EP19810301476',\n",
       " 'EP19810301996',\n",
       " 'EP19810303055',\n",
       " 'EP19810902975',\n",
       " 'EP19820103147',\n",
       " 'EP19820300116',\n",
       " 'EP19820300391',\n",
       " 'EP19820301078',\n",
       " 'EP19820301193',\n",
       " 'EP19820302892',\n",
       " 'EP19820302977',\n",
       " 'EP19820303158',\n",
       " 'EP19820303666',\n",
       " 'EP19820303667',\n",
       " 'EP19820306243',\n",
       " 'EP19830107252',\n",
       " 'EP19830111621',\n",
       " 'EP19830201054',\n",
       " 'EP19830301856',\n",
       " 'EP19830302129',\n",
       " 'EP19830302679',\n",
       " 'EP19830303845',\n",
       " 'EP19830303997',\n",
       " 'EP19830305988',\n",
       " 'EP19830306150',\n",
       " 'EP19830307165',\n",
       " 'EP19840301027',\n",
       " 'EP19840301882',\n",
       " 'EP19840301997',\n",
       " 'EP19840302508',\n",
       " 'EP19840303497',\n",
       " 'EP19840303517',\n",
       " 'EP19840304469',\n",
       " 'EP19840304545',\n",
       " 'EP19840305113',\n",
       " 'EP19840306256',\n",
       " 'EP19840308027',\n",
       " 'EP19840308240',\n",
       " 'EP19840308570',\n",
       " 'EP19840308758',\n",
       " 'EP19850300357',\n",
       " 'EP19850303113',\n",
       " 'EP19850303946',\n",
       " 'EP19850304893',\n",
       " 'EP19850305911',\n",
       " 'EP19850306572',\n",
       " 'EP19850307346',\n",
       " 'EP19850307350',\n",
       " 'EP19850307356',\n",
       " 'EP19850307357',\n",
       " 'EP19850308277',\n",
       " 'EP19850308952',\n",
       " 'EP19850903337',\n",
       " 'EP19850904474',\n",
       " 'EP19850904476',\n",
       " 'EP19860101297',\n",
       " 'EP19860202335',\n",
       " 'EP19860300143',\n",
       " 'EP19860300169',\n",
       " 'EP19860301092',\n",
       " 'EP19860301276',\n",
       " 'EP19860302424',\n",
       " 'EP19860302650',\n",
       " 'EP19860303916',\n",
       " 'EP19860304860',\n",
       " 'EP19860304998',\n",
       " 'EP19860305325',\n",
       " 'EP19860305814',\n",
       " 'EP19860870007',\n",
       " 'EP19860906386',\n",
       " 'EP19870201287',\n",
       " 'EP19870202560',\n",
       " 'EP19870300840',\n",
       " 'EP19870301431',\n",
       " 'EP19870301955',\n",
       " 'EP19870302832',\n",
       " 'EP19870302836',\n",
       " 'EP19870302864',\n",
       " 'EP19870303862',\n",
       " 'EP19870304879',\n",
       " 'EP19870306343',\n",
       " 'EP19870306513',\n",
       " 'EP19870306569',\n",
       " 'EP19870307496',\n",
       " 'EP19870307885',\n",
       " 'EP19870310709',\n",
       " 'EP19870311201',\n",
       " 'EP19870905234',\n",
       " 'EP19870905772',\n",
       " 'EP19870907123',\n",
       " 'EP19880300279',\n",
       " 'EP19880301348',\n",
       " 'EP19880301897',\n",
       " 'EP19880303432',\n",
       " 'EP19880304868',\n",
       " 'EP19880305973',\n",
       " 'EP19880308677',\n",
       " 'EP19880310094',\n",
       " 'EP19880310160',\n",
       " 'EP19880311208',\n",
       " 'EP19880904580',\n",
       " 'EP19880905974',\n",
       " 'EP19880906964',\n",
       " 'EP19880910079',\n",
       " 'EP19890118741',\n",
       " 'EP19890200164',\n",
       " 'EP19890202954',\n",
       " 'EP19890302174',\n",
       " 'EP19890302740',\n",
       " 'EP19890303528',\n",
       " 'EP19890304570',\n",
       " 'EP19890304572',\n",
       " 'EP19890305574',\n",
       " 'EP19890305579',\n",
       " 'EP19890306057',\n",
       " 'EP19890306228',\n",
       " 'EP19890307463',\n",
       " 'EP19890308606',\n",
       " 'EP19890308607',\n",
       " 'EP19890309172',\n",
       " 'EP19890310496',\n",
       " 'EP19890311982',\n",
       " 'EP19890313492',\n",
       " 'EP19900123697',\n",
       " 'EP19900202692',\n",
       " 'EP19900300780',\n",
       " 'EP19900301135',\n",
       " 'EP19900304029',\n",
       " 'EP19900306942',\n",
       " 'EP19900307967',\n",
       " 'EP19900308542',\n",
       " 'EP19900309570',\n",
       " 'EP19900313683',\n",
       " 'EP19900901626',\n",
       " 'EP19900912314',\n",
       " 'EP19900912817',\n",
       " 'EP19900912970',\n",
       " 'EP19900914249',\n",
       " 'EP19900915320',\n",
       " 'EP19910203365',\n",
       " 'EP19910302397',\n",
       " 'EP19910911486',\n",
       " 'EP19910912865',\n",
       " 'EP19910918844',\n",
       " 'EP19910919487',\n",
       " 'EP19920201136',\n",
       " 'EP19920303681',\n",
       " 'EP19920306509',\n",
       " 'EP19920308657',\n",
       " 'EP19920906335',\n",
       " 'EP19920914059',\n",
       " 'EP19920914060',\n",
       " 'EP19920915233',\n",
       " 'EP19920915667',\n",
       " 'EP19920918005',\n",
       " 'EP19920919152',\n",
       " 'EP19920921508',\n",
       " 'EP19920922800',\n",
       " 'EP19920923909',\n",
       " 'EP19930108628',\n",
       " 'EP19930303090',\n",
       " 'EP19930905520',\n",
       " 'EP19930914869',\n",
       " 'EP19930914893',\n",
       " 'EP19930916096',\n",
       " 'EP19930917889',\n",
       " 'EP19930917957',\n",
       " 'EP19930920971',\n",
       " 'EP19940200747',\n",
       " 'EP19940201456',\n",
       " 'EP19940202118',\n",
       " 'EP19940908062',\n",
       " 'EP19940918931',\n",
       " 'EP19940918967',\n",
       " 'EP19940921706',\n",
       " 'EP19940921720',\n",
       " 'EP19940926887',\n",
       " 'EP19940927716',\n",
       " 'EP19940931150',\n",
       " 'EP19950201085',\n",
       " 'EP19950900129',\n",
       " 'EP19950901509',\n",
       " 'EP19950902906',\n",
       " 'EP19950912320',\n",
       " 'EP19950921033',\n",
       " 'EP19950923485',\n",
       " 'EP19950923486',\n",
       " 'EP19950925919',\n",
       " 'EP19950925934',\n",
       " 'EP19950928575',\n",
       " 'EP19950934087',\n",
       " 'EP19950937947',\n",
       " 'EP19950940911',\n",
       " 'EP19950941325',\n",
       " 'EP19960107088',\n",
       " 'EP19960920921',\n",
       " 'EP19960920966',\n",
       " 'EP19960920970',\n",
       " 'EP19960924976',\n",
       " 'EP19960925915',\n",
       " 'EP19960928607',\n",
       " 'EP19960929260',\n",
       " 'EP19960931895',\n",
       " 'EP19960940238',\n",
       " 'EP19960944807',\n",
       " 'EP19970909438',\n",
       " 'EP19970919133',\n",
       " 'EP19970929377',\n",
       " 'EP19970930515',\n",
       " 'EP19970930626',\n",
       " 'EP19970930649',\n",
       " 'EP19970930662',\n",
       " 'EP19970931904',\n",
       " 'EP19970931925',\n",
       " 'EP19970933776',\n",
       " 'EP19970940238',\n",
       " 'EP19970943046',\n",
       " 'EP19970943976',\n",
       " 'EP19970944976',\n",
       " 'EP19970945992',\n",
       " 'EP19970947162',\n",
       " 'EP19980200371',\n",
       " 'EP19980203642',\n",
       " 'EP19980304779',\n",
       " 'EP19980304782',\n",
       " 'EP19980304786',\n",
       " 'EP19980304797',\n",
       " 'EP19980304798',\n",
       " 'EP19980305244',\n",
       " 'EP19980305991',\n",
       " 'EP19980913729',\n",
       " 'EP19980922932',\n",
       " 'EP19980930957',\n",
       " 'EP19980931639',\n",
       " 'EP19980932298',\n",
       " 'EP19980932340',\n",
       " 'EP19980932417',\n",
       " 'EP19980935160',\n",
       " 'EP19980937666',\n",
       " 'EP19980938832',\n",
       " 'EP19980940467',\n",
       " 'EP19980942898',\n",
       " 'EP19980943527',\n",
       " 'EP19980943529',\n",
       " 'EP19980944772',\n",
       " 'EP19980946571',\n",
       " 'EP19980947691',\n",
       " 'EP19980957019',\n",
       " 'EP19980958354',\n",
       " 'EP19980959998',\n",
       " 'EP19980966702',\n",
       " 'EP19990302129',\n",
       " 'EP19990303985',\n",
       " 'EP19990306777',\n",
       " 'EP19990931378',\n",
       " 'EP19990933037',\n",
       " 'EP19990934930',\n",
       " 'EP19990934969',\n",
       " 'EP19990940399',\n",
       " 'EP19990943138',\n",
       " 'EP19990947700',\n",
       " 'EP19990947762',\n",
       " 'EP19990949183',\n",
       " 'EP19990954130',\n",
       " 'EP19990954197',\n",
       " 'EP19990954249',\n",
       " 'EP19990954269',\n",
       " 'EP19990956209',\n",
       " 'EP19990959535',\n",
       " 'EP20000308854',\n",
       " 'EP20000309075',\n",
       " 'EP20000309364',\n",
       " 'EP20000309722',\n",
       " 'EP20000901186',\n",
       " 'EP20000940615',\n",
       " 'EP20000940625',\n",
       " 'EP20000940656',\n",
       " 'EP20000940660',\n",
       " 'EP20000946079',\n",
       " 'EP20000949803',\n",
       " 'EP20000954791',\n",
       " 'EP20000964501',\n",
       " 'EP20000966331',\n",
       " 'EP20000971502',\n",
       " 'EP20000971557',\n",
       " 'EP20000971618',\n",
       " 'EP20000985660',\n",
       " 'EP20000989964',\n",
       " 'EP20000990049',\n",
       " 'EP20010308959',\n",
       " 'EP20010949625',\n",
       " 'EP20010953264',\n",
       " 'EP20010955460',\n",
       " 'EP20010956714',\n",
       " 'EP20010956718',\n",
       " 'EP20010966751',\n",
       " 'EP20010984650',\n",
       " 'EP20010984657',\n",
       " 'EP20020004895',\n",
       " 'EP20020079785',\n",
       " 'EP20020080462',\n",
       " 'EP20020739055',\n",
       " 'EP20020740892',\n",
       " 'EP20020740905',\n",
       " 'EP20020740937',\n",
       " 'EP20020740946',\n",
       " 'EP20020743381',\n",
       " 'EP20020749066',\n",
       " 'EP20020751399',\n",
       " 'EP20020767701',\n",
       " 'EP20020772539',\n",
       " 'EP20020774168',\n",
       " 'EP20020774936',\n",
       " 'EP20030735831',\n",
       " 'EP20030738286',\n",
       " 'EP20030738310',\n",
       " 'EP20030740789',\n",
       " 'EP20030765071',\n",
       " 'EP20030767088',\n",
       " 'EP20030771199',\n",
       " 'EP20030782586',\n",
       " 'EP20030793900',\n",
       " 'EP20030809070',\n",
       " 'EP20030809776',\n",
       " 'EP20040011047',\n",
       " 'EP20040254885',\n",
       " 'EP20040715906',\n",
       " 'EP20040736075',\n",
       " 'EP20040743400',\n",
       " 'EP20040743538',\n",
       " 'EP20040743600',\n",
       " 'EP20040768438',\n",
       " 'EP20040768934',\n",
       " 'EP20040777947',\n",
       " 'EP20040798502',\n",
       " 'EP20040805893',\n",
       " 'EP20050256886',\n",
       " 'EP20050755584',\n",
       " 'EP20050756424',\n",
       " 'EP20050757405',\n",
       " 'EP20050759783',\n",
       " 'EP20060010364',\n",
       " 'EP20060026271',\n",
       " 'EP20060116780',\n",
       " 'EP20060253472',\n",
       " 'EP20060703945',\n",
       " 'EP20060719306',\n",
       " 'EP20060755636',\n",
       " 'EP20060764897',\n",
       " 'EP20060779902',\n",
       " 'EP20060808411',\n",
       " 'EP20060820379',\n",
       " 'EP20060843122',\n",
       " 'EP20070250470',\n",
       " 'EP20070700383',\n",
       " 'EP20070733347',\n",
       " 'EP20070789070',\n",
       " 'EP20070824726',\n",
       " 'EP20070848538',\n",
       " 'EP20080700170',\n",
       " 'EP20080737092',\n",
       " 'EP20080806646',\n",
       " 'EP20080829556',\n",
       " 'EP20080843112',\n",
       " 'EP20080848298',\n",
       " 'EP20080853256',\n",
       " 'EP20090001755',\n",
       " 'EP20090006022',\n",
       " 'EP20090749063',\n",
       " 'EP20090772814',\n",
       " 'EP20090784654',\n",
       " 'EP20090801425',\n",
       " 'EP20100007906',\n",
       " 'EP20100180384',\n",
       " 'EP20100180445',\n",
       " 'EP20100275038',\n",
       " 'EP20100734546',\n",
       " 'EP20100739971',\n",
       " 'EP20100747062',\n",
       " 'EP20100793017',\n",
       " 'EP20100801235',\n",
       " 'EP20110734173',\n",
       " 'EP20110738779',\n",
       " 'EP20110779842',\n",
       " 'EP20110782663',\n",
       " 'EP20110791249',\n",
       " 'EP20120180488',\n",
       " 'EP20120180490',\n",
       " 'EP20120772122',\n",
       " 'EP20120821295',\n",
       " 'EP20120845284',\n",
       " 'EP20130164430',\n",
       " 'EP20130173828',\n",
       " 'EP20130187592',\n",
       " 'EP20140155565',\n",
       " 'EP20140179941',\n",
       " 'EP20140195004',\n",
       " 'EP20140198959',\n",
       " 'EP20140725498',\n",
       " 'EP20150790624',\n",
       " 'EP20150801162',\n",
       " 'EP20160151214',\n",
       " 'EP20160151215']"
      ]
     },
     "execution_count": 447,
     "metadata": {},
     "output_type": "execute_result"
    }
   ],
   "source": [
    "biotech_patents_nodes"
   ]
  },
  {
   "cell_type": "code",
   "execution_count": 454,
   "id": "4e592a46",
   "metadata": {},
   "outputs": [],
   "source": [
    "biotech_patents\n",
    "\n",
    "with open('top5_biotech_nodes_labels.csv','w') as f:\n",
    "    \n",
    "    for i in biotech_patents[:5]:\n",
    "        f.write(f'{i[0]}\\n')"
   ]
  },
  {
   "cell_type": "code",
   "execution_count": null,
   "id": "f3d741a8",
   "metadata": {},
   "outputs": [],
   "source": []
  }
 ],
 "metadata": {
  "kernelspec": {
   "display_name": "Python 3 (ipykernel)",
   "language": "python",
   "name": "python3"
  },
  "language_info": {
   "codemirror_mode": {
    "name": "ipython",
    "version": 3
   },
   "file_extension": ".py",
   "mimetype": "text/x-python",
   "name": "python",
   "nbconvert_exporter": "python",
   "pygments_lexer": "ipython3",
   "version": "3.9.16"
  }
 },
 "nbformat": 4,
 "nbformat_minor": 5
}
