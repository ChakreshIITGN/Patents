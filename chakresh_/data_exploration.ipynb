{
 "cells": [
  {
   "cell_type": "code",
   "execution_count": 57,
   "id": "717f81eb",
   "metadata": {},
   "outputs": [
    {
     "name": "stderr",
     "output_type": "stream",
     "text": [
      "<frozen importlib._bootstrap>:228: RuntimeWarning: scipy._lib.messagestream.MessageStream size changed, may indicate binary incompatibility. Expected 56 from C header, got 64 from PyObject\n"
     ]
    }
   ],
   "source": [
    "import pandas as pd \n",
    "import numpy as np \n",
    "import matplotlib.pyplot as plt \n",
    "import seaborn as sns\n",
    "%matplotlib inline \n",
    "\n"
   ]
  },
  {
   "cell_type": "code",
   "execution_count": 5,
   "id": "75d2e8e7",
   "metadata": {},
   "outputs": [],
   "source": [
    "UK_patents = pd.read_csv('data/Patents/UK_Patents_cited_wIPC.csv', header=0,sep=',')"
   ]
  },
  {
   "cell_type": "code",
   "execution_count": 6,
   "id": "e74e8a8b",
   "metadata": {},
   "outputs": [
    {
     "data": {
      "text/html": [
       "<div>\n",
       "<style scoped>\n",
       "    .dataframe tbody tr th:only-of-type {\n",
       "        vertical-align: middle;\n",
       "    }\n",
       "\n",
       "    .dataframe tbody tr th {\n",
       "        vertical-align: top;\n",
       "    }\n",
       "\n",
       "    .dataframe thead th {\n",
       "        text-align: right;\n",
       "    }\n",
       "</style>\n",
       "<table border=\"1\" class=\"dataframe\">\n",
       "  <thead>\n",
       "    <tr style=\"text-align: right;\">\n",
       "      <th></th>\n",
       "      <th>app_nbr</th>\n",
       "      <th>appln_id</th>\n",
       "      <th>pub_nbr</th>\n",
       "      <th>person_id</th>\n",
       "      <th>inv_name</th>\n",
       "      <th>address</th>\n",
       "      <th>reg_code</th>\n",
       "      <th>ctry_code</th>\n",
       "      <th>reg_share</th>\n",
       "      <th>inv_share</th>\n",
       "      <th>prio_year</th>\n",
       "      <th>app_year</th>\n",
       "      <th>IPC</th>\n",
       "    </tr>\n",
       "  </thead>\n",
       "  <tbody>\n",
       "    <tr>\n",
       "      <th>0</th>\n",
       "      <td>EP20020258685</td>\n",
       "      <td>1303</td>\n",
       "      <td>1324097</td>\n",
       "      <td>2975</td>\n",
       "      <td>Maddison, John R.</td>\n",
       "      <td>10 Lonsdale Gardens,Tunbridge Wells, Kent TN1 1NU</td>\n",
       "      <td>UKJ42</td>\n",
       "      <td>GB</td>\n",
       "      <td>1.0</td>\n",
       "      <td>0.5</td>\n",
       "      <td>2001</td>\n",
       "      <td>2002</td>\n",
       "      <td>G02B021/00</td>\n",
       "    </tr>\n",
       "    <tr>\n",
       "      <th>1</th>\n",
       "      <td>EP20020258685</td>\n",
       "      <td>1303</td>\n",
       "      <td>1324097</td>\n",
       "      <td>2976</td>\n",
       "      <td>Clinch, Noah F.</td>\n",
       "      <td>10 Lonsdale Gardens,Tunbridge Wells, Kent TN1 1NU</td>\n",
       "      <td>UKJ42</td>\n",
       "      <td>GB</td>\n",
       "      <td>1.0</td>\n",
       "      <td>0.5</td>\n",
       "      <td>2001</td>\n",
       "      <td>2002</td>\n",
       "      <td>G02B021/00</td>\n",
       "    </tr>\n",
       "    <tr>\n",
       "      <th>2</th>\n",
       "      <td>EP20060250283</td>\n",
       "      <td>1972</td>\n",
       "      <td>1691541</td>\n",
       "      <td>49614001</td>\n",
       "      <td>Gouch, Martin Philip</td>\n",
       "      <td>16 Edenhall Close,Hemel Hempstead,Hertfordshir...</td>\n",
       "      <td>UKH23</td>\n",
       "      <td>GB</td>\n",
       "      <td>1.0</td>\n",
       "      <td>1.0</td>\n",
       "      <td>2005</td>\n",
       "      <td>2006</td>\n",
       "      <td>G02B007/38</td>\n",
       "    </tr>\n",
       "    <tr>\n",
       "      <th>3</th>\n",
       "      <td>EP20060251704</td>\n",
       "      <td>1977</td>\n",
       "      <td>1717134</td>\n",
       "      <td>5487</td>\n",
       "      <td>Hayes, Anthony</td>\n",
       "      <td>68 Cheltenham Crescent Runcorn,Cheshire WA7 4YT</td>\n",
       "      <td>UKD71</td>\n",
       "      <td>GB</td>\n",
       "      <td>1.0</td>\n",
       "      <td>1.0</td>\n",
       "      <td>2005</td>\n",
       "      <td>2006</td>\n",
       "      <td>B62D053/08</td>\n",
       "    </tr>\n",
       "    <tr>\n",
       "      <th>4</th>\n",
       "      <td>EP20060794909</td>\n",
       "      <td>2112</td>\n",
       "      <td>1952644</td>\n",
       "      <td>5984</td>\n",
       "      <td>JAMES, Jason, Lee</td>\n",
       "      <td>6 Cauldecott Close,Northampton NN4 9QN</td>\n",
       "      <td>UKF24</td>\n",
       "      <td>GB</td>\n",
       "      <td>1.0</td>\n",
       "      <td>1.0</td>\n",
       "      <td>2005</td>\n",
       "      <td>2006</td>\n",
       "      <td>H04Q001/14</td>\n",
       "    </tr>\n",
       "  </tbody>\n",
       "</table>\n",
       "</div>"
      ],
      "text/plain": [
       "         app_nbr  appln_id  pub_nbr  person_id              inv_name  \\\n",
       "0  EP20020258685      1303  1324097       2975     Maddison, John R.   \n",
       "1  EP20020258685      1303  1324097       2976       Clinch, Noah F.   \n",
       "2  EP20060250283      1972  1691541   49614001  Gouch, Martin Philip   \n",
       "3  EP20060251704      1977  1717134       5487        Hayes, Anthony   \n",
       "4  EP20060794909      2112  1952644       5984     JAMES, Jason, Lee   \n",
       "\n",
       "                                             address reg_code ctry_code  \\\n",
       "0  10 Lonsdale Gardens,Tunbridge Wells, Kent TN1 1NU    UKJ42        GB   \n",
       "1  10 Lonsdale Gardens,Tunbridge Wells, Kent TN1 1NU    UKJ42        GB   \n",
       "2  16 Edenhall Close,Hemel Hempstead,Hertfordshir...    UKH23        GB   \n",
       "3    68 Cheltenham Crescent Runcorn,Cheshire WA7 4YT    UKD71        GB   \n",
       "4             6 Cauldecott Close,Northampton NN4 9QN    UKF24        GB   \n",
       "\n",
       "   reg_share  inv_share  prio_year  app_year         IPC  \n",
       "0        1.0        0.5       2001      2002  G02B021/00  \n",
       "1        1.0        0.5       2001      2002  G02B021/00  \n",
       "2        1.0        1.0       2005      2006  G02B007/38  \n",
       "3        1.0        1.0       2005      2006  B62D053/08  \n",
       "4        1.0        1.0       2005      2006  H04Q001/14  "
      ]
     },
     "execution_count": 6,
     "metadata": {},
     "output_type": "execute_result"
    }
   ],
   "source": [
    "UK_patents.head()"
   ]
  },
  {
   "cell_type": "code",
   "execution_count": 7,
   "id": "ef73919c",
   "metadata": {},
   "outputs": [],
   "source": [
    "UK_patents_grp = UK_patents.groupby('IPC')"
   ]
  },
  {
   "cell_type": "code",
   "execution_count": 201,
   "id": "00d9ec6b",
   "metadata": {},
   "outputs": [],
   "source": [
    "PTC_patents = pd.read_csv('data/Patents/PCT_citation_UK_withIPC_loc.csv', header=0,sep=',',index_col=0)\n",
    "PTC_patents = PTC_patents.sort_values(by = ['app_year'])\n",
    "\n",
    "PTC_patents = PTC_patents[PTC_patents['ctry_code']=='GB']"
   ]
  },
  {
   "cell_type": "code",
   "execution_count": 202,
   "id": "0c6ebdd7",
   "metadata": {},
   "outputs": [
    {
     "data": {
      "text/html": [
       "<div>\n",
       "<style scoped>\n",
       "    .dataframe tbody tr th:only-of-type {\n",
       "        vertical-align: middle;\n",
       "    }\n",
       "\n",
       "    .dataframe tbody tr th {\n",
       "        vertical-align: top;\n",
       "    }\n",
       "\n",
       "    .dataframe thead th {\n",
       "        text-align: right;\n",
       "    }\n",
       "</style>\n",
       "<table border=\"1\" class=\"dataframe\">\n",
       "  <thead>\n",
       "    <tr style=\"text-align: right;\">\n",
       "      <th></th>\n",
       "      <th>Citing_app_nbr</th>\n",
       "      <th>Citing_appln_id</th>\n",
       "      <th>Cited_pub_nbr</th>\n",
       "      <th>Cited_Appln_id</th>\n",
       "      <th>Citn_origin</th>\n",
       "      <th>Citn_lag_year</th>\n",
       "      <th>Citn_lag_month</th>\n",
       "      <th>ISA</th>\n",
       "      <th>Citing_app_nbr_EPO</th>\n",
       "      <th>Cited_App_nbr_EPO</th>\n",
       "      <th>prio_year</th>\n",
       "      <th>app_year</th>\n",
       "      <th>IPC</th>\n",
       "      <th>pct_nbr</th>\n",
       "      <th>appln_id</th>\n",
       "      <th>inv_name</th>\n",
       "      <th>address</th>\n",
       "      <th>reg_code</th>\n",
       "      <th>ctry_code</th>\n",
       "      <th>inv_share</th>\n",
       "    </tr>\n",
       "  </thead>\n",
       "  <tbody>\n",
       "    <tr>\n",
       "      <th>70990</th>\n",
       "      <td>WO2000000662</td>\n",
       "      <td>21293868</td>\n",
       "      <td>WO1999022060</td>\n",
       "      <td>23245667.0</td>\n",
       "      <td>APP</td>\n",
       "      <td>1.0</td>\n",
       "      <td>16.0</td>\n",
       "      <td></td>\n",
       "      <td>EP19990928131</td>\n",
       "      <td>EP19970932920</td>\n",
       "      <td>1978</td>\n",
       "      <td>1978</td>\n",
       "      <td>C23C016/40</td>\n",
       "      <td>WO2000000662</td>\n",
       "      <td>23275816.0</td>\n",
       "      <td>CHOY, Kwang-Leong</td>\n",
       "      <td>Cheylesmore, Coventry CV3 5EQ</td>\n",
       "      <td>UKG33</td>\n",
       "      <td>GB</td>\n",
       "      <td>0.5</td>\n",
       "    </tr>\n",
       "    <tr>\n",
       "      <th>70986</th>\n",
       "      <td>WO2000000662</td>\n",
       "      <td>21293868</td>\n",
       "      <td>WO1999022060</td>\n",
       "      <td>23245667.0</td>\n",
       "      <td>APP</td>\n",
       "      <td>1.0</td>\n",
       "      <td>16.0</td>\n",
       "      <td></td>\n",
       "      <td>EP19790900070</td>\n",
       "      <td>EP19970932920</td>\n",
       "      <td>1978</td>\n",
       "      <td>1978</td>\n",
       "      <td>C23C016/40</td>\n",
       "      <td>WO2000000662</td>\n",
       "      <td>23275816.0</td>\n",
       "      <td>CHOY, Kwang-Leong</td>\n",
       "      <td>Cheylesmore, Coventry CV3 5EQ</td>\n",
       "      <td>UKG33</td>\n",
       "      <td>GB</td>\n",
       "      <td>0.5</td>\n",
       "    </tr>\n",
       "    <tr>\n",
       "      <th>113</th>\n",
       "      <td>WO1982000152</td>\n",
       "      <td>2369864</td>\n",
       "      <td>WO1981003594</td>\n",
       "      <td>2359967.0</td>\n",
       "      <td>ISR</td>\n",
       "      <td>2.0</td>\n",
       "      <td>15.0</td>\n",
       "      <td>AU</td>\n",
       "      <td>EP19810901800</td>\n",
       "      <td>EP19790900680</td>\n",
       "      <td>1980</td>\n",
       "      <td>1981</td>\n",
       "      <td>C08L081/02</td>\n",
       "      <td>WO1982000152</td>\n",
       "      <td>22728213.0</td>\n",
       "      <td>GLYNDWR, John Davies</td>\n",
       "      <td>Cowley, Uxbridge, Middlesex</td>\n",
       "      <td>UKI23</td>\n",
       "      <td>GB</td>\n",
       "      <td>1.0</td>\n",
       "    </tr>\n",
       "    <tr>\n",
       "      <th>280</th>\n",
       "      <td>WO1985000003</td>\n",
       "      <td>2392308</td>\n",
       "      <td>WO1982002732</td>\n",
       "      <td>6511269.0</td>\n",
       "      <td>ISR</td>\n",
       "      <td>4.0</td>\n",
       "      <td>42.0</td>\n",
       "      <td>AU</td>\n",
       "      <td>EP19840902522</td>\n",
       "      <td>EP19810901695</td>\n",
       "      <td>1983</td>\n",
       "      <td>1984</td>\n",
       "      <td>A01G025/02</td>\n",
       "      <td>WO1985000003</td>\n",
       "      <td>22809696.0</td>\n",
       "      <td>Sanders, Bernard</td>\n",
       "      <td>Channel Islands</td>\n",
       "      <td>GBZZZ</td>\n",
       "      <td>GB</td>\n",
       "      <td>1.0</td>\n",
       "    </tr>\n",
       "    <tr>\n",
       "      <th>115</th>\n",
       "      <td>WO1986000185</td>\n",
       "      <td>22874605</td>\n",
       "      <td>WO1981003131</td>\n",
       "      <td>11495497.0</td>\n",
       "      <td>ISR</td>\n",
       "      <td>5.0</td>\n",
       "      <td>59.0</td>\n",
       "      <td>EP</td>\n",
       "      <td>EP19850902618</td>\n",
       "      <td>EP19790900680</td>\n",
       "      <td>1984</td>\n",
       "      <td>1985</td>\n",
       "      <td>H04L001/00</td>\n",
       "      <td>WO1986000185</td>\n",
       "      <td>22842477.0</td>\n",
       "      <td>BRAMWELL, John</td>\n",
       "      <td>Ivybridge Devon PL21 9DH</td>\n",
       "      <td>UKK43</td>\n",
       "      <td>GB</td>\n",
       "      <td>0.5</td>\n",
       "    </tr>\n",
       "    <tr>\n",
       "      <th>...</th>\n",
       "      <td>...</td>\n",
       "      <td>...</td>\n",
       "      <td>...</td>\n",
       "      <td>...</td>\n",
       "      <td>...</td>\n",
       "      <td>...</td>\n",
       "      <td>...</td>\n",
       "      <td>...</td>\n",
       "      <td>...</td>\n",
       "      <td>...</td>\n",
       "      <td>...</td>\n",
       "      <td>...</td>\n",
       "      <td>...</td>\n",
       "      <td>...</td>\n",
       "      <td>...</td>\n",
       "      <td>...</td>\n",
       "      <td>...</td>\n",
       "      <td>...</td>\n",
       "      <td>...</td>\n",
       "      <td>...</td>\n",
       "    </tr>\n",
       "    <tr>\n",
       "      <th>110810</th>\n",
       "      <td>WO2018055377</td>\n",
       "      <td>491738803</td>\n",
       "      <td>WO1993013302</td>\n",
       "      <td>11628656.0</td>\n",
       "      <td>APP</td>\n",
       "      <td>25.0</td>\n",
       "      <td>302.0</td>\n",
       "      <td></td>\n",
       "      <td>EP20170777642</td>\n",
       "      <td>EP19900910797</td>\n",
       "      <td>2016</td>\n",
       "      <td>2017</td>\n",
       "      <td>G06K009/46</td>\n",
       "      <td>WO2018055377</td>\n",
       "      <td>484590352.0</td>\n",
       "      <td>RAO, Dushyant</td>\n",
       "      <td>Oxford Oxfordshire OX1 3PJ</td>\n",
       "      <td>UKJ14</td>\n",
       "      <td>GB</td>\n",
       "      <td>0.2</td>\n",
       "    </tr>\n",
       "    <tr>\n",
       "      <th>183001</th>\n",
       "      <td>WO2019012149</td>\n",
       "      <td>506598412</td>\n",
       "      <td>WO2009104107</td>\n",
       "      <td>57027194.0</td>\n",
       "      <td>APP</td>\n",
       "      <td>10.0</td>\n",
       "      <td>119.0</td>\n",
       "      <td></td>\n",
       "      <td>EP20180746115</td>\n",
       "      <td>EP20080839560</td>\n",
       "      <td>2017</td>\n",
       "      <td>2018</td>\n",
       "      <td>C07D403/06</td>\n",
       "      <td>WO2019012149</td>\n",
       "      <td>497002437.0</td>\n",
       "      <td>Forrest, Michael, David</td>\n",
       "      <td>Poole, Dorset BH14 8LY</td>\n",
       "      <td>UKK21</td>\n",
       "      <td>GB</td>\n",
       "      <td>1.0</td>\n",
       "    </tr>\n",
       "    <tr>\n",
       "      <th>185277</th>\n",
       "      <td>WO2019014248</td>\n",
       "      <td>507280130</td>\n",
       "      <td>WO2015057873</td>\n",
       "      <td>423662559.0</td>\n",
       "      <td>APP</td>\n",
       "      <td>4.0</td>\n",
       "      <td>51.0</td>\n",
       "      <td></td>\n",
       "      <td>EP20180752650</td>\n",
       "      <td>EP20130780381</td>\n",
       "      <td>2017</td>\n",
       "      <td>2018</td>\n",
       "      <td>H04L029/06</td>\n",
       "      <td>WO2019014248</td>\n",
       "      <td>498076832.0</td>\n",
       "      <td>SHEN, Yun</td>\n",
       "      <td>Reading Berkshire RG2 6UH</td>\n",
       "      <td>UKJ11</td>\n",
       "      <td>GB</td>\n",
       "      <td>0.5</td>\n",
       "    </tr>\n",
       "    <tr>\n",
       "      <th>185273</th>\n",
       "      <td>WO2019014248</td>\n",
       "      <td>507280130</td>\n",
       "      <td>WO2010145998</td>\n",
       "      <td>316288693.0</td>\n",
       "      <td>APP</td>\n",
       "      <td>9.0</td>\n",
       "      <td>103.0</td>\n",
       "      <td></td>\n",
       "      <td>EP20180752650</td>\n",
       "      <td>EP20090756784</td>\n",
       "      <td>2017</td>\n",
       "      <td>2018</td>\n",
       "      <td>H04L029/06</td>\n",
       "      <td>WO2019014248</td>\n",
       "      <td>498076832.0</td>\n",
       "      <td>SHEN, Yun</td>\n",
       "      <td>Reading Berkshire RG2 6UH</td>\n",
       "      <td>UKJ11</td>\n",
       "      <td>GB</td>\n",
       "      <td>0.5</td>\n",
       "    </tr>\n",
       "    <tr>\n",
       "      <th>185275</th>\n",
       "      <td>WO2019014248</td>\n",
       "      <td>507280130</td>\n",
       "      <td>WO2009118411</td>\n",
       "      <td>56939830.0</td>\n",
       "      <td>APP</td>\n",
       "      <td>10.0</td>\n",
       "      <td>117.0</td>\n",
       "      <td></td>\n",
       "      <td>EP20180752650</td>\n",
       "      <td>EP20080806361</td>\n",
       "      <td>2017</td>\n",
       "      <td>2018</td>\n",
       "      <td>H04L029/06</td>\n",
       "      <td>WO2019014248</td>\n",
       "      <td>498076832.0</td>\n",
       "      <td>SHEN, Yun</td>\n",
       "      <td>Reading Berkshire RG2 6UH</td>\n",
       "      <td>UKJ11</td>\n",
       "      <td>GB</td>\n",
       "      <td>0.5</td>\n",
       "    </tr>\n",
       "  </tbody>\n",
       "</table>\n",
       "<p>8110 rows × 20 columns</p>\n",
       "</div>"
      ],
      "text/plain": [
       "       Citing_app_nbr  Citing_appln_id Cited_pub_nbr  Cited_Appln_id  \\\n",
       "70990    WO2000000662         21293868  WO1999022060      23245667.0   \n",
       "70986    WO2000000662         21293868  WO1999022060      23245667.0   \n",
       "113      WO1982000152          2369864  WO1981003594       2359967.0   \n",
       "280      WO1985000003          2392308  WO1982002732       6511269.0   \n",
       "115      WO1986000185         22874605  WO1981003131      11495497.0   \n",
       "...               ...              ...           ...             ...   \n",
       "110810   WO2018055377        491738803  WO1993013302      11628656.0   \n",
       "183001   WO2019012149        506598412  WO2009104107      57027194.0   \n",
       "185277   WO2019014248        507280130  WO2015057873     423662559.0   \n",
       "185273   WO2019014248        507280130  WO2010145998     316288693.0   \n",
       "185275   WO2019014248        507280130  WO2009118411      56939830.0   \n",
       "\n",
       "       Citn_origin  Citn_lag_year  Citn_lag_month ISA Citing_app_nbr_EPO  \\\n",
       "70990          APP            1.0            16.0          EP19990928131   \n",
       "70986          APP            1.0            16.0          EP19790900070   \n",
       "113            ISR            2.0            15.0  AU      EP19810901800   \n",
       "280            ISR            4.0            42.0  AU      EP19840902522   \n",
       "115            ISR            5.0            59.0  EP      EP19850902618   \n",
       "...            ...            ...             ...  ..                ...   \n",
       "110810         APP           25.0           302.0          EP20170777642   \n",
       "183001         APP           10.0           119.0          EP20180746115   \n",
       "185277         APP            4.0            51.0          EP20180752650   \n",
       "185273         APP            9.0           103.0          EP20180752650   \n",
       "185275         APP           10.0           117.0          EP20180752650   \n",
       "\n",
       "       Cited_App_nbr_EPO  prio_year  app_year         IPC       pct_nbr  \\\n",
       "70990      EP19970932920       1978      1978  C23C016/40  WO2000000662   \n",
       "70986      EP19970932920       1978      1978  C23C016/40  WO2000000662   \n",
       "113        EP19790900680       1980      1981  C08L081/02  WO1982000152   \n",
       "280        EP19810901695       1983      1984  A01G025/02  WO1985000003   \n",
       "115        EP19790900680       1984      1985  H04L001/00  WO1986000185   \n",
       "...                  ...        ...       ...         ...           ...   \n",
       "110810     EP19900910797       2016      2017  G06K009/46  WO2018055377   \n",
       "183001     EP20080839560       2017      2018  C07D403/06  WO2019012149   \n",
       "185277     EP20130780381       2017      2018  H04L029/06  WO2019014248   \n",
       "185273     EP20090756784       2017      2018  H04L029/06  WO2019014248   \n",
       "185275     EP20080806361       2017      2018  H04L029/06  WO2019014248   \n",
       "\n",
       "           appln_id                 inv_name                        address  \\\n",
       "70990    23275816.0        CHOY, Kwang-Leong  Cheylesmore, Coventry CV3 5EQ   \n",
       "70986    23275816.0        CHOY, Kwang-Leong  Cheylesmore, Coventry CV3 5EQ   \n",
       "113      22728213.0     GLYNDWR, John Davies    Cowley, Uxbridge, Middlesex   \n",
       "280      22809696.0         Sanders, Bernard                Channel Islands   \n",
       "115      22842477.0           BRAMWELL, John       Ivybridge Devon PL21 9DH   \n",
       "...             ...                      ...                            ...   \n",
       "110810  484590352.0            RAO, Dushyant     Oxford Oxfordshire OX1 3PJ   \n",
       "183001  497002437.0  Forrest, Michael, David         Poole, Dorset BH14 8LY   \n",
       "185277  498076832.0                SHEN, Yun      Reading Berkshire RG2 6UH   \n",
       "185273  498076832.0                SHEN, Yun      Reading Berkshire RG2 6UH   \n",
       "185275  498076832.0                SHEN, Yun      Reading Berkshire RG2 6UH   \n",
       "\n",
       "       reg_code ctry_code  inv_share  \n",
       "70990     UKG33        GB        0.5  \n",
       "70986     UKG33        GB        0.5  \n",
       "113       UKI23        GB        1.0  \n",
       "280       GBZZZ        GB        1.0  \n",
       "115       UKK43        GB        0.5  \n",
       "...         ...       ...        ...  \n",
       "110810    UKJ14        GB        0.2  \n",
       "183001    UKK21        GB        1.0  \n",
       "185277    UKJ11        GB        0.5  \n",
       "185273    UKJ11        GB        0.5  \n",
       "185275    UKJ11        GB        0.5  \n",
       "\n",
       "[8110 rows x 20 columns]"
      ]
     },
     "execution_count": 202,
     "metadata": {},
     "output_type": "execute_result"
    }
   ],
   "source": [
    "PTC_patents"
   ]
  },
  {
   "cell_type": "code",
   "execution_count": 174,
   "id": "9099641c",
   "metadata": {},
   "outputs": [],
   "source": [
    "all_cited_epos_uk = set(UK_patents.app_nbr.values.astype(str))"
   ]
  },
  {
   "cell_type": "code",
   "execution_count": 175,
   "id": "888ecf4a",
   "metadata": {},
   "outputs": [],
   "source": [
    "all_cited_epos_ptc = set(PTC_patents.Cited_App_nbr_EPO.values.astype(str))"
   ]
  },
  {
   "cell_type": "code",
   "execution_count": 176,
   "id": "b52d7385",
   "metadata": {},
   "outputs": [
    {
     "data": {
      "text/plain": [
       "0.060463783450160916"
      ]
     },
     "execution_count": 176,
     "metadata": {},
     "output_type": "execute_result"
    }
   ],
   "source": [
    "len(all_cited_epos.intersection(all_cited_epos_ptc))/len(all_cited_epos)"
   ]
  },
  {
   "cell_type": "code",
   "execution_count": 177,
   "id": "1768284b",
   "metadata": {},
   "outputs": [],
   "source": [
    "all_citing_epos_ptc = set(PTC_patents.Citing_app_nbr_EPO.values.astype(str))"
   ]
  },
  {
   "cell_type": "code",
   "execution_count": 178,
   "id": "4ae9d525",
   "metadata": {},
   "outputs": [
    {
     "data": {
      "text/plain": [
       "0.022770356654763478"
      ]
     },
     "execution_count": 178,
     "metadata": {},
     "output_type": "execute_result"
    }
   ],
   "source": [
    "len(all_cited_epos_uk.intersection(all_citing_epos_ptc))/len(all_cited_epos_uk)"
   ]
  },
  {
   "cell_type": "code",
   "execution_count": 179,
   "id": "30abf3ed",
   "metadata": {},
   "outputs": [
    {
     "data": {
      "text/plain": [
       "45366"
      ]
     },
     "execution_count": 179,
     "metadata": {},
     "output_type": "execute_result"
    }
   ],
   "source": [
    "len(all_cited_epos_uk)"
   ]
  },
  {
   "cell_type": "code",
   "execution_count": 180,
   "id": "a28bfb56",
   "metadata": {},
   "outputs": [
    {
     "data": {
      "text/plain": [
       "907.32"
      ]
     },
     "execution_count": 180,
     "metadata": {},
     "output_type": "execute_result"
    }
   ],
   "source": [
    "0.02 * len(all_cited_epos_uk)"
   ]
  },
  {
   "cell_type": "code",
   "execution_count": 185,
   "id": "f6b90669",
   "metadata": {},
   "outputs": [],
   "source": [
    "with open('data/test_network_PTC_forGephi.csv', 'w') as f:\n",
    "    \n",
    "    f.write('source,target,Timestamps\\n')\n",
    "    \n",
    "    for i,j,k in zip(PTC_patents.Citing_app_nbr_EPO,PTC_patents.Cited_App_nbr_EPO,PTC_patents.app_year):\n",
    "        \n",
    "        f.write(f'{i},{j},{k}\\n')\n",
    "        \n",
    "with open('data/test_network_PTC_forNx.csv', 'w') as f:\n",
    "    \n",
    "    for i,j,k in zip(PTC_patents.Citing_app_nbr_EPO,PTC_patents.Cited_App_nbr_EPO,PTC_patents.app_year):\n",
    "        \n",
    "        f.write(f'{i},{j}\\n')"
   ]
  },
  {
   "cell_type": "code",
   "execution_count": 186,
   "id": "55e66792",
   "metadata": {},
   "outputs": [],
   "source": [
    "import networkx as nx \n"
   ]
  },
  {
   "cell_type": "code",
   "execution_count": 187,
   "id": "3934b8e4",
   "metadata": {},
   "outputs": [],
   "source": [
    "G = nx.read_edgelist('data/test_network_PTC_forNx.csv',create_using=nx.DiGraph(),delimiter=',')"
   ]
  },
  {
   "cell_type": "code",
   "execution_count": 188,
   "id": "9f417f66",
   "metadata": {},
   "outputs": [],
   "source": [
    "In_degree_dist = [j for i,j in dict(G.in_degree()).items()]\n",
    "\n",
    "Out_degree_dist = [j for i,j in dict(G.out_degree()).items()]"
   ]
  },
  {
   "cell_type": "code",
   "execution_count": 189,
   "id": "b9a6e06b",
   "metadata": {},
   "outputs": [],
   "source": [
    "def degree_dist(L):\n",
    "    \n",
    "    x,y = np.unique(L,return_counts=True)\n",
    "    \n",
    "    return x,y/sum(y)\n",
    "\n",
    "def ccdf(L):\n",
    "    \n",
    "    Ls = np.sort(np.unique(L))\n",
    "    \n",
    "    ccdf = np.zeros(len(Ls))\n",
    "    \n",
    "    for i,val in enumerate(Ls):\n",
    "        \n",
    "        ccdf[i] = np.sum(Ls>=val)/len(Ls)\n",
    "        \n",
    "    return Ls,ccdf"
   ]
  },
  {
   "cell_type": "code",
   "execution_count": 220,
   "id": "f2cf4f98",
   "metadata": {},
   "outputs": [],
   "source": [
    "k_i,P_ki = degree_dist(In_degree_dist)\n",
    "k_o,P_ko = degree_dist(Out_degree_dist)\n",
    "\n",
    "k_i,ccdf_ki = ccdf(In_degree_dist)\n",
    "k_o,ccdf_ko = ccdf(Out_degree_dist)"
   ]
  },
  {
   "cell_type": "code",
   "execution_count": 222,
   "id": "d3b6681c",
   "metadata": {},
   "outputs": [
    {
     "data": {
      "image/png": "[encoded data removed]",
      "text/plain": [
       "<Figure size 400x400 with 1 Axes>"
      ]
     },
     "metadata": {},
     "output_type": "display_data"
    }
   ],
   "source": [
    "plt.figure(figsize=(4,4))\n",
    "sns.scatterplot(x=k_i,y=P_ki,label='indegree')\n",
    "sns.scatterplot(x=k_o,y=P_ko,label='out degree')\n",
    "plt.xscale('log')\n",
    "plt.yscale('log')"
   ]
  },
  {
   "cell_type": "code",
   "execution_count": 224,
   "id": "98d40cd4",
   "metadata": {},
   "outputs": [
    {
     "data": {
      "image/png": "[encoded data removed]",
      "text/plain": [
       "<Figure size 400x400 with 1 Axes>"
      ]
     },
     "metadata": {},
     "output_type": "display_data"
    }
   ],
   "source": [
    "plt.figure(figsize=(4,4))\n",
    "sns.lineplot(x=k_i,y=ccdf_ki,label='indegree')\n",
    "sns.lineplot(x=k_o,y=ccdf_ko,label='out degree')\n",
    "plt.xscale('log')\n",
    "plt.yscale('log')"
   ]
  },
  {
   "cell_type": "code",
   "execution_count": 193,
   "id": "37e42346",
   "metadata": {},
   "outputs": [],
   "source": [
    "def create_patent_citation_network(DF,delta_T):\n",
    "    \n",
    "    '''\n",
    "        This creates a directed citation network using the DF where the edge is counted only if it is younger\n",
    "        than delta_T \n",
    "    '''\n",
    "    \n",
    "    return None \n",
    "\n",
    "### we don't have the years for all the nodes "
   ]
  },
  {
   "cell_type": "code",
   "execution_count": 194,
   "id": "5f7a5f59",
   "metadata": {},
   "outputs": [],
   "source": [
    "### Basic Statistics on the patent application \n",
    "\n",
    "PTC_patents_grouped_byYr = PTC_patents.groupby('app_year')"
   ]
  },
  {
   "cell_type": "code",
   "execution_count": 195,
   "id": "3c86efe0",
   "metadata": {},
   "outputs": [],
   "source": [
    "x,y = PTC_patents_grouped_byYr.size().index,PTC_patents_grouped_byYr.size().values"
   ]
  },
  {
   "cell_type": "code",
   "execution_count": 214,
   "id": "c1af803d",
   "metadata": {},
   "outputs": [],
   "source": [
    "def lineplot(x,y,xlabel,ylabel,scale=True):\n",
    "    \n",
    "    fig = plt.figure(figsize=(4,3))\n",
    "    \n",
    "    ax = fig.add_subplot(111)\n",
    "    \n",
    "    sns.lineplot(x=x,y=y,ax=ax)\n",
    "    \n",
    "    ax.set_xlabel(xlabel)\n",
    "    ax.set_ylabel(ylabel)\n",
    "    if scale:\n",
    "        \n",
    "        ax.set_yscale('log')\n",
    "    fig.tight_layout()\n",
    "    fig.show()\n",
    "    return ax"
   ]
  },
  {
   "cell_type": "code",
   "execution_count": 215,
   "id": "c247c02f",
   "metadata": {},
   "outputs": [
    {
     "name": "stderr",
     "output_type": "stream",
     "text": [
      "/var/folders/nh/5jq2mlf15kvc6qs_xh074tn80000gn/T/ipykernel_29997/607368270.py:15: UserWarning: Matplotlib is currently using module://matplotlib_inline.backend_inline, which is a non-GUI backend, so cannot show the figure.\n",
      "  fig.show()\n"
     ]
    },
    {
     "data": {
      "text/plain": [
       "<Axes: xlabel='Years', ylabel='Citations'>"
      ]
     },
     "execution_count": 215,
     "metadata": {},
     "output_type": "execute_result"
    },
    {
     "data": {
      "image/png": "[encoded data removed]",
      "text/plain": [
       "<Figure size 400x300 with 1 Axes>"
      ]
     },
     "metadata": {},
     "output_type": "display_data"
    }
   ],
   "source": [
    "lineplot(x,np.cumsum(y),'Years','Citations')"
   ]
  },
  {
   "cell_type": "code",
   "execution_count": 216,
   "id": "82cb2806",
   "metadata": {},
   "outputs": [
    {
     "name": "stderr",
     "output_type": "stream",
     "text": [
      "/var/folders/nh/5jq2mlf15kvc6qs_xh074tn80000gn/T/ipykernel_29997/607368270.py:15: UserWarning: Matplotlib is currently using module://matplotlib_inline.backend_inline, which is a non-GUI backend, so cannot show the figure.\n",
      "  fig.show()\n"
     ]
    },
    {
     "data": {
      "text/plain": [
       "<Axes: xlabel='Years', ylabel='Citations'>"
      ]
     },
     "execution_count": 216,
     "metadata": {},
     "output_type": "execute_result"
    },
    {
     "data": {
      "image/png": "[encoded data removed]",
      "text/plain": [
       "<Figure size 400x300 with 1 Axes>"
      ]
     },
     "metadata": {},
     "output_type": "display_data"
    }
   ],
   "source": [
    "lineplot(x,y,'Years','Citations',scale=False)"
   ]
  },
  {
   "cell_type": "code",
   "execution_count": null,
   "id": "e5b47103",
   "metadata": {},
   "outputs": [],
   "source": []
  },
  {
   "cell_type": "code",
   "execution_count": null,
   "id": "c3ce81a4",
   "metadata": {},
   "outputs": [],
   "source": []
  }
 ],
 "metadata": {
  "kernelspec": {
   "display_name": "Python 3 (ipykernel)",
   "language": "python",
   "name": "python3"
  },
  "language_info": {
   "codemirror_mode": {
    "name": "ipython",
    "version": 3
   },
   "file_extension": ".py",
   "mimetype": "text/x-python",
   "name": "python",
   "nbconvert_exporter": "python",
   "pygments_lexer": "ipython3",
   "version": "3.9.16"
  }
 },
 "nbformat": 4,
 "nbformat_minor": 5
}
