{
 "cells": [
  {
   "cell_type": "code",
   "execution_count": 1,
   "id": "2babdaae",
   "metadata": {},
   "outputs": [
    {
     "data": {
      "text/html": [
       "<style>.container { width:90% !important; }</style>"
      ],
      "text/plain": [
       "<IPython.core.display.HTML object>"
      ]
     },
     "metadata": {},
     "output_type": "display_data"
    }
   ],
   "source": [
    "# Adjusting screen \n",
    "from IPython.display import display, HTML\n",
    "display(HTML(\"<style>.container { width:90% !important; }</style>\"))"
   ]
  },
  {
   "cell_type": "code",
   "execution_count": 43,
   "id": "f8793814",
   "metadata": {},
   "outputs": [],
   "source": [
    "biotech_classes = [\"A01H001\", \"A01H004\", \"A01K067\", \"A01K035/12\", \"A01K035/13\", \"A01K035/14\",\"A01K035/15\", \"A01K035/16\", \"A01K035/17\", \"A01K035/18\", \"A01K035/19\", \"A01K035/20\", \"A01K035/21\", \"A01K035/22\", \"A01K035/23\", \"A01K035/24\", \"A01K035/25\", \"A01K035/26\", \"A01K035/27\", \"A01K035/28\", \"A01K035/29\", \"A01K035/30\", \"A01K035/31\", \"A01K305/32\", \"A01K035/33\", \"A01K035/34\", \"A01K035/35\", \"A01K035/36\", \"A01K035/37\", \"A01K035/38\", \"A01K035/39\", \"A01K035/40\", \"A01K035/41\", \"A01K035/42\", \"A01K035/43\", \"A01K035/44\", \"A01K035/45\", \"A01K035/46\", \"A01K035/47\", \"A01K035/48\", \"A01K035/49\", \"A01K035/50\", \"A01K035/51\", \"A01K035/52\", \"A01K035/53\", \"A01K035/54\", \"A01K035/55\", \"A01K035/56\", \"A01K035/57\", \"A01K035/58\", \"A01K035/59\", \"A01K035/60\", \"A01K035/61\", \"A01K035/62\", \"A01K035/63\", \"A01K035/64\", \"A01K035/65\", \"A01K035/66\", \"A01K035/67\", \"A01K035/68\", \"A01K035/69\", \"A01K035/70\", \"A01K035/71\", \"A01K035/72\", \"A01K035/73\", \"A01K035/74\", \"A01K035/75\", \"A01K035/76\", \"A01K035/77\", \"A01K035/78\", \"A01K035/79\", \"A61K38\", \"A61K039\", \"A16K048\", \"C02F003/34\", \"C07G011\", \"C07G013\", \"C07G015\", \"C07K004\", \"C07K014\", \"C07K016\", \"C07K017\", \"C07K019\", \"C12M\", \"C12N\", \"C12P\", \"C12Q\", \"C40B010\", \"C40B040/02\", \"C40B040/03\",\"C40B040/04\", \"C40B040/05\", \"C40B040/06\", \"C40B040/07\", \"C40B040/08\", \"C40B050/06\", \"G01N027/327\", \"G01N033/53\", \"G01N033/54\", \"G01N033/55\", \"G01N033/57\", \"G01N033/68\", \"G01N033/74\", \"G01N033/76\", \"G01N033/78\", \"G01N033/88\", \"G01N033/92\", \"G06F019/10\",\"G06F019/11\", \"G06F019/12\", \"G06F019/13\", \"G06F019/14\", \"G06F019/15\", \"G06F019/16\", \"G06F019/17\", \"G06F019/18\", \"G06F019/20\", \"G06F019/21\", \"G06F019/22\", \"G06F019/23\", \"G06F019/24\"]"
   ]
  },
  {
   "cell_type": "code",
   "execution_count": 47,
   "id": "db43e9cd",
   "metadata": {},
   "outputs": [],
   "source": [
    "biotech_classes_ELSA = [\n",
    "    'A01H1',\n",
    "    'A01H4',\n",
    "    'A01K67',\n",
    "    'A61K48',\n",
    "    'C12M',\n",
    "    'C12N',\n",
    "    'C12P',\n",
    "    'C12Q',\n",
    "    'G01N27/327',\n",
    "    'C07K4',\n",
    "    'C07K14', \n",
    "    'C07K16',\n",
    "    'C07K17',\n",
    "    'C07K19',\n",
    "    'C40B10',\n",
    "    'G01N3353',\n",
    "    'G01N3354',\n",
    "    'G01N3355',\n",
    "    'G01N3357',\n",
    "    'G01N3368',\n",
    "    'G01N3374',\n",
    "    'G01N3376',\n",
    "    'G01N3378',\n",
    "    'G01N3388',\n",
    "    'G01N3392',\n",
    "    'C07G11', \n",
    "    'C07G13', \n",
    "    'C07G15',\n",
    "    'C02F3/34',\n",
    "    'A61K38',\n",
    "    'A61K39',\n",
    "    'C40B50/06',\n",
    "    'A61K35/12', 'A61K35/13', 'A61K35/14', 'A61K35/15', 'A61K35/16', 'A61K35/17', 'A61K35/18', 'A61K35/19', 'A61K35/20', 'A61K35/21', 'A61K35/22', 'A61K35/23', 'A61K35/24', 'A61K35/25', 'A61K35/26', 'A61K35/27', 'A61K35/28', 'A61K35/29', 'A61K35/30', 'A61K35/31', 'A61K35/32', 'A61K35/33', 'A61K35/34', 'A61K35/35', 'A61K35/36', 'A61K35/37', 'A61K35/38', 'A61K35/39', 'A61K35/40', 'A61K35/41', 'A61K35/42', 'A61K35/43', 'A61K35/44', 'A61K35/45', 'A61K35/46', 'A61K35/47', 'A61K35/48', 'A61K35/49', 'A61K35/50', 'A61K35/51', 'A61K35/52', 'A61K35/53', 'A61K35/54', 'A61K35/55', 'A61K35/56', 'A61K35/57', 'A61K35/58', 'A61K35/59', 'A61K35/60', 'A61K35/61', 'A61K35/62', 'A61K35/63', 'A61K35/64', 'A61K35/65', 'A61K35/66', 'A61K35/67', 'A61K35/68', 'A61K35/69', 'A61K35/70', 'A61K35/71', 'A61K35/72', 'A61K35/73', 'A61K35/74', 'A61K35/75', 'A61K35/76', 'A61K35/77', 'A61K35/78', 'A61K35/79',\n",
    "    'C40B40/02', 'C40B40/03', 'C40B40/04', 'C40B40/05', 'C40B40/06', 'C40B40/07', 'C40B40/08',\n",
    "    'G06F19/10', 'G06F19/11', 'G06F19/12', 'G06F19/13', 'G06F19/14', 'G06F19/15', 'G06F19/16', 'G06F19/17', 'G06F19/18',\n",
    "    'G06F19/20', 'G06F19/21', 'G06F19/22', 'G06F19/23', 'G06F19/24'\n",
    "]"
   ]
  },
  {
   "cell_type": "code",
   "execution_count": 3,
   "id": "333d56d4",
   "metadata": {},
   "outputs": [],
   "source": [
    "import networkx as nx\n",
    "import random\n",
    "from mpl_toolkits.mplot3d import Axes3D\n",
    "import matplotlib.pyplot as plt\n",
    "import numpy as np\n",
    "import IPython\n",
    "from tqdm import tqdm\n",
    "import pandas as pd\n",
    "import matplotlib as mpl\n",
    "from itertools import count\n",
    "import geopandas as gpd\n",
    "import pydot\n",
    "from networkx.drawing.nx_pydot import to_pydot\n",
    "import igraph as ig\n",
    "import matplotlib.pyplot as plt\n",
    "import matplotlib.pylab as pl\n",
    "from textwrap import wrap\n",
    "\n",
    "plt.rcParams[\"font.family\"] = \"Helvetica Neue\"\n",
    "\n",
    "%matplotlib inline"
   ]
  },
  {
   "cell_type": "code",
   "execution_count": 4,
   "id": "9bdd8d7f",
   "metadata": {},
   "outputs": [],
   "source": [
    "IPC_descriptions = pd.read_csv('/Users/joebacchus/Desktop/Bartlett CASA/All_IPC.txt',sep='\t').astype(str)\n",
    "def translate_ipc(IPC):\n",
    "    return list(IPC_descriptions.loc[IPC_descriptions['IPC'] == IPC]['Description'])"
   ]
  },
  {
   "cell_type": "code",
   "execution_count": 5,
   "id": "25531f9a",
   "metadata": {},
   "outputs": [],
   "source": [
    "IPCs_raw = pd.read_csv('/Users/joebacchus/Desktop/Bartlett CASA/Data Updated/Patents/UK_patent_all_IPC_2.csv')\n",
    "Patents_raw = pd.read_csv('/Users/joebacchus/Desktop/Bartlett CASA/Data Updated/Patents/UK_Patents_cited_wIPC.csv')[['app_nbr','appln_id','reg_code','prio_year','IPC']].drop_duplicates()\n",
    "Citations_raw = pd.read_csv('/Users/joebacchus/Desktop/Bartlett CASA/Data Updated/Patents/UK_patent_citations.csv')\n",
    "Citations_raw_2 = pd.read_csv('/Users/joebacchus/Desktop/Bartlett CASA/Data Updated/Patents/EPO_citation_UK_withIPC_loc.csv')"
   ]
  },
  {
   "cell_type": "code",
   "execution_count": 13,
   "id": "a68f37fa",
   "metadata": {},
   "outputs": [
    {
     "name": "stdout",
     "output_type": "stream",
     "text": [
      "Unique patents: 64918\n"
     ]
    }
   ],
   "source": [
    "# IPCs_raw\n",
    "print('Unique patents:',len(IPCs_raw['Citing_appln_id'].unique()))"
   ]
  },
  {
   "cell_type": "code",
   "execution_count": 14,
   "id": "d546a059",
   "metadata": {},
   "outputs": [
    {
     "name": "stdout",
     "output_type": "stream",
     "text": [
      "Unique patents: 45366\n"
     ]
    }
   ],
   "source": [
    "# Patents_raw\n",
    "print('Unique patents:',len(Patents_raw['app_nbr'].unique()))"
   ]
  },
  {
   "cell_type": "code",
   "execution_count": 28,
   "id": "d5e1fbdd",
   "metadata": {},
   "outputs": [
    {
     "name": "stdout",
     "output_type": "stream",
     "text": [
      "Unique patents: 25857\n"
     ]
    }
   ],
   "source": [
    "# Citations_raw\n",
    "print('Unique patents:',len(set(list(Citations_raw['source'].unique())+list(Citations_raw['target'].unique()))))"
   ]
  },
  {
   "cell_type": "code",
   "execution_count": 51,
   "id": "233e82aa",
   "metadata": {},
   "outputs": [
    {
     "name": "stdout",
     "output_type": "stream",
     "text": [
      "Unique patents: 15748\n"
     ]
    }
   ],
   "source": [
    "# Citations_raw cite at least once\n",
    "print('Unique patents:',len(set(list(Citations_raw['source'].unique()))))"
   ]
  },
  {
   "cell_type": "code",
   "execution_count": 52,
   "id": "36c5e260",
   "metadata": {},
   "outputs": [
    {
     "name": "stdout",
     "output_type": "stream",
     "text": [
      "Unique patents: 12545\n"
     ]
    }
   ],
   "source": [
    "# Citations_raw cited at least once\n",
    "print('Unique patents:',len(set(list(Citations_raw['target'].unique()))))"
   ]
  },
  {
   "cell_type": "code",
   "execution_count": 32,
   "id": "503204c3",
   "metadata": {},
   "outputs": [
    {
     "name": "stdout",
     "output_type": "stream",
     "text": [
      "Unique patents: 90150\n"
     ]
    }
   ],
   "source": [
    "# Citations_raw_2\n",
    "print('Unique patents:',len(set(list(Citations_raw_2['Citing_app_nbr'].unique())+list(Citations_raw_2['Cited_App_nbr'].unique()))))"
   ]
  },
  {
   "cell_type": "code",
   "execution_count": 48,
   "id": "0e027213",
   "metadata": {},
   "outputs": [
    {
     "name": "stdout",
     "output_type": "stream",
     "text": [
      "Not unique: 1407\n"
     ]
    }
   ],
   "source": [
    "print('Not unique:',len(biotech_pd['app_nbr']))"
   ]
  },
  {
   "cell_type": "code",
   "execution_count": 50,
   "id": "ea1aeb6b",
   "metadata": {},
   "outputs": [
    {
     "name": "stdout",
     "output_type": "stream",
     "text": [
      "Unique: 1016\n"
     ]
    }
   ],
   "source": [
    "print('Unique:',len(biotech_pd['app_nbr'].unique()))"
   ]
  },
  {
   "cell_type": "code",
   "execution_count": 145,
   "id": "29f8087a",
   "metadata": {},
   "outputs": [],
   "source": [
    "Citations_raw_2 = Citations_raw_2[['Citing_appln_id','Cited_Appln_id']].astype(str).drop_duplicates()"
   ]
  },
  {
   "cell_type": "code",
   "execution_count": 59,
   "id": "758d2c8e",
   "metadata": {},
   "outputs": [
    {
     "data": {
      "text/html": [
       "<div>\n",
       "<style scoped>\n",
       "    .dataframe tbody tr th:only-of-type {\n",
       "        vertical-align: middle;\n",
       "    }\n",
       "\n",
       "    .dataframe tbody tr th {\n",
       "        vertical-align: top;\n",
       "    }\n",
       "\n",
       "    .dataframe thead th {\n",
       "        text-align: right;\n",
       "    }\n",
       "</style>\n",
       "<table border=\"1\" class=\"dataframe\">\n",
       "  <thead>\n",
       "    <tr style=\"text-align: right;\">\n",
       "      <th></th>\n",
       "      <th>Citing_appln_id</th>\n",
       "      <th>ipc_class_symbol</th>\n",
       "    </tr>\n",
       "  </thead>\n",
       "  <tbody>\n",
       "    <tr>\n",
       "      <th>0</th>\n",
       "      <td>64</td>\n",
       "      <td>D21F1/32</td>\n",
       "    </tr>\n",
       "    <tr>\n",
       "      <th>1</th>\n",
       "      <td>64</td>\n",
       "      <td>D21G9/00</td>\n",
       "    </tr>\n",
       "    <tr>\n",
       "      <th>2</th>\n",
       "      <td>64</td>\n",
       "      <td>G01N15/08</td>\n",
       "    </tr>\n",
       "    <tr>\n",
       "      <th>3</th>\n",
       "      <td>76</td>\n",
       "      <td>A47C7/46</td>\n",
       "    </tr>\n",
       "    <tr>\n",
       "      <th>4</th>\n",
       "      <td>76</td>\n",
       "      <td>B60N2/66</td>\n",
       "    </tr>\n",
       "    <tr>\n",
       "      <th>...</th>\n",
       "      <td>...</td>\n",
       "      <td>...</td>\n",
       "    </tr>\n",
       "    <tr>\n",
       "      <th>300842</th>\n",
       "      <td>509041326</td>\n",
       "      <td>G01J1/16</td>\n",
       "    </tr>\n",
       "    <tr>\n",
       "      <th>300843</th>\n",
       "      <td>509041326</td>\n",
       "      <td>G01N21/31</td>\n",
       "    </tr>\n",
       "    <tr>\n",
       "      <th>300844</th>\n",
       "      <td>509041326</td>\n",
       "      <td>G01N21/3504</td>\n",
       "    </tr>\n",
       "    <tr>\n",
       "      <th>300845</th>\n",
       "      <td>509351327</td>\n",
       "      <td>E04B1/41</td>\n",
       "    </tr>\n",
       "    <tr>\n",
       "      <th>300846</th>\n",
       "      <td>509351327</td>\n",
       "      <td>E04G15/04</td>\n",
       "    </tr>\n",
       "  </tbody>\n",
       "</table>\n",
       "<p>300847 rows × 2 columns</p>\n",
       "</div>"
      ],
      "text/plain": [
       "        Citing_appln_id ipc_class_symbol\n",
       "0                    64         D21F1/32\n",
       "1                    64         D21G9/00\n",
       "2                    64        G01N15/08\n",
       "3                    76         A47C7/46\n",
       "4                    76         B60N2/66\n",
       "...                 ...              ...\n",
       "300842        509041326         G01J1/16\n",
       "300843        509041326        G01N21/31\n",
       "300844        509041326      G01N21/3504\n",
       "300845        509351327         E04B1/41\n",
       "300846        509351327        E04G15/04\n",
       "\n",
       "[300847 rows x 2 columns]"
      ]
     },
     "execution_count": 59,
     "metadata": {},
     "output_type": "execute_result"
    }
   ],
   "source": [
    "IPCs_raw['ipc_class_symbol'] = IPCs_raw['ipc_class_symbol'].str.replace(' ','')\n",
    "IPCs_raw"
   ]
  },
  {
   "cell_type": "code",
   "execution_count": 172,
   "id": "587aa16f",
   "metadata": {},
   "outputs": [
    {
     "name": "stderr",
     "output_type": "stream",
     "text": [
      "100%|█████████████████████████████████████████| 121/121 [00:11<00:00, 10.52it/s]\n"
     ]
    }
   ],
   "source": [
    "biotech_pd=pd.DataFrame()\n",
    "for i in tqdm(range(len(biotech_classes))):\n",
    "    filt_for_type = IPCs_raw['ipc_class_symbol'].str.contains('^'+biotech_classes[i]).fillna(False)\n",
    "    biotech_spec = IPCs_raw.loc[filt_for_type]\n",
    "    biotech_pd = pd.concat([biotech_pd, biotech_spec], ignore_index=True)"
   ]
  },
  {
   "cell_type": "code",
   "execution_count": 173,
   "id": "165ecf94",
   "metadata": {},
   "outputs": [],
   "source": [
    "biotech_pd = biotech_pd.astype(str)\n",
    "only = list(set(biotech_pd['Citing_appln_id']))"
   ]
  },
  {
   "cell_type": "code",
   "execution_count": 174,
   "id": "3c45b5d2",
   "metadata": {},
   "outputs": [
    {
     "data": {
      "text/html": [
       "<div>\n",
       "<style scoped>\n",
       "    .dataframe tbody tr th:only-of-type {\n",
       "        vertical-align: middle;\n",
       "    }\n",
       "\n",
       "    .dataframe tbody tr th {\n",
       "        vertical-align: top;\n",
       "    }\n",
       "\n",
       "    .dataframe thead th {\n",
       "        text-align: right;\n",
       "    }\n",
       "</style>\n",
       "<table border=\"1\" class=\"dataframe\">\n",
       "  <thead>\n",
       "    <tr style=\"text-align: right;\">\n",
       "      <th></th>\n",
       "      <th>Citing_appln_id</th>\n",
       "      <th>ipc_class_symbol</th>\n",
       "    </tr>\n",
       "  </thead>\n",
       "  <tbody>\n",
       "    <tr>\n",
       "      <th>0</th>\n",
       "      <td>3103</td>\n",
       "      <td>A61K38/00</td>\n",
       "    </tr>\n",
       "    <tr>\n",
       "      <th>1</th>\n",
       "      <td>3103</td>\n",
       "      <td>A61K38/39</td>\n",
       "    </tr>\n",
       "    <tr>\n",
       "      <th>2</th>\n",
       "      <td>3967</td>\n",
       "      <td>A61K38/05</td>\n",
       "    </tr>\n",
       "    <tr>\n",
       "      <th>3</th>\n",
       "      <td>4497</td>\n",
       "      <td>A61K38/00</td>\n",
       "    </tr>\n",
       "    <tr>\n",
       "      <th>4</th>\n",
       "      <td>5166</td>\n",
       "      <td>A61K38/00</td>\n",
       "    </tr>\n",
       "    <tr>\n",
       "      <th>...</th>\n",
       "      <td>...</td>\n",
       "      <td>...</td>\n",
       "    </tr>\n",
       "    <tr>\n",
       "      <th>8503</th>\n",
       "      <td>497237987</td>\n",
       "      <td>C12Q1/68</td>\n",
       "    </tr>\n",
       "    <tr>\n",
       "      <th>8504</th>\n",
       "      <td>500378750</td>\n",
       "      <td>C12Q1/6883</td>\n",
       "    </tr>\n",
       "    <tr>\n",
       "      <th>8505</th>\n",
       "      <td>500856061</td>\n",
       "      <td>C12Q1/68</td>\n",
       "    </tr>\n",
       "    <tr>\n",
       "      <th>8506</th>\n",
       "      <td>502579277</td>\n",
       "      <td>C12Q1/68</td>\n",
       "    </tr>\n",
       "    <tr>\n",
       "      <th>8507</th>\n",
       "      <td>504876466</td>\n",
       "      <td>C12Q1/6886</td>\n",
       "    </tr>\n",
       "  </tbody>\n",
       "</table>\n",
       "<p>8508 rows × 2 columns</p>\n",
       "</div>"
      ],
      "text/plain": [
       "     Citing_appln_id ipc_class_symbol\n",
       "0               3103        A61K38/00\n",
       "1               3103        A61K38/39\n",
       "2               3967        A61K38/05\n",
       "3               4497        A61K38/00\n",
       "4               5166        A61K38/00\n",
       "...              ...              ...\n",
       "8503       497237987         C12Q1/68\n",
       "8504       500378750       C12Q1/6883\n",
       "8505       500856061         C12Q1/68\n",
       "8506       502579277         C12Q1/68\n",
       "8507       504876466       C12Q1/6886\n",
       "\n",
       "[8508 rows x 2 columns]"
      ]
     },
     "execution_count": 174,
     "metadata": {},
     "output_type": "execute_result"
    }
   ],
   "source": [
    "biotech_pd"
   ]
  },
  {
   "cell_type": "code",
   "execution_count": 175,
   "id": "71bd1c92",
   "metadata": {},
   "outputs": [],
   "source": [
    "Citations_raw_2 = Citations_raw_2.astype(str)\n",
    "filtered_df = Citations_raw_2[Citations_raw_2[\"Citing_appln_id\"].isin(only)]"
   ]
  },
  {
   "cell_type": "code",
   "execution_count": 176,
   "id": "850135b4",
   "metadata": {},
   "outputs": [
    {
     "data": {
      "text/html": [
       "<div>\n",
       "<style scoped>\n",
       "    .dataframe tbody tr th:only-of-type {\n",
       "        vertical-align: middle;\n",
       "    }\n",
       "\n",
       "    .dataframe tbody tr th {\n",
       "        vertical-align: top;\n",
       "    }\n",
       "\n",
       "    .dataframe thead th {\n",
       "        text-align: right;\n",
       "    }\n",
       "</style>\n",
       "<table border=\"1\" class=\"dataframe\">\n",
       "  <thead>\n",
       "    <tr style=\"text-align: right;\">\n",
       "      <th></th>\n",
       "      <th>Citing_appln_id</th>\n",
       "      <th>Cited_Appln_id</th>\n",
       "    </tr>\n",
       "  </thead>\n",
       "  <tbody>\n",
       "    <tr>\n",
       "      <th>0</th>\n",
       "      <td>16428374</td>\n",
       "      <td>16429355.0</td>\n",
       "    </tr>\n",
       "    <tr>\n",
       "      <th>2</th>\n",
       "      <td>16436949</td>\n",
       "      <td>16429410.0</td>\n",
       "    </tr>\n",
       "    <tr>\n",
       "      <th>3</th>\n",
       "      <td>16436952</td>\n",
       "      <td>16429355.0</td>\n",
       "    </tr>\n",
       "    <tr>\n",
       "      <th>6</th>\n",
       "      <td>16436966</td>\n",
       "      <td>16429410.0</td>\n",
       "    </tr>\n",
       "    <tr>\n",
       "      <th>7</th>\n",
       "      <td>16437453</td>\n",
       "      <td>16429240.0</td>\n",
       "    </tr>\n",
       "    <tr>\n",
       "      <th>...</th>\n",
       "      <td>...</td>\n",
       "      <td>...</td>\n",
       "    </tr>\n",
       "    <tr>\n",
       "      <th>189402</th>\n",
       "      <td>488857541</td>\n",
       "      <td>56778599.0</td>\n",
       "    </tr>\n",
       "    <tr>\n",
       "      <th>189404</th>\n",
       "      <td>488857545</td>\n",
       "      <td>56778599.0</td>\n",
       "    </tr>\n",
       "    <tr>\n",
       "      <th>189406</th>\n",
       "      <td>506365616</td>\n",
       "      <td>16400660.0</td>\n",
       "    </tr>\n",
       "    <tr>\n",
       "      <th>189407</th>\n",
       "      <td>493586959</td>\n",
       "      <td>446558528.0</td>\n",
       "    </tr>\n",
       "    <tr>\n",
       "      <th>189410</th>\n",
       "      <td>508236996</td>\n",
       "      <td>305056.0</td>\n",
       "    </tr>\n",
       "  </tbody>\n",
       "</table>\n",
       "<p>73279 rows × 2 columns</p>\n",
       "</div>"
      ],
      "text/plain": [
       "       Citing_appln_id Cited_Appln_id\n",
       "0             16428374     16429355.0\n",
       "2             16436949     16429410.0\n",
       "3             16436952     16429355.0\n",
       "6             16436966     16429410.0\n",
       "7             16437453     16429240.0\n",
       "...                ...            ...\n",
       "189402       488857541     56778599.0\n",
       "189404       488857545     56778599.0\n",
       "189406       506365616     16400660.0\n",
       "189407       493586959    446558528.0\n",
       "189410       508236996       305056.0\n",
       "\n",
       "[73279 rows x 2 columns]"
      ]
     },
     "execution_count": 176,
     "metadata": {},
     "output_type": "execute_result"
    }
   ],
   "source": [
    "Citations_raw_2"
   ]
  },
  {
   "cell_type": "code",
   "execution_count": 183,
   "id": "929ae7d3",
   "metadata": {},
   "outputs": [
    {
     "data": {
      "text/html": [
       "<div>\n",
       "<style scoped>\n",
       "    .dataframe tbody tr th:only-of-type {\n",
       "        vertical-align: middle;\n",
       "    }\n",
       "\n",
       "    .dataframe tbody tr th {\n",
       "        vertical-align: top;\n",
       "    }\n",
       "\n",
       "    .dataframe thead th {\n",
       "        text-align: right;\n",
       "    }\n",
       "</style>\n",
       "<table border=\"1\" class=\"dataframe\">\n",
       "  <thead>\n",
       "    <tr style=\"text-align: right;\">\n",
       "      <th></th>\n",
       "      <th>Citing_appln_id</th>\n",
       "      <th>Cited_Appln_id</th>\n",
       "    </tr>\n",
       "  </thead>\n",
       "  <tbody>\n",
       "    <tr>\n",
       "      <th>15</th>\n",
       "      <td>16439987</td>\n",
       "      <td>16427512.0</td>\n",
       "    </tr>\n",
       "    <tr>\n",
       "      <th>64</th>\n",
       "      <td>16438723</td>\n",
       "      <td>16427782.0</td>\n",
       "    </tr>\n",
       "    <tr>\n",
       "      <th>149</th>\n",
       "      <td>16444502</td>\n",
       "      <td>16437417.0</td>\n",
       "    </tr>\n",
       "    <tr>\n",
       "      <th>162</th>\n",
       "      <td>16456972</td>\n",
       "      <td>16429900.0</td>\n",
       "    </tr>\n",
       "    <tr>\n",
       "      <th>163</th>\n",
       "      <td>16456972</td>\n",
       "      <td>16455621.0</td>\n",
       "    </tr>\n",
       "    <tr>\n",
       "      <th>...</th>\n",
       "      <td>...</td>\n",
       "      <td>...</td>\n",
       "    </tr>\n",
       "    <tr>\n",
       "      <th>189284</th>\n",
       "      <td>500856061</td>\n",
       "      <td>16799796.0</td>\n",
       "    </tr>\n",
       "    <tr>\n",
       "      <th>189325</th>\n",
       "      <td>506617281</td>\n",
       "      <td>16679948.0</td>\n",
       "    </tr>\n",
       "    <tr>\n",
       "      <th>189329</th>\n",
       "      <td>488753381</td>\n",
       "      <td>411643923.0</td>\n",
       "    </tr>\n",
       "    <tr>\n",
       "      <th>189337</th>\n",
       "      <td>504590472</td>\n",
       "      <td>16423319.0</td>\n",
       "    </tr>\n",
       "    <tr>\n",
       "      <th>189342</th>\n",
       "      <td>504590472</td>\n",
       "      <td>359291.0</td>\n",
       "    </tr>\n",
       "  </tbody>\n",
       "</table>\n",
       "<p>3424 rows × 2 columns</p>\n",
       "</div>"
      ],
      "text/plain": [
       "       Citing_appln_id Cited_Appln_id\n",
       "15            16439987     16427512.0\n",
       "64            16438723     16427782.0\n",
       "149           16444502     16437417.0\n",
       "162           16456972     16429900.0\n",
       "163           16456972     16455621.0\n",
       "...                ...            ...\n",
       "189284       500856061     16799796.0\n",
       "189325       506617281     16679948.0\n",
       "189329       488753381    411643923.0\n",
       "189337       504590472     16423319.0\n",
       "189342       504590472       359291.0\n",
       "\n",
       "[3424 rows x 2 columns]"
      ]
     },
     "execution_count": 183,
     "metadata": {},
     "output_type": "execute_result"
    }
   ],
   "source": [
    "filtered_df"
   ]
  },
  {
   "cell_type": "code",
   "execution_count": 178,
   "id": "5386f5cf",
   "metadata": {},
   "outputs": [],
   "source": [
    "edges = list(zip(list(Citations_raw['source']),list(Citations_raw['target'])))"
   ]
  },
  {
   "cell_type": "code",
   "execution_count": 179,
   "id": "296b034f",
   "metadata": {},
   "outputs": [],
   "source": [
    "graph = nx.DiGraph()\n",
    "graph.add_edges_from(edges)"
   ]
  },
  {
   "cell_type": "code",
   "execution_count": null,
   "id": "6b0ac11d",
   "metadata": {},
   "outputs": [],
   "source": [
    "graph.remove_nodes_from(filtered_df)"
   ]
  }
 ],
 "metadata": {
  "kernelspec": {
   "display_name": "Python 3 (ipykernel)",
   "language": "python",
   "name": "python3"
  },
  "language_info": {
   "codemirror_mode": {
    "name": "ipython",
    "version": 3
   },
   "file_extension": ".py",
   "mimetype": "text/x-python",
   "name": "python",
   "nbconvert_exporter": "python",
   "pygments_lexer": "ipython3",
   "version": "3.9.13"
  }
 },
 "nbformat": 4,
 "nbformat_minor": 5
}
