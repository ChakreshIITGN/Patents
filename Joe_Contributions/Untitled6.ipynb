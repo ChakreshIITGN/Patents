{
 "cells": [
  {
   "cell_type": "code",
   "execution_count": 4,
   "id": "208a7321",
   "metadata": {},
   "outputs": [
    {
     "data": {
      "text/html": [
       "<style>.container { width:90% !important; }</style>"
      ],
      "text/plain": [
       "<IPython.core.display.HTML object>"
      ]
     },
     "metadata": {},
     "output_type": "display_data"
    }
   ],
   "source": [
    "# Adjusting screen \n",
    "from IPython.display import display, HTML\n",
    "display(HTML(\"<style>.container { width:90% !important; }</style>\"))"
   ]
  },
  {
   "cell_type": "code",
   "execution_count": 5,
   "id": "34091a61",
   "metadata": {},
   "outputs": [],
   "source": [
    "import networkx as nx\n",
    "import random\n",
    "from mpl_toolkits.mplot3d import Axes3D\n",
    "import matplotlib.pyplot as plt\n",
    "import numpy as np\n",
    "import IPython\n",
    "from tqdm import tqdm\n",
    "import pandas as pd\n",
    "import matplotlib as mpl\n",
    "from itertools import count\n",
    "import geopandas as gpd\n",
    "import pydot\n",
    "from networkx.drawing.nx_pydot import to_pydot\n",
    "import igraph as ig\n",
    "import matplotlib.pyplot as plt\n",
    "import matplotlib.pylab as pl\n",
    "from textwrap import wrap\n",
    "\n",
    "plt.rcParams[\"font.family\"] = \"Helvetica Neue\"\n",
    "\n",
    "%matplotlib inline"
   ]
  },
  {
   "cell_type": "code",
   "execution_count": 10,
   "id": "88de65d6",
   "metadata": {},
   "outputs": [],
   "source": [
    "IPC_descriptions = pd.read_csv('/Users/joebacchus/Desktop/Bartlett CASA/All_IPC.txt',sep='\t').astype(str)\n",
    "def translate_ipc(IPC):\n",
    "    return list(IPC_descriptions.loc[IPC_descriptions['IPC'] == IPC]['Description'])"
   ]
  },
  {
   "cell_type": "code",
   "execution_count": 399,
   "id": "b45ba460",
   "metadata": {},
   "outputs": [],
   "source": [
    "biotech_classes_WILK = [\"A01H001\", \"A01H004\", \"A01K067\", \"A01K035/12\", \"A01K035/13\", \"A01K035/14\",\"A01K035/15\", \"A01K035/16\", \"A01K035/17\", \"A01K035/18\", \"A01K035/19\", \"A01K035/20\", \"A01K035/21\", \"A01K035/22\", \"A01K035/23\", \"A01K035/24\", \"A01K035/25\", \"A01K035/26\", \"A01K035/27\", \"A01K035/28\", \"A01K035/29\", \"A01K035/30\", \"A01K035/31\", \"A01K305/32\", \"A01K035/33\", \"A01K035/34\", \"A01K035/35\", \"A01K035/36\", \"A01K035/37\", \"A01K035/38\", \"A01K035/39\", \"A01K035/40\", \"A01K035/41\", \"A01K035/42\", \"A01K035/43\", \"A01K035/44\", \"A01K035/45\", \"A01K035/46\", \"A01K035/47\", \"A01K035/48\", \"A01K035/49\", \"A01K035/50\", \"A01K035/51\", \"A01K035/52\", \"A01K035/53\", \"A01K035/54\", \"A01K035/55\", \"A01K035/56\", \"A01K035/57\", \"A01K035/58\", \"A01K035/59\", \"A01K035/60\", \"A01K035/61\", \"A01K035/62\", \"A01K035/63\", \"A01K035/64\", \"A01K035/65\", \"A01K035/66\", \"A01K035/67\", \"A01K035/68\", \"A01K035/69\", \"A01K035/70\", \"A01K035/71\", \"A01K035/72\", \"A01K035/73\", \"A01K035/74\", \"A01K035/75\", \"A01K035/76\", \"A01K035/77\", \"A01K035/78\", \"A01K035/79\", \"A61K38\", \"A61K039\", \"A16K048\", \"C02F003/34\", \"C07G011\", \"C07G013\", \"C07G015\", \"C07K004\", \"C07K014\", \"C07K016\", \"C07K017\", \"C07K019\", \"C12M\", \"C12N\", \"C12P\", \"C12Q\", \"C40B010\", \"C40B040/02\", \"C40B040/03\",\"C40B040/04\", \"C40B040/05\", \"C40B040/06\", \"C40B040/07\", \"C40B040/08\", \"C40B050/06\", \"G01N027/327\", \"G01N033/53\", \"G01N033/54\", \"G01N033/55\", \"G01N033/57\", \"G01N033/68\", \"G01N033/74\", \"G01N033/76\", \"G01N033/78\", \"G01N033/88\", \"G01N033/92\", \"G06F019/10\",\"G06F019/11\", \"G06F019/12\", \"G06F019/13\", \"G06F019/14\", \"G06F019/15\", \"G06F019/16\", \"G06F019/17\", \"G06F019/18\", \"G06F019/20\", \"G06F019/21\", \"G06F019/22\", \"G06F019/23\", \"G06F019/24\"]"
   ]
  },
  {
   "cell_type": "code",
   "execution_count": 383,
   "id": "2cf99292",
   "metadata": {},
   "outputs": [],
   "source": [
    "biotech_classes_ELSA = [\n",
    "    'A01H1',\n",
    "    'A01H4',\n",
    "    'A01K67',\n",
    "    'A61K48',\n",
    "    'C12M',\n",
    "    'C12N',\n",
    "    'C12P',\n",
    "    'C12Q',\n",
    "    'G01N27/327',\n",
    "    'C07K4',\n",
    "    'C07K14', \n",
    "    'C07K16',\n",
    "    'C07K17',\n",
    "    'C07K19',\n",
    "    'C40B10',\n",
    "    'G01N3353',\n",
    "    'G01N3354',\n",
    "    'G01N3355',\n",
    "    'G01N3357',\n",
    "    'G01N3368',\n",
    "    'G01N3374',\n",
    "    'G01N3376',\n",
    "    'G01N3378',\n",
    "    'G01N3388',\n",
    "    'G01N3392',\n",
    "    'C07G11', \n",
    "    'C07G13', \n",
    "    'C07G15',\n",
    "    'C02F3/34',\n",
    "    'A61K38',\n",
    "    'A61K39',\n",
    "    'C40B50/06',\n",
    "    'A61K35/12', 'A61K35/13', 'A61K35/14', 'A61K35/15', 'A61K35/16', 'A61K35/17', 'A61K35/18', 'A61K35/19', 'A61K35/20', 'A61K35/21', 'A61K35/22', 'A61K35/23', 'A61K35/24', 'A61K35/25', 'A61K35/26', 'A61K35/27', 'A61K35/28', 'A61K35/29', 'A61K35/30', 'A61K35/31', 'A61K35/32', 'A61K35/33', 'A61K35/34', 'A61K35/35', 'A61K35/36', 'A61K35/37', 'A61K35/38', 'A61K35/39', 'A61K35/40', 'A61K35/41', 'A61K35/42', 'A61K35/43', 'A61K35/44', 'A61K35/45', 'A61K35/46', 'A61K35/47', 'A61K35/48', 'A61K35/49', 'A61K35/50', 'A61K35/51', 'A61K35/52', 'A61K35/53', 'A61K35/54', 'A61K35/55', 'A61K35/56', 'A61K35/57', 'A61K35/58', 'A61K35/59', 'A61K35/60', 'A61K35/61', 'A61K35/62', 'A61K35/63', 'A61K35/64', 'A61K35/65', 'A61K35/66', 'A61K35/67', 'A61K35/68', 'A61K35/69', 'A61K35/70', 'A61K35/71', 'A61K35/72', 'A61K35/73', 'A61K35/74', 'A61K35/75', 'A61K35/76', 'A61K35/77', 'A61K35/78', 'A61K35/79',\n",
    "    'C40B40/02', 'C40B40/03', 'C40B40/04', 'C40B40/05', 'C40B40/06', 'C40B40/07', 'C40B40/08',\n",
    "    'G06F19/10', 'G06F19/11', 'G06F19/12', 'G06F19/13', 'G06F19/14', 'G06F19/15', 'G06F19/16', 'G06F19/17', 'G06F19/18',\n",
    "    'G06F19/20', 'G06F19/21', 'G06F19/22', 'G06F19/23', 'G06F19/24'\n",
    "]\n"
   ]
  },
  {
   "cell_type": "code",
   "execution_count": 400,
   "id": "809f3958",
   "metadata": {},
   "outputs": [],
   "source": [
    "biotech = biotech_classes_ELSA+biotech_classes_WILK"
   ]
  },
  {
   "cell_type": "code",
   "execution_count": 98,
   "id": "2d795b9a",
   "metadata": {},
   "outputs": [],
   "source": [
    "IPCs_raw = pd.read_csv('/Users/joebacchus/Desktop/Bartlett CASA/Data Updated/Patents/UK_patent_all_IPC_2.csv')\n",
    "IPCs_raw['ipc_class_symbol'] = IPCs_raw['ipc_class_symbol'].str.replace(\" \", \"\")\n",
    "Patents_raw = pd.read_csv('/Users/joebacchus/Desktop/Bartlett CASA/Data Updated/Patents/UK_Patents_cited_wIPC.csv')[['app_nbr','appln_id','reg_code','prio_year','IPC']].drop_duplicates()\n",
    "Citations_raw = pd.read_csv('/Users/joebacchus/Desktop/Bartlett CASA/Data Updated/Patents/UK_patent_citations.csv')\n",
    "Citations_raw_2 = pd.read_csv('/Users/joebacchus/Desktop/Bartlett CASA/Data Updated/Patents/EPO_citation_UK_withIPC_loc.csv')"
   ]
  },
  {
   "cell_type": "code",
   "execution_count": 411,
   "id": "91bb7fae",
   "metadata": {},
   "outputs": [
    {
     "data": {
      "text/plain": [
       "45366"
      ]
     },
     "execution_count": 411,
     "metadata": {},
     "output_type": "execute_result"
    }
   ],
   "source": [
    "len(Patents_raw['app_nbr'].unique())"
   ]
  },
  {
   "cell_type": "code",
   "execution_count": 415,
   "id": "929e190f",
   "metadata": {},
   "outputs": [
    {
     "data": {
      "text/html": [
       "<div>\n",
       "<style scoped>\n",
       "    .dataframe tbody tr th:only-of-type {\n",
       "        vertical-align: middle;\n",
       "    }\n",
       "\n",
       "    .dataframe tbody tr th {\n",
       "        vertical-align: top;\n",
       "    }\n",
       "\n",
       "    .dataframe thead th {\n",
       "        text-align: right;\n",
       "    }\n",
       "</style>\n",
       "<table border=\"1\" class=\"dataframe\">\n",
       "  <thead>\n",
       "    <tr style=\"text-align: right;\">\n",
       "      <th></th>\n",
       "      <th>Citing_appln_id</th>\n",
       "      <th>ipc_class_symbol</th>\n",
       "    </tr>\n",
       "  </thead>\n",
       "  <tbody>\n",
       "    <tr>\n",
       "      <th>0</th>\n",
       "      <td>64</td>\n",
       "      <td>D21F1/32</td>\n",
       "    </tr>\n",
       "    <tr>\n",
       "      <th>1</th>\n",
       "      <td>64</td>\n",
       "      <td>D21G9/00</td>\n",
       "    </tr>\n",
       "    <tr>\n",
       "      <th>2</th>\n",
       "      <td>64</td>\n",
       "      <td>G01N15/08</td>\n",
       "    </tr>\n",
       "  </tbody>\n",
       "</table>\n",
       "</div>"
      ],
      "text/plain": [
       "  Citing_appln_id ipc_class_symbol\n",
       "0              64         D21F1/32\n",
       "1              64         D21G9/00\n",
       "2              64        G01N15/08"
      ]
     },
     "execution_count": 415,
     "metadata": {},
     "output_type": "execute_result"
    }
   ],
   "source": [
    "IPCs_raw = IPCs_raw.astype(str)\n",
    "IPCs_raw.loc[IPCs_raw['Citing_appln_id'] == str('64')]"
   ]
  },
  {
   "cell_type": "code",
   "execution_count": 418,
   "id": "057642d8",
   "metadata": {},
   "outputs": [
    {
     "data": {
      "text/html": [
       "<div>\n",
       "<style scoped>\n",
       "    .dataframe tbody tr th:only-of-type {\n",
       "        vertical-align: middle;\n",
       "    }\n",
       "\n",
       "    .dataframe tbody tr th {\n",
       "        vertical-align: top;\n",
       "    }\n",
       "\n",
       "    .dataframe thead th {\n",
       "        text-align: right;\n",
       "    }\n",
       "</style>\n",
       "<table border=\"1\" class=\"dataframe\">\n",
       "  <thead>\n",
       "    <tr style=\"text-align: right;\">\n",
       "      <th></th>\n",
       "      <th>Citing_appln_id</th>\n",
       "      <th>ipc_class_symbol</th>\n",
       "    </tr>\n",
       "  </thead>\n",
       "  <tbody>\n",
       "    <tr>\n",
       "      <th>0</th>\n",
       "      <td>64</td>\n",
       "      <td>D21F1/32</td>\n",
       "    </tr>\n",
       "    <tr>\n",
       "      <th>1</th>\n",
       "      <td>64</td>\n",
       "      <td>D21G9/00</td>\n",
       "    </tr>\n",
       "    <tr>\n",
       "      <th>2</th>\n",
       "      <td>64</td>\n",
       "      <td>G01N15/08</td>\n",
       "    </tr>\n",
       "    <tr>\n",
       "      <th>3</th>\n",
       "      <td>76</td>\n",
       "      <td>A47C7/46</td>\n",
       "    </tr>\n",
       "    <tr>\n",
       "      <th>4</th>\n",
       "      <td>76</td>\n",
       "      <td>B60N2/66</td>\n",
       "    </tr>\n",
       "    <tr>\n",
       "      <th>...</th>\n",
       "      <td>...</td>\n",
       "      <td>...</td>\n",
       "    </tr>\n",
       "    <tr>\n",
       "      <th>300842</th>\n",
       "      <td>509041326</td>\n",
       "      <td>G01J1/16</td>\n",
       "    </tr>\n",
       "    <tr>\n",
       "      <th>300843</th>\n",
       "      <td>509041326</td>\n",
       "      <td>G01N21/31</td>\n",
       "    </tr>\n",
       "    <tr>\n",
       "      <th>300844</th>\n",
       "      <td>509041326</td>\n",
       "      <td>G01N21/3504</td>\n",
       "    </tr>\n",
       "    <tr>\n",
       "      <th>300845</th>\n",
       "      <td>509351327</td>\n",
       "      <td>E04B1/41</td>\n",
       "    </tr>\n",
       "    <tr>\n",
       "      <th>300846</th>\n",
       "      <td>509351327</td>\n",
       "      <td>E04G15/04</td>\n",
       "    </tr>\n",
       "  </tbody>\n",
       "</table>\n",
       "<p>300847 rows × 2 columns</p>\n",
       "</div>"
      ],
      "text/plain": [
       "       Citing_appln_id ipc_class_symbol\n",
       "0                   64         D21F1/32\n",
       "1                   64         D21G9/00\n",
       "2                   64        G01N15/08\n",
       "3                   76         A47C7/46\n",
       "4                   76         B60N2/66\n",
       "...                ...              ...\n",
       "300842       509041326         G01J1/16\n",
       "300843       509041326        G01N21/31\n",
       "300844       509041326      G01N21/3504\n",
       "300845       509351327         E04B1/41\n",
       "300846       509351327        E04G15/04\n",
       "\n",
       "[300847 rows x 2 columns]"
      ]
     },
     "execution_count": 418,
     "metadata": {},
     "output_type": "execute_result"
    }
   ],
   "source": [
    "IPCs_raw"
   ]
  },
  {
   "cell_type": "code",
   "execution_count": 417,
   "id": "e95704ae",
   "metadata": {},
   "outputs": [
    {
     "data": {
      "text/html": [
       "<div>\n",
       "<style scoped>\n",
       "    .dataframe tbody tr th:only-of-type {\n",
       "        vertical-align: middle;\n",
       "    }\n",
       "\n",
       "    .dataframe tbody tr th {\n",
       "        vertical-align: top;\n",
       "    }\n",
       "\n",
       "    .dataframe thead th {\n",
       "        text-align: right;\n",
       "    }\n",
       "</style>\n",
       "<table border=\"1\" class=\"dataframe\">\n",
       "  <thead>\n",
       "    <tr style=\"text-align: right;\">\n",
       "      <th></th>\n",
       "      <th>app_nbr</th>\n",
       "      <th>appln_id</th>\n",
       "      <th>reg_code</th>\n",
       "      <th>prio_year</th>\n",
       "      <th>IPC</th>\n",
       "    </tr>\n",
       "  </thead>\n",
       "  <tbody>\n",
       "  </tbody>\n",
       "</table>\n",
       "</div>"
      ],
      "text/plain": [
       "Empty DataFrame\n",
       "Columns: [app_nbr, appln_id, reg_code, prio_year, IPC]\n",
       "Index: []"
      ]
     },
     "execution_count": 417,
     "metadata": {},
     "output_type": "execute_result"
    }
   ],
   "source": [
    "Patents_raw = Patents_raw.astype(str)\n",
    "Patents_raw.loc[Patents_raw['appln_id'] == str('64')]"
   ]
  },
  {
   "cell_type": "code",
   "execution_count": 377,
   "id": "2b8a73e9",
   "metadata": {},
   "outputs": [
    {
     "data": {
      "text/html": [
       "<div>\n",
       "<style scoped>\n",
       "    .dataframe tbody tr th:only-of-type {\n",
       "        vertical-align: middle;\n",
       "    }\n",
       "\n",
       "    .dataframe tbody tr th {\n",
       "        vertical-align: top;\n",
       "    }\n",
       "\n",
       "    .dataframe thead th {\n",
       "        text-align: right;\n",
       "    }\n",
       "</style>\n",
       "<table border=\"1\" class=\"dataframe\">\n",
       "  <thead>\n",
       "    <tr style=\"text-align: right;\">\n",
       "      <th></th>\n",
       "      <th>Citing_appln_id</th>\n",
       "      <th>ipc_class_symbol</th>\n",
       "    </tr>\n",
       "  </thead>\n",
       "  <tbody>\n",
       "    <tr>\n",
       "      <th>0</th>\n",
       "      <td>64</td>\n",
       "      <td>D21F1/32</td>\n",
       "    </tr>\n",
       "    <tr>\n",
       "      <th>1</th>\n",
       "      <td>64</td>\n",
       "      <td>D21G9/00</td>\n",
       "    </tr>\n",
       "    <tr>\n",
       "      <th>2</th>\n",
       "      <td>64</td>\n",
       "      <td>G01N15/08</td>\n",
       "    </tr>\n",
       "    <tr>\n",
       "      <th>3</th>\n",
       "      <td>76</td>\n",
       "      <td>A47C7/46</td>\n",
       "    </tr>\n",
       "    <tr>\n",
       "      <th>4</th>\n",
       "      <td>76</td>\n",
       "      <td>B60N2/66</td>\n",
       "    </tr>\n",
       "    <tr>\n",
       "      <th>...</th>\n",
       "      <td>...</td>\n",
       "      <td>...</td>\n",
       "    </tr>\n",
       "    <tr>\n",
       "      <th>300842</th>\n",
       "      <td>509041326</td>\n",
       "      <td>G01J1/16</td>\n",
       "    </tr>\n",
       "    <tr>\n",
       "      <th>300843</th>\n",
       "      <td>509041326</td>\n",
       "      <td>G01N21/31</td>\n",
       "    </tr>\n",
       "    <tr>\n",
       "      <th>300844</th>\n",
       "      <td>509041326</td>\n",
       "      <td>G01N21/3504</td>\n",
       "    </tr>\n",
       "    <tr>\n",
       "      <th>300845</th>\n",
       "      <td>509351327</td>\n",
       "      <td>E04B1/41</td>\n",
       "    </tr>\n",
       "    <tr>\n",
       "      <th>300846</th>\n",
       "      <td>509351327</td>\n",
       "      <td>E04G15/04</td>\n",
       "    </tr>\n",
       "  </tbody>\n",
       "</table>\n",
       "<p>300847 rows × 2 columns</p>\n",
       "</div>"
      ],
      "text/plain": [
       "        Citing_appln_id ipc_class_symbol\n",
       "0                    64         D21F1/32\n",
       "1                    64         D21G9/00\n",
       "2                    64        G01N15/08\n",
       "3                    76         A47C7/46\n",
       "4                    76         B60N2/66\n",
       "...                 ...              ...\n",
       "300842        509041326         G01J1/16\n",
       "300843        509041326        G01N21/31\n",
       "300844        509041326      G01N21/3504\n",
       "300845        509351327         E04B1/41\n",
       "300846        509351327        E04G15/04\n",
       "\n",
       "[300847 rows x 2 columns]"
      ]
     },
     "execution_count": 377,
     "metadata": {},
     "output_type": "execute_result"
    }
   ],
   "source": [
    "IPCs_raw"
   ]
  },
  {
   "cell_type": "code",
   "execution_count": 395,
   "id": "dad31c99",
   "metadata": {},
   "outputs": [
    {
     "data": {
      "text/html": [
       "<div>\n",
       "<style scoped>\n",
       "    .dataframe tbody tr th:only-of-type {\n",
       "        vertical-align: middle;\n",
       "    }\n",
       "\n",
       "    .dataframe tbody tr th {\n",
       "        vertical-align: top;\n",
       "    }\n",
       "\n",
       "    .dataframe thead th {\n",
       "        text-align: right;\n",
       "    }\n",
       "</style>\n",
       "<table border=\"1\" class=\"dataframe\">\n",
       "  <thead>\n",
       "    <tr style=\"text-align: right;\">\n",
       "      <th></th>\n",
       "      <th>app_nbr</th>\n",
       "      <th>appln_id</th>\n",
       "      <th>reg_code</th>\n",
       "      <th>prio_year</th>\n",
       "      <th>IPC</th>\n",
       "    </tr>\n",
       "  </thead>\n",
       "  <tbody>\n",
       "    <tr>\n",
       "      <th>0</th>\n",
       "      <td>EP20020258685</td>\n",
       "      <td>1303</td>\n",
       "      <td>UKJ42</td>\n",
       "      <td>2001</td>\n",
       "      <td>G02B021/00</td>\n",
       "    </tr>\n",
       "    <tr>\n",
       "      <th>2</th>\n",
       "      <td>EP20060250283</td>\n",
       "      <td>1972</td>\n",
       "      <td>UKH23</td>\n",
       "      <td>2005</td>\n",
       "      <td>G02B007/38</td>\n",
       "    </tr>\n",
       "    <tr>\n",
       "      <th>3</th>\n",
       "      <td>EP20060251704</td>\n",
       "      <td>1977</td>\n",
       "      <td>UKD71</td>\n",
       "      <td>2005</td>\n",
       "      <td>B62D053/08</td>\n",
       "    </tr>\n",
       "    <tr>\n",
       "      <th>4</th>\n",
       "      <td>EP20060794909</td>\n",
       "      <td>2112</td>\n",
       "      <td>UKF24</td>\n",
       "      <td>2005</td>\n",
       "      <td>H04Q001/14</td>\n",
       "    </tr>\n",
       "    <tr>\n",
       "      <th>5</th>\n",
       "      <td>EP20060808647</td>\n",
       "      <td>2151</td>\n",
       "      <td>UKD62</td>\n",
       "      <td>2005</td>\n",
       "      <td>H01J049/42</td>\n",
       "    </tr>\n",
       "    <tr>\n",
       "      <th>...</th>\n",
       "      <td>...</td>\n",
       "      <td>...</td>\n",
       "      <td>...</td>\n",
       "      <td>...</td>\n",
       "      <td>...</td>\n",
       "    </tr>\n",
       "    <tr>\n",
       "      <th>76156</th>\n",
       "      <td>EP20180020259</td>\n",
       "      <td>496110531</td>\n",
       "      <td>UKG24</td>\n",
       "      <td>2017</td>\n",
       "      <td>E02D029/14</td>\n",
       "    </tr>\n",
       "    <tr>\n",
       "      <th>76160</th>\n",
       "      <td>EP20180184062</td>\n",
       "      <td>497244282</td>\n",
       "      <td>UKM22</td>\n",
       "      <td>2017</td>\n",
       "      <td>B26D001/08</td>\n",
       "    </tr>\n",
       "    <tr>\n",
       "      <th>76161</th>\n",
       "      <td>EP20180191464</td>\n",
       "      <td>498998508</td>\n",
       "      <td>UKI12</td>\n",
       "      <td>2017</td>\n",
       "      <td>G10K011/178</td>\n",
       "    </tr>\n",
       "    <tr>\n",
       "      <th>76162</th>\n",
       "      <td>EP20180191464</td>\n",
       "      <td>498998508</td>\n",
       "      <td>UKH23</td>\n",
       "      <td>2017</td>\n",
       "      <td>G10K011/178</td>\n",
       "    </tr>\n",
       "    <tr>\n",
       "      <th>76166</th>\n",
       "      <td>EP20180212257</td>\n",
       "      <td>504481338</td>\n",
       "      <td>UKJ23</td>\n",
       "      <td>2017</td>\n",
       "      <td>H02M001/00</td>\n",
       "    </tr>\n",
       "  </tbody>\n",
       "</table>\n",
       "<p>58151 rows × 5 columns</p>\n",
       "</div>"
      ],
      "text/plain": [
       "             app_nbr   appln_id reg_code  prio_year          IPC\n",
       "0      EP20020258685       1303    UKJ42       2001   G02B021/00\n",
       "2      EP20060250283       1972    UKH23       2005   G02B007/38\n",
       "3      EP20060251704       1977    UKD71       2005   B62D053/08\n",
       "4      EP20060794909       2112    UKF24       2005   H04Q001/14\n",
       "5      EP20060808647       2151    UKD62       2005   H01J049/42\n",
       "...              ...        ...      ...        ...          ...\n",
       "76156  EP20180020259  496110531    UKG24       2017   E02D029/14\n",
       "76160  EP20180184062  497244282    UKM22       2017   B26D001/08\n",
       "76161  EP20180191464  498998508    UKI12       2017  G10K011/178\n",
       "76162  EP20180191464  498998508    UKH23       2017  G10K011/178\n",
       "76166  EP20180212257  504481338    UKJ23       2017   H02M001/00\n",
       "\n",
       "[58151 rows x 5 columns]"
      ]
     },
     "execution_count": 395,
     "metadata": {},
     "output_type": "execute_result"
    }
   ],
   "source": [
    "Patents_raw"
   ]
  },
  {
   "cell_type": "code",
   "execution_count": 404,
   "id": "2765cb60",
   "metadata": {},
   "outputs": [
    {
     "name": "stderr",
     "output_type": "stream",
     "text": [
      "100%|█████████████████████████████████████████| 121/121 [00:03<00:00, 35.25it/s]\n"
     ]
    }
   ],
   "source": [
    "biotech_pd=pd.DataFrame()\n",
    "for i in tqdm(range(len(biotech_classes_WILK))):\n",
    "    filt_for_type = Patents_raw['IPC'].str.contains('^'+biotech_classes_WILK[i]).fillna(False)\n",
    "    biotech_spec = Patents_raw.loc[filt_for_type]\n",
    "    biotech_pd = pd.concat([biotech_pd, biotech_spec], ignore_index=True)"
   ]
  },
  {
   "cell_type": "code",
   "execution_count": 408,
   "id": "7aac785e",
   "metadata": {},
   "outputs": [
    {
     "data": {
      "text/plain": [
       "1016"
      ]
     },
     "execution_count": 408,
     "metadata": {},
     "output_type": "execute_result"
    }
   ],
   "source": [
    "len(biotech_pd.drop_duplicates()['app_nbr'].unique())"
   ]
  },
  {
   "cell_type": "code",
   "execution_count": null,
   "id": "d329cb5f",
   "metadata": {},
   "outputs": [],
   "source": []
  },
  {
   "cell_type": "code",
   "execution_count": 384,
   "id": "a962d7b5",
   "metadata": {
    "scrolled": false
   },
   "outputs": [],
   "source": [
    "group1_ipc = IPCs_raw[['Citing_appln_id','ipc_class_symbol']].rename(columns={'Citing_appln_id':'ID','ipc_class_symbol':'IPC'})"
   ]
  },
  {
   "cell_type": "code",
   "execution_count": 385,
   "id": "8b72bced",
   "metadata": {},
   "outputs": [],
   "source": [
    "group2_ipc = Patents_raw[['appln_id','IPC']].rename(columns={'appln_id':'ID','IPC':'IPC'})"
   ]
  },
  {
   "cell_type": "code",
   "execution_count": 386,
   "id": "dae3a0cd",
   "metadata": {},
   "outputs": [
    {
     "ename": "KeyError",
     "evalue": "\"None of [Index(['Citing_appln_id', 'IPC'], dtype='object')] are in the [columns]\"",
     "output_type": "error",
     "traceback": [
      "\u001b[0;31m---------------------------------------------------------------------------\u001b[0m",
      "\u001b[0;31mKeyError\u001b[0m                                  Traceback (most recent call last)",
      "\u001b[0;32m/var/folders/7f/r079rwbx56v6qwwwwxq2cpzw0000gn/T/ipykernel_40283/3412620330.py\u001b[0m in \u001b[0;36m<module>\u001b[0;34m\u001b[0m\n\u001b[0;32m----> 1\u001b[0;31m \u001b[0mgroup3_ipc\u001b[0m \u001b[0;34m=\u001b[0m \u001b[0mCitations_raw_2\u001b[0m\u001b[0;34m[\u001b[0m\u001b[0;34m[\u001b[0m\u001b[0;34m'Citing_appln_id'\u001b[0m\u001b[0;34m,\u001b[0m\u001b[0;34m'IPC'\u001b[0m\u001b[0;34m]\u001b[0m\u001b[0;34m]\u001b[0m\u001b[0;34m.\u001b[0m\u001b[0mrename\u001b[0m\u001b[0;34m(\u001b[0m\u001b[0mcolumns\u001b[0m\u001b[0;34m=\u001b[0m\u001b[0;34m{\u001b[0m\u001b[0;34m'Citing_appln_id'\u001b[0m\u001b[0;34m:\u001b[0m\u001b[0;34m'ID'\u001b[0m\u001b[0;34m,\u001b[0m\u001b[0;34m'IPC'\u001b[0m\u001b[0;34m:\u001b[0m\u001b[0;34m'IPC'\u001b[0m\u001b[0;34m}\u001b[0m\u001b[0;34m)\u001b[0m\u001b[0;34m\u001b[0m\u001b[0;34m\u001b[0m\u001b[0m\n\u001b[0m",
      "\u001b[0;32m~/opt/anaconda3/lib/python3.9/site-packages/pandas/core/frame.py\u001b[0m in \u001b[0;36m__getitem__\u001b[0;34m(self, key)\u001b[0m\n\u001b[1;32m   3509\u001b[0m             \u001b[0;32mif\u001b[0m \u001b[0mis_iterator\u001b[0m\u001b[0;34m(\u001b[0m\u001b[0mkey\u001b[0m\u001b[0;34m)\u001b[0m\u001b[0;34m:\u001b[0m\u001b[0;34m\u001b[0m\u001b[0;34m\u001b[0m\u001b[0m\n\u001b[1;32m   3510\u001b[0m                 \u001b[0mkey\u001b[0m \u001b[0;34m=\u001b[0m \u001b[0mlist\u001b[0m\u001b[0;34m(\u001b[0m\u001b[0mkey\u001b[0m\u001b[0;34m)\u001b[0m\u001b[0;34m\u001b[0m\u001b[0;34m\u001b[0m\u001b[0m\n\u001b[0;32m-> 3511\u001b[0;31m             \u001b[0mindexer\u001b[0m \u001b[0;34m=\u001b[0m \u001b[0mself\u001b[0m\u001b[0;34m.\u001b[0m\u001b[0mcolumns\u001b[0m\u001b[0;34m.\u001b[0m\u001b[0m_get_indexer_strict\u001b[0m\u001b[0;34m(\u001b[0m\u001b[0mkey\u001b[0m\u001b[0;34m,\u001b[0m \u001b[0;34m\"columns\"\u001b[0m\u001b[0;34m)\u001b[0m\u001b[0;34m[\u001b[0m\u001b[0;36m1\u001b[0m\u001b[0;34m]\u001b[0m\u001b[0;34m\u001b[0m\u001b[0;34m\u001b[0m\u001b[0m\n\u001b[0m\u001b[1;32m   3512\u001b[0m \u001b[0;34m\u001b[0m\u001b[0m\n\u001b[1;32m   3513\u001b[0m         \u001b[0;31m# take() does not accept boolean indexers\u001b[0m\u001b[0;34m\u001b[0m\u001b[0;34m\u001b[0m\u001b[0m\n",
      "\u001b[0;32m~/opt/anaconda3/lib/python3.9/site-packages/pandas/core/indexes/base.py\u001b[0m in \u001b[0;36m_get_indexer_strict\u001b[0;34m(self, key, axis_name)\u001b[0m\n\u001b[1;32m   5794\u001b[0m             \u001b[0mkeyarr\u001b[0m\u001b[0;34m,\u001b[0m \u001b[0mindexer\u001b[0m\u001b[0;34m,\u001b[0m \u001b[0mnew_indexer\u001b[0m \u001b[0;34m=\u001b[0m \u001b[0mself\u001b[0m\u001b[0;34m.\u001b[0m\u001b[0m_reindex_non_unique\u001b[0m\u001b[0;34m(\u001b[0m\u001b[0mkeyarr\u001b[0m\u001b[0;34m)\u001b[0m\u001b[0;34m\u001b[0m\u001b[0;34m\u001b[0m\u001b[0m\n\u001b[1;32m   5795\u001b[0m \u001b[0;34m\u001b[0m\u001b[0m\n\u001b[0;32m-> 5796\u001b[0;31m         \u001b[0mself\u001b[0m\u001b[0;34m.\u001b[0m\u001b[0m_raise_if_missing\u001b[0m\u001b[0;34m(\u001b[0m\u001b[0mkeyarr\u001b[0m\u001b[0;34m,\u001b[0m \u001b[0mindexer\u001b[0m\u001b[0;34m,\u001b[0m \u001b[0maxis_name\u001b[0m\u001b[0;34m)\u001b[0m\u001b[0;34m\u001b[0m\u001b[0;34m\u001b[0m\u001b[0m\n\u001b[0m\u001b[1;32m   5797\u001b[0m \u001b[0;34m\u001b[0m\u001b[0m\n\u001b[1;32m   5798\u001b[0m         \u001b[0mkeyarr\u001b[0m \u001b[0;34m=\u001b[0m \u001b[0mself\u001b[0m\u001b[0;34m.\u001b[0m\u001b[0mtake\u001b[0m\u001b[0;34m(\u001b[0m\u001b[0mindexer\u001b[0m\u001b[0;34m)\u001b[0m\u001b[0;34m\u001b[0m\u001b[0;34m\u001b[0m\u001b[0m\n",
      "\u001b[0;32m~/opt/anaconda3/lib/python3.9/site-packages/pandas/core/indexes/base.py\u001b[0m in \u001b[0;36m_raise_if_missing\u001b[0;34m(self, key, indexer, axis_name)\u001b[0m\n\u001b[1;32m   5854\u001b[0m                 \u001b[0;32mif\u001b[0m \u001b[0muse_interval_msg\u001b[0m\u001b[0;34m:\u001b[0m\u001b[0;34m\u001b[0m\u001b[0;34m\u001b[0m\u001b[0m\n\u001b[1;32m   5855\u001b[0m                     \u001b[0mkey\u001b[0m \u001b[0;34m=\u001b[0m \u001b[0mlist\u001b[0m\u001b[0;34m(\u001b[0m\u001b[0mkey\u001b[0m\u001b[0;34m)\u001b[0m\u001b[0;34m\u001b[0m\u001b[0;34m\u001b[0m\u001b[0m\n\u001b[0;32m-> 5856\u001b[0;31m                 \u001b[0;32mraise\u001b[0m \u001b[0mKeyError\u001b[0m\u001b[0;34m(\u001b[0m\u001b[0;34mf\"None of [{key}] are in the [{axis_name}]\"\u001b[0m\u001b[0;34m)\u001b[0m\u001b[0;34m\u001b[0m\u001b[0;34m\u001b[0m\u001b[0m\n\u001b[0m\u001b[1;32m   5857\u001b[0m \u001b[0;34m\u001b[0m\u001b[0m\n\u001b[1;32m   5858\u001b[0m             \u001b[0mnot_found\u001b[0m \u001b[0;34m=\u001b[0m \u001b[0mlist\u001b[0m\u001b[0;34m(\u001b[0m\u001b[0mensure_index\u001b[0m\u001b[0;34m(\u001b[0m\u001b[0mkey\u001b[0m\u001b[0;34m)\u001b[0m\u001b[0;34m[\u001b[0m\u001b[0mmissing_mask\u001b[0m\u001b[0;34m.\u001b[0m\u001b[0mnonzero\u001b[0m\u001b[0;34m(\u001b[0m\u001b[0;34m)\u001b[0m\u001b[0;34m[\u001b[0m\u001b[0;36m0\u001b[0m\u001b[0;34m]\u001b[0m\u001b[0;34m]\u001b[0m\u001b[0;34m.\u001b[0m\u001b[0munique\u001b[0m\u001b[0;34m(\u001b[0m\u001b[0;34m)\u001b[0m\u001b[0;34m)\u001b[0m\u001b[0;34m\u001b[0m\u001b[0;34m\u001b[0m\u001b[0m\n",
      "\u001b[0;31mKeyError\u001b[0m: \"None of [Index(['Citing_appln_id', 'IPC'], dtype='object')] are in the [columns]\""
     ]
    }
   ],
   "source": [
    "group3_ipc = Citations_raw_2[['Citing_appln_id','IPC']].rename(columns={'Citing_appln_id':'ID','IPC':'IPC'})"
   ]
  },
  {
   "cell_type": "code",
   "execution_count": 387,
   "id": "2335559f",
   "metadata": {},
   "outputs": [],
   "source": [
    "ID_IPC = pd.concat([group1_ipc,group2_ipc,group3_ipc]).drop_duplicates()"
   ]
  },
  {
   "cell_type": "code",
   "execution_count": 388,
   "id": "63aaee37",
   "metadata": {},
   "outputs": [],
   "source": [
    "group1_reg = Patents_raw[['appln_id','reg_code']].rename(columns={'appln_id':'ID','reg_code':'REG'})"
   ]
  },
  {
   "cell_type": "code",
   "execution_count": 389,
   "id": "121ac0a3",
   "metadata": {},
   "outputs": [
    {
     "ename": "KeyError",
     "evalue": "\"None of [Index(['Citing_appln_id', 'reg_code'], dtype='object')] are in the [columns]\"",
     "output_type": "error",
     "traceback": [
      "\u001b[0;31m---------------------------------------------------------------------------\u001b[0m",
      "\u001b[0;31mKeyError\u001b[0m                                  Traceback (most recent call last)",
      "\u001b[0;32m/var/folders/7f/r079rwbx56v6qwwwwxq2cpzw0000gn/T/ipykernel_40283/2004334223.py\u001b[0m in \u001b[0;36m<module>\u001b[0;34m\u001b[0m\n\u001b[0;32m----> 1\u001b[0;31m \u001b[0mgroup2_reg\u001b[0m \u001b[0;34m=\u001b[0m \u001b[0mCitations_raw_2\u001b[0m\u001b[0;34m[\u001b[0m\u001b[0;34m[\u001b[0m\u001b[0;34m'Citing_appln_id'\u001b[0m\u001b[0;34m,\u001b[0m\u001b[0;34m'reg_code'\u001b[0m\u001b[0;34m]\u001b[0m\u001b[0;34m]\u001b[0m\u001b[0;34m.\u001b[0m\u001b[0mrename\u001b[0m\u001b[0;34m(\u001b[0m\u001b[0mcolumns\u001b[0m\u001b[0;34m=\u001b[0m\u001b[0;34m{\u001b[0m\u001b[0;34m'Citing_appln_id'\u001b[0m\u001b[0;34m:\u001b[0m\u001b[0;34m'ID'\u001b[0m\u001b[0;34m,\u001b[0m\u001b[0;34m'reg_code'\u001b[0m\u001b[0;34m:\u001b[0m\u001b[0;34m'REG'\u001b[0m\u001b[0;34m}\u001b[0m\u001b[0;34m)\u001b[0m\u001b[0;34m\u001b[0m\u001b[0;34m\u001b[0m\u001b[0m\n\u001b[0m",
      "\u001b[0;32m~/opt/anaconda3/lib/python3.9/site-packages/pandas/core/frame.py\u001b[0m in \u001b[0;36m__getitem__\u001b[0;34m(self, key)\u001b[0m\n\u001b[1;32m   3509\u001b[0m             \u001b[0;32mif\u001b[0m \u001b[0mis_iterator\u001b[0m\u001b[0;34m(\u001b[0m\u001b[0mkey\u001b[0m\u001b[0;34m)\u001b[0m\u001b[0;34m:\u001b[0m\u001b[0;34m\u001b[0m\u001b[0;34m\u001b[0m\u001b[0m\n\u001b[1;32m   3510\u001b[0m                 \u001b[0mkey\u001b[0m \u001b[0;34m=\u001b[0m \u001b[0mlist\u001b[0m\u001b[0;34m(\u001b[0m\u001b[0mkey\u001b[0m\u001b[0;34m)\u001b[0m\u001b[0;34m\u001b[0m\u001b[0;34m\u001b[0m\u001b[0m\n\u001b[0;32m-> 3511\u001b[0;31m             \u001b[0mindexer\u001b[0m \u001b[0;34m=\u001b[0m \u001b[0mself\u001b[0m\u001b[0;34m.\u001b[0m\u001b[0mcolumns\u001b[0m\u001b[0;34m.\u001b[0m\u001b[0m_get_indexer_strict\u001b[0m\u001b[0;34m(\u001b[0m\u001b[0mkey\u001b[0m\u001b[0;34m,\u001b[0m \u001b[0;34m\"columns\"\u001b[0m\u001b[0;34m)\u001b[0m\u001b[0;34m[\u001b[0m\u001b[0;36m1\u001b[0m\u001b[0;34m]\u001b[0m\u001b[0;34m\u001b[0m\u001b[0;34m\u001b[0m\u001b[0m\n\u001b[0m\u001b[1;32m   3512\u001b[0m \u001b[0;34m\u001b[0m\u001b[0m\n\u001b[1;32m   3513\u001b[0m         \u001b[0;31m# take() does not accept boolean indexers\u001b[0m\u001b[0;34m\u001b[0m\u001b[0;34m\u001b[0m\u001b[0m\n",
      "\u001b[0;32m~/opt/anaconda3/lib/python3.9/site-packages/pandas/core/indexes/base.py\u001b[0m in \u001b[0;36m_get_indexer_strict\u001b[0;34m(self, key, axis_name)\u001b[0m\n\u001b[1;32m   5794\u001b[0m             \u001b[0mkeyarr\u001b[0m\u001b[0;34m,\u001b[0m \u001b[0mindexer\u001b[0m\u001b[0;34m,\u001b[0m \u001b[0mnew_indexer\u001b[0m \u001b[0;34m=\u001b[0m \u001b[0mself\u001b[0m\u001b[0;34m.\u001b[0m\u001b[0m_reindex_non_unique\u001b[0m\u001b[0;34m(\u001b[0m\u001b[0mkeyarr\u001b[0m\u001b[0;34m)\u001b[0m\u001b[0;34m\u001b[0m\u001b[0;34m\u001b[0m\u001b[0m\n\u001b[1;32m   5795\u001b[0m \u001b[0;34m\u001b[0m\u001b[0m\n\u001b[0;32m-> 5796\u001b[0;31m         \u001b[0mself\u001b[0m\u001b[0;34m.\u001b[0m\u001b[0m_raise_if_missing\u001b[0m\u001b[0;34m(\u001b[0m\u001b[0mkeyarr\u001b[0m\u001b[0;34m,\u001b[0m \u001b[0mindexer\u001b[0m\u001b[0;34m,\u001b[0m \u001b[0maxis_name\u001b[0m\u001b[0;34m)\u001b[0m\u001b[0;34m\u001b[0m\u001b[0;34m\u001b[0m\u001b[0m\n\u001b[0m\u001b[1;32m   5797\u001b[0m \u001b[0;34m\u001b[0m\u001b[0m\n\u001b[1;32m   5798\u001b[0m         \u001b[0mkeyarr\u001b[0m \u001b[0;34m=\u001b[0m \u001b[0mself\u001b[0m\u001b[0;34m.\u001b[0m\u001b[0mtake\u001b[0m\u001b[0;34m(\u001b[0m\u001b[0mindexer\u001b[0m\u001b[0;34m)\u001b[0m\u001b[0;34m\u001b[0m\u001b[0;34m\u001b[0m\u001b[0m\n",
      "\u001b[0;32m~/opt/anaconda3/lib/python3.9/site-packages/pandas/core/indexes/base.py\u001b[0m in \u001b[0;36m_raise_if_missing\u001b[0;34m(self, key, indexer, axis_name)\u001b[0m\n\u001b[1;32m   5854\u001b[0m                 \u001b[0;32mif\u001b[0m \u001b[0muse_interval_msg\u001b[0m\u001b[0;34m:\u001b[0m\u001b[0;34m\u001b[0m\u001b[0;34m\u001b[0m\u001b[0m\n\u001b[1;32m   5855\u001b[0m                     \u001b[0mkey\u001b[0m \u001b[0;34m=\u001b[0m \u001b[0mlist\u001b[0m\u001b[0;34m(\u001b[0m\u001b[0mkey\u001b[0m\u001b[0;34m)\u001b[0m\u001b[0;34m\u001b[0m\u001b[0;34m\u001b[0m\u001b[0m\n\u001b[0;32m-> 5856\u001b[0;31m                 \u001b[0;32mraise\u001b[0m \u001b[0mKeyError\u001b[0m\u001b[0;34m(\u001b[0m\u001b[0;34mf\"None of [{key}] are in the [{axis_name}]\"\u001b[0m\u001b[0;34m)\u001b[0m\u001b[0;34m\u001b[0m\u001b[0;34m\u001b[0m\u001b[0m\n\u001b[0m\u001b[1;32m   5857\u001b[0m \u001b[0;34m\u001b[0m\u001b[0m\n\u001b[1;32m   5858\u001b[0m             \u001b[0mnot_found\u001b[0m \u001b[0;34m=\u001b[0m \u001b[0mlist\u001b[0m\u001b[0;34m(\u001b[0m\u001b[0mensure_index\u001b[0m\u001b[0;34m(\u001b[0m\u001b[0mkey\u001b[0m\u001b[0;34m)\u001b[0m\u001b[0;34m[\u001b[0m\u001b[0mmissing_mask\u001b[0m\u001b[0;34m.\u001b[0m\u001b[0mnonzero\u001b[0m\u001b[0;34m(\u001b[0m\u001b[0;34m)\u001b[0m\u001b[0;34m[\u001b[0m\u001b[0;36m0\u001b[0m\u001b[0;34m]\u001b[0m\u001b[0;34m]\u001b[0m\u001b[0;34m.\u001b[0m\u001b[0munique\u001b[0m\u001b[0;34m(\u001b[0m\u001b[0;34m)\u001b[0m\u001b[0;34m)\u001b[0m\u001b[0;34m\u001b[0m\u001b[0;34m\u001b[0m\u001b[0m\n",
      "\u001b[0;31mKeyError\u001b[0m: \"None of [Index(['Citing_appln_id', 'reg_code'], dtype='object')] are in the [columns]\""
     ]
    }
   ],
   "source": [
    "group2_reg = Citations_raw_2[['Citing_appln_id','reg_code']].rename(columns={'Citing_appln_id':'ID','reg_code':'REG'})"
   ]
  },
  {
   "cell_type": "code",
   "execution_count": 390,
   "id": "769bc781",
   "metadata": {},
   "outputs": [],
   "source": [
    "ID_REG = pd.concat([group1_reg,group2_reg]).drop_duplicates()\n",
    "ID_REG = ID_REG.loc[ID_REG['REG'].str.contains('^UK')]"
   ]
  },
  {
   "cell_type": "code",
   "execution_count": 391,
   "id": "0902a4c3",
   "metadata": {},
   "outputs": [],
   "source": [
    "TOGETHER = ID_REG.merge(ID_IPC, left_on='ID', right_on='ID').drop_duplicates().astype(str)"
   ]
  },
  {
   "cell_type": "code",
   "execution_count": 392,
   "id": "9bb50175",
   "metadata": {},
   "outputs": [
    {
     "data": {
      "text/html": [
       "<div>\n",
       "<style scoped>\n",
       "    .dataframe tbody tr th:only-of-type {\n",
       "        vertical-align: middle;\n",
       "    }\n",
       "\n",
       "    .dataframe tbody tr th {\n",
       "        vertical-align: top;\n",
       "    }\n",
       "\n",
       "    .dataframe thead th {\n",
       "        text-align: right;\n",
       "    }\n",
       "</style>\n",
       "<table border=\"1\" class=\"dataframe\">\n",
       "  <thead>\n",
       "    <tr style=\"text-align: right;\">\n",
       "      <th></th>\n",
       "      <th>ID</th>\n",
       "      <th>REG</th>\n",
       "      <th>IPC</th>\n",
       "    </tr>\n",
       "  </thead>\n",
       "  <tbody>\n",
       "    <tr>\n",
       "      <th>0</th>\n",
       "      <td>1303</td>\n",
       "      <td>UKJ42</td>\n",
       "      <td>G02B21/00</td>\n",
       "    </tr>\n",
       "    <tr>\n",
       "      <th>1</th>\n",
       "      <td>1303</td>\n",
       "      <td>UKJ42</td>\n",
       "      <td>G02B21/34</td>\n",
       "    </tr>\n",
       "    <tr>\n",
       "      <th>2</th>\n",
       "      <td>1303</td>\n",
       "      <td>UKJ42</td>\n",
       "      <td>G02B21/36</td>\n",
       "    </tr>\n",
       "    <tr>\n",
       "      <th>3</th>\n",
       "      <td>1303</td>\n",
       "      <td>UKJ42</td>\n",
       "      <td>G02B021/00</td>\n",
       "    </tr>\n",
       "    <tr>\n",
       "      <th>4</th>\n",
       "      <td>1972</td>\n",
       "      <td>UKH23</td>\n",
       "      <td>G02B007/38</td>\n",
       "    </tr>\n",
       "    <tr>\n",
       "      <th>...</th>\n",
       "      <td>...</td>\n",
       "      <td>...</td>\n",
       "      <td>...</td>\n",
       "    </tr>\n",
       "    <tr>\n",
       "      <th>147179</th>\n",
       "      <td>488853923</td>\n",
       "      <td>UKD31</td>\n",
       "      <td>H02K7/18</td>\n",
       "    </tr>\n",
       "    <tr>\n",
       "      <th>147180</th>\n",
       "      <td>488853923</td>\n",
       "      <td>UKD31</td>\n",
       "      <td>H02K21/22</td>\n",
       "    </tr>\n",
       "    <tr>\n",
       "      <th>147181</th>\n",
       "      <td>488853923</td>\n",
       "      <td>UKD31</td>\n",
       "      <td>H02K001/14</td>\n",
       "    </tr>\n",
       "    <tr>\n",
       "      <th>147182</th>\n",
       "      <td>488857545</td>\n",
       "      <td>UKJ11</td>\n",
       "      <td>H03M1/46</td>\n",
       "    </tr>\n",
       "    <tr>\n",
       "      <th>147183</th>\n",
       "      <td>488857545</td>\n",
       "      <td>UKJ11</td>\n",
       "      <td>H03M001/46</td>\n",
       "    </tr>\n",
       "  </tbody>\n",
       "</table>\n",
       "<p>147184 rows × 3 columns</p>\n",
       "</div>"
      ],
      "text/plain": [
       "               ID    REG         IPC\n",
       "0            1303  UKJ42   G02B21/00\n",
       "1            1303  UKJ42   G02B21/34\n",
       "2            1303  UKJ42   G02B21/36\n",
       "3            1303  UKJ42  G02B021/00\n",
       "4            1972  UKH23  G02B007/38\n",
       "...           ...    ...         ...\n",
       "147179  488853923  UKD31    H02K7/18\n",
       "147180  488853923  UKD31   H02K21/22\n",
       "147181  488853923  UKD31  H02K001/14\n",
       "147182  488857545  UKJ11    H03M1/46\n",
       "147183  488857545  UKJ11  H03M001/46\n",
       "\n",
       "[147184 rows x 3 columns]"
      ]
     },
     "execution_count": 392,
     "metadata": {},
     "output_type": "execute_result"
    }
   ],
   "source": [
    "TOGETHER"
   ]
  },
  {
   "cell_type": "code",
   "execution_count": 178,
   "id": "62a0109d",
   "metadata": {},
   "outputs": [
    {
     "data": {
      "text/html": [
       "<div>\n",
       "<style scoped>\n",
       "    .dataframe tbody tr th:only-of-type {\n",
       "        vertical-align: middle;\n",
       "    }\n",
       "\n",
       "    .dataframe tbody tr th {\n",
       "        vertical-align: top;\n",
       "    }\n",
       "\n",
       "    .dataframe thead th {\n",
       "        text-align: right;\n",
       "    }\n",
       "</style>\n",
       "<table border=\"1\" class=\"dataframe\">\n",
       "  <thead>\n",
       "    <tr style=\"text-align: right;\">\n",
       "      <th></th>\n",
       "      <th>SOURCE ID</th>\n",
       "      <th>TARGET ID</th>\n",
       "      <th>YEAR</th>\n",
       "    </tr>\n",
       "  </thead>\n",
       "  <tbody>\n",
       "    <tr>\n",
       "      <th>0</th>\n",
       "      <td>16428374</td>\n",
       "      <td>16429355</td>\n",
       "      <td>1977</td>\n",
       "    </tr>\n",
       "    <tr>\n",
       "      <th>1</th>\n",
       "      <td>16428374</td>\n",
       "      <td>16429355</td>\n",
       "      <td>1977</td>\n",
       "    </tr>\n",
       "    <tr>\n",
       "      <th>2</th>\n",
       "      <td>16436949</td>\n",
       "      <td>16429410</td>\n",
       "      <td>1978</td>\n",
       "    </tr>\n",
       "    <tr>\n",
       "      <th>3</th>\n",
       "      <td>16436952</td>\n",
       "      <td>16429355</td>\n",
       "      <td>1978</td>\n",
       "    </tr>\n",
       "    <tr>\n",
       "      <th>4</th>\n",
       "      <td>16436952</td>\n",
       "      <td>16429355</td>\n",
       "      <td>1978</td>\n",
       "    </tr>\n",
       "    <tr>\n",
       "      <th>...</th>\n",
       "      <td>...</td>\n",
       "      <td>...</td>\n",
       "      <td>...</td>\n",
       "    </tr>\n",
       "    <tr>\n",
       "      <th>189410</th>\n",
       "      <td>508236996</td>\n",
       "      <td>305056</td>\n",
       "      <td>2004</td>\n",
       "    </tr>\n",
       "    <tr>\n",
       "      <th>189411</th>\n",
       "      <td>508236996</td>\n",
       "      <td>305056</td>\n",
       "      <td>2004</td>\n",
       "    </tr>\n",
       "    <tr>\n",
       "      <th>189412</th>\n",
       "      <td>508236996</td>\n",
       "      <td>305056</td>\n",
       "      <td>2004</td>\n",
       "    </tr>\n",
       "    <tr>\n",
       "      <th>189413</th>\n",
       "      <td>508236996</td>\n",
       "      <td>305056</td>\n",
       "      <td>2004</td>\n",
       "    </tr>\n",
       "    <tr>\n",
       "      <th>189414</th>\n",
       "      <td>508236996</td>\n",
       "      <td>305056</td>\n",
       "      <td>2004</td>\n",
       "    </tr>\n",
       "  </tbody>\n",
       "</table>\n",
       "<p>189415 rows × 3 columns</p>\n",
       "</div>"
      ],
      "text/plain": [
       "        SOURCE ID TARGET ID  YEAR\n",
       "0        16428374  16429355  1977\n",
       "1        16428374  16429355  1977\n",
       "2        16436949  16429410  1978\n",
       "3        16436952  16429355  1978\n",
       "4        16436952  16429355  1978\n",
       "...           ...       ...   ...\n",
       "189410  508236996    305056  2004\n",
       "189411  508236996    305056  2004\n",
       "189412  508236996    305056  2004\n",
       "189413  508236996    305056  2004\n",
       "189414  508236996    305056  2004\n",
       "\n",
       "[189415 rows x 3 columns]"
      ]
     },
     "execution_count": 178,
     "metadata": {},
     "output_type": "execute_result"
    }
   ],
   "source": [
    "CIT = Citations_raw_2[['Citing_appln_id','Cited_Appln_id','prio_year']].rename(columns={'Citing_appln_id':'SOURCE ID','Cited_Appln_id':'TARGET ID','prio_year':'YEAR'}).astype(int).astype(str)\n",
    "CIT"
   ]
  },
  {
   "cell_type": "code",
   "execution_count": 179,
   "id": "569ad0ab",
   "metadata": {},
   "outputs": [],
   "source": [
    "DATA = CIT.merge(TOGETHER, left_on='SOURCE ID', right_on='ID').drop(columns='ID').rename(columns={'REG':'SOURCE REG','IPC':'SOURCE IPC'})\n",
    "DATA = DATA.merge(TOGETHER, left_on='TARGET ID', right_on='ID').drop(columns='ID').rename(columns={'REG':'TARGET REG','IPC':'TARGET IPC'})"
   ]
  },
  {
   "cell_type": "code",
   "execution_count": 183,
   "id": "8156bfa5",
   "metadata": {},
   "outputs": [],
   "source": [
    "DATA = DATA.drop_duplicates()"
   ]
  },
  {
   "cell_type": "code",
   "execution_count": 184,
   "id": "1a82b10e",
   "metadata": {},
   "outputs": [
    {
     "data": {
      "text/html": [
       "<div>\n",
       "<style scoped>\n",
       "    .dataframe tbody tr th:only-of-type {\n",
       "        vertical-align: middle;\n",
       "    }\n",
       "\n",
       "    .dataframe tbody tr th {\n",
       "        vertical-align: top;\n",
       "    }\n",
       "\n",
       "    .dataframe thead th {\n",
       "        text-align: right;\n",
       "    }\n",
       "</style>\n",
       "<table border=\"1\" class=\"dataframe\">\n",
       "  <thead>\n",
       "    <tr style=\"text-align: right;\">\n",
       "      <th></th>\n",
       "      <th>SOURCE ID</th>\n",
       "      <th>TARGET ID</th>\n",
       "      <th>YEAR</th>\n",
       "      <th>SOURCE REG</th>\n",
       "      <th>SOURCE IPC</th>\n",
       "      <th>TARGET REG</th>\n",
       "      <th>TARGET IPC</th>\n",
       "    </tr>\n",
       "  </thead>\n",
       "  <tbody>\n",
       "    <tr>\n",
       "      <th>0</th>\n",
       "      <td>16436949</td>\n",
       "      <td>16429410</td>\n",
       "      <td>1978</td>\n",
       "      <td>UKJ11</td>\n",
       "      <td>A01N43/40</td>\n",
       "      <td>UKJ11</td>\n",
       "      <td>A01N043/40</td>\n",
       "    </tr>\n",
       "    <tr>\n",
       "      <th>1</th>\n",
       "      <td>16436949</td>\n",
       "      <td>16429410</td>\n",
       "      <td>1978</td>\n",
       "      <td>UKJ11</td>\n",
       "      <td>C07D213/64</td>\n",
       "      <td>UKJ11</td>\n",
       "      <td>A01N043/40</td>\n",
       "    </tr>\n",
       "    <tr>\n",
       "      <th>2</th>\n",
       "      <td>16436949</td>\n",
       "      <td>16429410</td>\n",
       "      <td>1978</td>\n",
       "      <td>UKJ11</td>\n",
       "      <td>C07D213/643</td>\n",
       "      <td>UKJ11</td>\n",
       "      <td>A01N043/40</td>\n",
       "    </tr>\n",
       "    <tr>\n",
       "      <th>3</th>\n",
       "      <td>16436949</td>\n",
       "      <td>16429410</td>\n",
       "      <td>1978</td>\n",
       "      <td>UKJ11</td>\n",
       "      <td>A01N043/40</td>\n",
       "      <td>UKJ11</td>\n",
       "      <td>A01N043/40</td>\n",
       "    </tr>\n",
       "    <tr>\n",
       "      <th>4</th>\n",
       "      <td>16436966</td>\n",
       "      <td>16429410</td>\n",
       "      <td>1978</td>\n",
       "      <td>UKJ11</td>\n",
       "      <td>A01N43/40</td>\n",
       "      <td>UKJ11</td>\n",
       "      <td>A01N043/40</td>\n",
       "    </tr>\n",
       "    <tr>\n",
       "      <th>...</th>\n",
       "      <td>...</td>\n",
       "      <td>...</td>\n",
       "      <td>...</td>\n",
       "      <td>...</td>\n",
       "      <td>...</td>\n",
       "      <td>...</td>\n",
       "      <td>...</td>\n",
       "    </tr>\n",
       "    <tr>\n",
       "      <th>2249557</th>\n",
       "      <td>488853923</td>\n",
       "      <td>425933360</td>\n",
       "      <td>2018</td>\n",
       "      <td>UKD31</td>\n",
       "      <td>H02K001/14</td>\n",
       "      <td>UKE32</td>\n",
       "      <td>H02M7/493</td>\n",
       "    </tr>\n",
       "    <tr>\n",
       "      <th>2249558</th>\n",
       "      <td>488853923</td>\n",
       "      <td>425933360</td>\n",
       "      <td>2018</td>\n",
       "      <td>UKD31</td>\n",
       "      <td>H02K001/14</td>\n",
       "      <td>UKE32</td>\n",
       "      <td>H02P9/00</td>\n",
       "    </tr>\n",
       "    <tr>\n",
       "      <th>2249559</th>\n",
       "      <td>488853923</td>\n",
       "      <td>425933360</td>\n",
       "      <td>2018</td>\n",
       "      <td>UKD31</td>\n",
       "      <td>H02K001/14</td>\n",
       "      <td>UKE32</td>\n",
       "      <td>H02P25/22</td>\n",
       "    </tr>\n",
       "    <tr>\n",
       "      <th>2249560</th>\n",
       "      <td>488853923</td>\n",
       "      <td>425933360</td>\n",
       "      <td>2018</td>\n",
       "      <td>UKD31</td>\n",
       "      <td>H02K001/14</td>\n",
       "      <td>UKE32</td>\n",
       "      <td>H02P27/06</td>\n",
       "    </tr>\n",
       "    <tr>\n",
       "      <th>2249561</th>\n",
       "      <td>488853923</td>\n",
       "      <td>425933360</td>\n",
       "      <td>2018</td>\n",
       "      <td>UKD31</td>\n",
       "      <td>H02K001/14</td>\n",
       "      <td>UKE32</td>\n",
       "      <td>H02K003/28</td>\n",
       "    </tr>\n",
       "  </tbody>\n",
       "</table>\n",
       "<p>664161 rows × 7 columns</p>\n",
       "</div>"
      ],
      "text/plain": [
       "         SOURCE ID  TARGET ID  YEAR SOURCE REG   SOURCE IPC TARGET REG  \\\n",
       "0         16436949   16429410  1978      UKJ11    A01N43/40      UKJ11   \n",
       "1         16436949   16429410  1978      UKJ11   C07D213/64      UKJ11   \n",
       "2         16436949   16429410  1978      UKJ11  C07D213/643      UKJ11   \n",
       "3         16436949   16429410  1978      UKJ11   A01N043/40      UKJ11   \n",
       "4         16436966   16429410  1978      UKJ11    A01N43/40      UKJ11   \n",
       "...            ...        ...   ...        ...          ...        ...   \n",
       "2249557  488853923  425933360  2018      UKD31   H02K001/14      UKE32   \n",
       "2249558  488853923  425933360  2018      UKD31   H02K001/14      UKE32   \n",
       "2249559  488853923  425933360  2018      UKD31   H02K001/14      UKE32   \n",
       "2249560  488853923  425933360  2018      UKD31   H02K001/14      UKE32   \n",
       "2249561  488853923  425933360  2018      UKD31   H02K001/14      UKE32   \n",
       "\n",
       "         TARGET IPC  \n",
       "0        A01N043/40  \n",
       "1        A01N043/40  \n",
       "2        A01N043/40  \n",
       "3        A01N043/40  \n",
       "4        A01N043/40  \n",
       "...             ...  \n",
       "2249557   H02M7/493  \n",
       "2249558    H02P9/00  \n",
       "2249559   H02P25/22  \n",
       "2249560   H02P27/06  \n",
       "2249561  H02K003/28  \n",
       "\n",
       "[664161 rows x 7 columns]"
      ]
     },
     "execution_count": 184,
     "metadata": {},
     "output_type": "execute_result"
    }
   ],
   "source": [
    "DATA"
   ]
  },
  {
   "cell_type": "code",
   "execution_count": 185,
   "id": "24cb25cc",
   "metadata": {},
   "outputs": [],
   "source": [
    "biotech_classes = [\"A01H001\", \"A01H004\", \"A01K067\", \"A01K035/12\", \"A01K035/13\", \"A01K035/14\",\"A01K035/15\", \"A01K035/16\", \"A01K035/17\", \"A01K035/18\", \"A01K035/19\", \"A01K035/20\", \"A01K035/21\", \"A01K035/22\", \"A01K035/23\", \"A01K035/24\", \"A01K035/25\", \"A01K035/26\", \"A01K035/27\", \"A01K035/28\", \"A01K035/29\", \"A01K035/30\", \"A01K035/31\", \"A01K305/32\", \"A01K035/33\", \"A01K035/34\", \"A01K035/35\", \"A01K035/36\", \"A01K035/37\", \"A01K035/38\", \"A01K035/39\", \"A01K035/40\", \"A01K035/41\", \"A01K035/42\", \"A01K035/43\", \"A01K035/44\", \"A01K035/45\", \"A01K035/46\", \"A01K035/47\", \"A01K035/48\", \"A01K035/49\", \"A01K035/50\", \"A01K035/51\", \"A01K035/52\", \"A01K035/53\", \"A01K035/54\", \"A01K035/55\", \"A01K035/56\", \"A01K035/57\", \"A01K035/58\", \"A01K035/59\", \"A01K035/60\", \"A01K035/61\", \"A01K035/62\", \"A01K035/63\", \"A01K035/64\", \"A01K035/65\", \"A01K035/66\", \"A01K035/67\", \"A01K035/68\", \"A01K035/69\", \"A01K035/70\", \"A01K035/71\", \"A01K035/72\", \"A01K035/73\", \"A01K035/74\", \"A01K035/75\", \"A01K035/76\", \"A01K035/77\", \"A01K035/78\", \"A01K035/79\", \"A61K38\", \"A61K039\", \"A16K048\", \"C02F003/34\", \"C07G011\", \"C07G013\", \"C07G015\", \"C07K004\", \"C07K014\", \"C07K016\", \"C07K017\", \"C07K019\", \"C12M\", \"C12N\", \"C12P\", \"C12Q\", \"C40B010\", \"C40B040/02\", \"C40B040/03\",\"C40B040/04\", \"C40B040/05\", \"C40B040/06\", \"C40B040/07\", \"C40B040/08\", \"C40B050/06\", \"G01N027/327\", \"G01N033/53\", \"G01N033/54\", \"G01N033/55\", \"G01N033/57\", \"G01N033/68\", \"G01N033/74\", \"G01N033/76\", \"G01N033/78\", \"G01N033/88\", \"G01N033/92\", \"G06F019/10\",\"G06F019/11\", \"G06F019/12\", \"G06F019/13\", \"G06F019/14\", \"G06F019/15\", \"G06F019/16\", \"G06F019/17\", \"G06F019/18\", \"G06F019/20\", \"G06F019/21\", \"G06F019/22\", \"G06F019/23\", \"G06F019/24\"]"
   ]
  },
  {
   "cell_type": "code",
   "execution_count": 186,
   "id": "ad67fd85",
   "metadata": {},
   "outputs": [
    {
     "name": "stderr",
     "output_type": "stream",
     "text": [
      "100%|█████████████████████████████████████████| 121/121 [00:26<00:00,  4.53it/s]\n"
     ]
    }
   ],
   "source": [
    "biotech_pd=pd.DataFrame()\n",
    "for i in tqdm(range(len(biotech_classes))):\n",
    "    filt_for_type = DATA['SOURCE IPC'].str.contains('^'+biotech_classes[i]).fillna(False)\n",
    "    biotech_spec = DATA.loc[filt_for_type]\n",
    "    biotech_pd = pd.concat([biotech_pd, biotech_spec], ignore_index=True)"
   ]
  },
  {
   "cell_type": "code",
   "execution_count": 188,
   "id": "6eeefa2f",
   "metadata": {},
   "outputs": [
    {
     "name": "stderr",
     "output_type": "stream",
     "text": [
      "100%|█████████████████████████████████████████| 121/121 [00:01<00:00, 93.49it/s]\n"
     ]
    }
   ],
   "source": [
    "biotech_pd_2=pd.DataFrame()\n",
    "for i in tqdm(range(len(biotech_classes))):\n",
    "    filt_for_type = biotech_pd['TARGET IPC'].str.contains('^'+biotech_classes[i]).fillna(False)\n",
    "    biotech_spec = biotech_pd.loc[filt_for_type]\n",
    "    biotech_pd_2 = pd.concat([biotech_pd_2, biotech_spec], ignore_index=True)"
   ]
  },
  {
   "cell_type": "code",
   "execution_count": 194,
   "id": "16104569",
   "metadata": {},
   "outputs": [],
   "source": [
    "edges_pd = biotech_pd_2[['SOURCE ID','TARGET ID']].drop_duplicates()"
   ]
  },
  {
   "cell_type": "code",
   "execution_count": 196,
   "id": "d99bfda9",
   "metadata": {},
   "outputs": [],
   "source": [
    "edges = list(zip(list(edges_pd['SOURCE ID']),list(edges_pd['TARGET ID'])))"
   ]
  },
  {
   "cell_type": "code",
   "execution_count": 199,
   "id": "81999626",
   "metadata": {},
   "outputs": [
    {
     "data": {
      "image/png": "[encoded data removed]",
      "text/plain": [
       "<Figure size 1000x1000 with 1 Axes>"
      ]
     },
     "metadata": {},
     "output_type": "display_data"
    }
   ],
   "source": [
    "graph = nx.DiGraph()\n",
    "graph.add_edges_from(edges)\n",
    "plt.figure(figsize=(10,10))\n",
    "nx.draw(graph,\n",
    "        with_labels = False,\n",
    "        node_color='deeppink',\n",
    "        node_size=10,\n",
    "        width=0.5,\n",
    "        arrowsize=5,\n",
    "        font_color=\"black\",\n",
    "        font_size=2)"
   ]
  },
  {
   "cell_type": "code",
   "execution_count": null,
   "id": "f6c44aec",
   "metadata": {},
   "outputs": [],
   "source": []
  },
  {
   "cell_type": "code",
   "execution_count": null,
   "id": "be880868",
   "metadata": {},
   "outputs": [],
   "source": []
  },
  {
   "cell_type": "code",
   "execution_count": 8,
   "id": "7da21c5a",
   "metadata": {},
   "outputs": [],
   "source": [
    "EPO_IPCs_raw = pd.read_csv('/Users/joebacchus/Desktop/Bartlett CASA/Data Original/Patent data/202001_EPO_IPC.txt',sep='|')\n",
    "EPO_Patents_raw = pd.read_csv('/Users/joebacchus/Desktop/Bartlett CASA/Data Original/Patent data/202001_EPO_Inventor_reg.txt',sep='|')\n",
    "EPO_Citations_raw = pd.read_csv('/Users/joebacchus/Desktop/Bartlett CASA/Data Original/Citation data/202001_EPO_CITATIONS.txt',sep='|')"
   ]
  },
  {
   "cell_type": "code",
   "execution_count": 9,
   "id": "e41ab002",
   "metadata": {},
   "outputs": [],
   "source": [
    "PCT_IPCs_raw = pd.read_csv('/Users/joebacchus/Desktop/Bartlett CASA/Data Original/Patent data/202001_PCT_IPC.txt',sep='|')\n",
    "PCT_Patents_raw = pd.read_csv('/Users/joebacchus/Desktop/Bartlett CASA/Data Original/Patent data/202001_PCT_Inv_reg.txt',sep='|')\n",
    "PCT_Citations_raw = pd.read_csv('/Users/joebacchus/Desktop/Bartlett CASA/Data Original/Citation data/202001_PCT_CITATIONS.txt',sep='|')"
   ]
  },
  {
   "cell_type": "markdown",
   "id": "e3c94116",
   "metadata": {},
   "source": [
    "#### Filtering"
   ]
  },
  {
   "cell_type": "code",
   "execution_count": 84,
   "id": "f5afdda7",
   "metadata": {},
   "outputs": [],
   "source": [
    "EPO_pat = EPO_Patents_raw.loc[EPO_Patents_raw['ctry_code'] == 'GB'][['app_nbr','reg_code','appln_id']].rename(columns={'app_nbr':'APP','appln_id':'ID','reg_code':'REG'}).drop_duplicates().astype(str)"
   ]
  },
  {
   "cell_type": "code",
   "execution_count": 85,
   "id": "e70e9f40",
   "metadata": {},
   "outputs": [],
   "source": [
    "EPO_cit = EPO_Citations_raw[['Citing_app_nbr','Citing_pub_date','Cited_App_nbr','Cited_pub_date']].rename(columns={'Citing_app_nbr':'APP CITING','Citing_pub_date':'DATE CITING','Cited_App_nbr':'APP CITED','Cited_pub_date':'DATE CITED'}).drop_duplicates().astype(str)"
   ]
  },
  {
   "cell_type": "code",
   "execution_count": 90,
   "id": "0c5704b1",
   "metadata": {},
   "outputs": [],
   "source": [
    "EPO_ipc = EPO_IPCs_raw[['appln_id','prio_year','IPC']].rename(columns={'appln_id':'ID','prio_year':'YEAR','IPC':'IPC'})"
   ]
  },
  {
   "cell_type": "code",
   "execution_count": 86,
   "id": "122b10dc",
   "metadata": {},
   "outputs": [
    {
     "data": {
      "text/plain": [
       "194723"
      ]
     },
     "execution_count": 86,
     "metadata": {},
     "output_type": "execute_result"
    }
   ],
   "source": [
    "len(set(list(EPO_cit['APP CITING'])+list(EPO_cit['APP CITED'])).intersection(set(EPO_pat['APP'])))"
   ]
  },
  {
   "cell_type": "code",
   "execution_count": 74,
   "id": "4da4c579",
   "metadata": {},
   "outputs": [],
   "source": [
    "PCT_pat = PCT_Patents_raw.loc[PCT_Patents_raw['ctry_code'] == 'GB'][['pct_nbr','reg_code']].rename(columns={'pct_nbr':'APP','reg_code':'REG'}).drop_duplicates().astype(str)"
   ]
  },
  {
   "cell_type": "code",
   "execution_count": 75,
   "id": "f8b5d3d0",
   "metadata": {},
   "outputs": [],
   "source": [
    "PCT_cit = PCT_Citations_raw[['Citing_app_nbr','Citing_pub_date','Cited_App_nbr','Cited_pub_date']].rename(columns={'Citing_app_nbr':'APP CITING','Citing_pub_date':'DATE CITING','Cited_App_nbr':'APP CITED','Cited_pub_date':'DATE CITED'}).drop_duplicates().astype(str)"
   ]
  },
  {
   "cell_type": "code",
   "execution_count": 76,
   "id": "0c24a0f6",
   "metadata": {},
   "outputs": [
    {
     "data": {
      "text/plain": [
       "75313"
      ]
     },
     "execution_count": 76,
     "metadata": {},
     "output_type": "execute_result"
    }
   ],
   "source": [
    "len(set(list(PCT_cit['APP CITING'])+list(PCT_cit['APP CITED'])).intersection(set(PCT_pat['APP'])))"
   ]
  },
  {
   "cell_type": "code",
   "execution_count": 89,
   "id": "e9fd75bb",
   "metadata": {},
   "outputs": [
    {
     "data": {
      "text/plain": [
       "4                  2\n",
       "206               85\n",
       "582              266\n",
       "1269             589\n",
       "1276             590\n",
       "             ...    \n",
       "9182118    509041326\n",
       "9182119    509041326\n",
       "9182147    509176761\n",
       "9182157    509176799\n",
       "9182158    509176799\n",
       "Name: ID, Length: 261844, dtype: object"
      ]
     },
     "execution_count": 89,
     "metadata": {},
     "output_type": "execute_result"
    }
   ],
   "source": [
    "set(EPO_pat['ID']).intersection(set())"
   ]
  },
  {
   "cell_type": "code",
   "execution_count": 83,
   "id": "7fccfe66",
   "metadata": {},
   "outputs": [
    {
     "data": {
      "text/html": [
       "<div>\n",
       "<style scoped>\n",
       "    .dataframe tbody tr th:only-of-type {\n",
       "        vertical-align: middle;\n",
       "    }\n",
       "\n",
       "    .dataframe tbody tr th {\n",
       "        vertical-align: top;\n",
       "    }\n",
       "\n",
       "    .dataframe thead th {\n",
       "        text-align: right;\n",
       "    }\n",
       "</style>\n",
       "<table border=\"1\" class=\"dataframe\">\n",
       "  <thead>\n",
       "    <tr style=\"text-align: right;\">\n",
       "      <th></th>\n",
       "      <th>app_nbr</th>\n",
       "      <th>appln_id</th>\n",
       "      <th>pub_nbr</th>\n",
       "      <th>person_id</th>\n",
       "      <th>inv_name</th>\n",
       "      <th>address</th>\n",
       "      <th>reg_code</th>\n",
       "      <th>ctry_code</th>\n",
       "      <th>reg_share</th>\n",
       "      <th>inv_share</th>\n",
       "    </tr>\n",
       "  </thead>\n",
       "  <tbody>\n",
       "    <tr>\n",
       "      <th>0</th>\n",
       "      <td>EP20000103094</td>\n",
       "      <td>1</td>\n",
       "      <td>1037159</td>\n",
       "      <td>2</td>\n",
       "      <td>Lipponen, Markku</td>\n",
       "      <td>Simo Kaarion katu 1 A 2,33720 Tampere</td>\n",
       "      <td>FI197</td>\n",
       "      <td>FI</td>\n",
       "      <td>1.0</td>\n",
       "      <td>0.250000</td>\n",
       "    </tr>\n",
       "    <tr>\n",
       "      <th>1</th>\n",
       "      <td>EP20000103094</td>\n",
       "      <td>1</td>\n",
       "      <td>1037159</td>\n",
       "      <td>3</td>\n",
       "      <td>Laitinen, Timo</td>\n",
       "      <td>Peiponkatu 6,37830 Viiala</td>\n",
       "      <td>FI197</td>\n",
       "      <td>FI</td>\n",
       "      <td>1.0</td>\n",
       "      <td>0.250000</td>\n",
       "    </tr>\n",
       "    <tr>\n",
       "      <th>2</th>\n",
       "      <td>EP20000103094</td>\n",
       "      <td>1</td>\n",
       "      <td>1037159</td>\n",
       "      <td>4</td>\n",
       "      <td>Aho, Ari</td>\n",
       "      <td>Elementinpolku 13 A 6,33720 Tampere</td>\n",
       "      <td>FI197</td>\n",
       "      <td>FI</td>\n",
       "      <td>1.0</td>\n",
       "      <td>0.250000</td>\n",
       "    </tr>\n",
       "    <tr>\n",
       "      <th>3</th>\n",
       "      <td>EP20000103094</td>\n",
       "      <td>1</td>\n",
       "      <td>1037159</td>\n",
       "      <td>5</td>\n",
       "      <td>Knuutila, Jarno</td>\n",
       "      <td>Matti Tapion katu 1 F 17,33720 Tampere</td>\n",
       "      <td>FI197</td>\n",
       "      <td>FI</td>\n",
       "      <td>1.0</td>\n",
       "      <td>0.250000</td>\n",
       "    </tr>\n",
       "    <tr>\n",
       "      <th>4</th>\n",
       "      <td>EP20000107845</td>\n",
       "      <td>2</td>\n",
       "      <td>1024191</td>\n",
       "      <td>9</td>\n",
       "      <td>Griffiths, Andrew David</td>\n",
       "      <td>28 Lilac Court, Cherry Hinton Road,Cambridge C...</td>\n",
       "      <td>UKH12</td>\n",
       "      <td>GB</td>\n",
       "      <td>1.0</td>\n",
       "      <td>0.166667</td>\n",
       "    </tr>\n",
       "    <tr>\n",
       "      <th>...</th>\n",
       "      <td>...</td>\n",
       "      <td>...</td>\n",
       "      <td>...</td>\n",
       "      <td>...</td>\n",
       "      <td>...</td>\n",
       "      <td>...</td>\n",
       "      <td>...</td>\n",
       "      <td>...</td>\n",
       "      <td>...</td>\n",
       "      <td>...</td>\n",
       "    </tr>\n",
       "    <tr>\n",
       "      <th>9182314</th>\n",
       "      <td>EP20190172049</td>\n",
       "      <td>511944146</td>\n",
       "      <td>3511460</td>\n",
       "      <td>69745810</td>\n",
       "      <td>Brandl, Klaus</td>\n",
       "      <td>Wilhelmstr. 4,63512 Hainburg</td>\n",
       "      <td>DE71C</td>\n",
       "      <td>DE</td>\n",
       "      <td>1.0</td>\n",
       "      <td>0.500000</td>\n",
       "    </tr>\n",
       "    <tr>\n",
       "      <th>9182315</th>\n",
       "      <td>EP20190172049</td>\n",
       "      <td>511944146</td>\n",
       "      <td>3511460</td>\n",
       "      <td>69773942</td>\n",
       "      <td>Schneider, Christian</td>\n",
       "      <td>Rasenheeg 3,36119 Neuhof</td>\n",
       "      <td>DE732</td>\n",
       "      <td>DE</td>\n",
       "      <td>1.0</td>\n",
       "      <td>0.500000</td>\n",
       "    </tr>\n",
       "    <tr>\n",
       "      <th>9182316</th>\n",
       "      <td>EP20190171783</td>\n",
       "      <td>512029478</td>\n",
       "      <td>3501658</td>\n",
       "      <td>69876717</td>\n",
       "      <td>Chiu, Tzu-Keng</td>\n",
       "      <td>12F., No. 118, Touqian Rd., Xinzhuang Dist.,24...</td>\n",
       "      <td>TW000</td>\n",
       "      <td>TW</td>\n",
       "      <td>1.0</td>\n",
       "      <td>0.333333</td>\n",
       "    </tr>\n",
       "    <tr>\n",
       "      <th>9182317</th>\n",
       "      <td>EP20190171783</td>\n",
       "      <td>512029478</td>\n",
       "      <td>3501658</td>\n",
       "      <td>69903006</td>\n",
       "      <td>Tseng, Huan-Yi</td>\n",
       "      <td>6F.-3, No. 7, Liyuan 1st St., Linkou Dist.,244...</td>\n",
       "      <td>TW000</td>\n",
       "      <td>TW</td>\n",
       "      <td>1.0</td>\n",
       "      <td>0.333333</td>\n",
       "    </tr>\n",
       "    <tr>\n",
       "      <th>9182318</th>\n",
       "      <td>EP20190171783</td>\n",
       "      <td>512029478</td>\n",
       "      <td>3501658</td>\n",
       "      <td>69914161</td>\n",
       "      <td>Zhu, Yu-Xian</td>\n",
       "      <td>12F., No. 18, Ln. 121, Xingfu Rd., Zhudong,Tow...</td>\n",
       "      <td>TW000</td>\n",
       "      <td>TW</td>\n",
       "      <td>1.0</td>\n",
       "      <td>0.333333</td>\n",
       "    </tr>\n",
       "  </tbody>\n",
       "</table>\n",
       "<p>9182319 rows × 10 columns</p>\n",
       "</div>"
      ],
      "text/plain": [
       "               app_nbr   appln_id  pub_nbr  person_id  \\\n",
       "0        EP20000103094          1  1037159          2   \n",
       "1        EP20000103094          1  1037159          3   \n",
       "2        EP20000103094          1  1037159          4   \n",
       "3        EP20000103094          1  1037159          5   \n",
       "4        EP20000107845          2  1024191          9   \n",
       "...                ...        ...      ...        ...   \n",
       "9182314  EP20190172049  511944146  3511460   69745810   \n",
       "9182315  EP20190172049  511944146  3511460   69773942   \n",
       "9182316  EP20190171783  512029478  3501658   69876717   \n",
       "9182317  EP20190171783  512029478  3501658   69903006   \n",
       "9182318  EP20190171783  512029478  3501658   69914161   \n",
       "\n",
       "                        inv_name  \\\n",
       "0               Lipponen, Markku   \n",
       "1                 Laitinen, Timo   \n",
       "2                       Aho, Ari   \n",
       "3                Knuutila, Jarno   \n",
       "4        Griffiths, Andrew David   \n",
       "...                          ...   \n",
       "9182314            Brandl, Klaus   \n",
       "9182315     Schneider, Christian   \n",
       "9182316           Chiu, Tzu-Keng   \n",
       "9182317           Tseng, Huan-Yi   \n",
       "9182318             Zhu, Yu-Xian   \n",
       "\n",
       "                                                   address reg_code ctry_code  \\\n",
       "0                    Simo Kaarion katu 1 A 2,33720 Tampere    FI197        FI   \n",
       "1                                Peiponkatu 6,37830 Viiala    FI197        FI   \n",
       "2                      Elementinpolku 13 A 6,33720 Tampere    FI197        FI   \n",
       "3                   Matti Tapion katu 1 F 17,33720 Tampere    FI197        FI   \n",
       "4        28 Lilac Court, Cherry Hinton Road,Cambridge C...    UKH12        GB   \n",
       "...                                                    ...      ...       ...   \n",
       "9182314                       Wilhelmstr. 4,63512 Hainburg    DE71C        DE   \n",
       "9182315                           Rasenheeg 3,36119 Neuhof    DE732        DE   \n",
       "9182316  12F., No. 118, Touqian Rd., Xinzhuang Dist.,24...    TW000        TW   \n",
       "9182317  6F.-3, No. 7, Liyuan 1st St., Linkou Dist.,244...    TW000        TW   \n",
       "9182318  12F., No. 18, Ln. 121, Xingfu Rd., Zhudong,Tow...    TW000        TW   \n",
       "\n",
       "         reg_share  inv_share  \n",
       "0              1.0   0.250000  \n",
       "1              1.0   0.250000  \n",
       "2              1.0   0.250000  \n",
       "3              1.0   0.250000  \n",
       "4              1.0   0.166667  \n",
       "...            ...        ...  \n",
       "9182314        1.0   0.500000  \n",
       "9182315        1.0   0.500000  \n",
       "9182316        1.0   0.333333  \n",
       "9182317        1.0   0.333333  \n",
       "9182318        1.0   0.333333  \n",
       "\n",
       "[9182319 rows x 10 columns]"
      ]
     },
     "execution_count": 83,
     "metadata": {},
     "output_type": "execute_result"
    }
   ],
   "source": [
    "EPO_Patents_raw"
   ]
  },
  {
   "cell_type": "code",
   "execution_count": 317,
   "id": "c4916742",
   "metadata": {},
   "outputs": [
    {
     "data": {
      "text/html": [
       "<div>\n",
       "<style scoped>\n",
       "    .dataframe tbody tr th:only-of-type {\n",
       "        vertical-align: middle;\n",
       "    }\n",
       "\n",
       "    .dataframe tbody tr th {\n",
       "        vertical-align: top;\n",
       "    }\n",
       "\n",
       "    .dataframe thead th {\n",
       "        text-align: right;\n",
       "    }\n",
       "</style>\n",
       "<table border=\"1\" class=\"dataframe\">\n",
       "  <thead>\n",
       "    <tr style=\"text-align: right;\">\n",
       "      <th></th>\n",
       "      <th>source</th>\n",
       "      <th>target</th>\n",
       "      <th>time</th>\n",
       "    </tr>\n",
       "  </thead>\n",
       "  <tbody>\n",
       "    <tr>\n",
       "      <th>0</th>\n",
       "      <td>EP19800103907</td>\n",
       "      <td>EP19790300134</td>\n",
       "      <td>1978</td>\n",
       "    </tr>\n",
       "    <tr>\n",
       "      <th>1</th>\n",
       "      <td>EP19800201077</td>\n",
       "      <td>EP19790300134</td>\n",
       "      <td>1978</td>\n",
       "    </tr>\n",
       "    <tr>\n",
       "      <th>2</th>\n",
       "      <td>EP19800201077</td>\n",
       "      <td>EP19790300251</td>\n",
       "      <td>1978</td>\n",
       "    </tr>\n",
       "    <tr>\n",
       "      <th>3</th>\n",
       "      <td>EP19790301557</td>\n",
       "      <td>EP19780300473</td>\n",
       "      <td>1979</td>\n",
       "    </tr>\n",
       "    <tr>\n",
       "      <th>4</th>\n",
       "      <td>EP19790300251</td>\n",
       "      <td>EP19780300203</td>\n",
       "      <td>1979</td>\n",
       "    </tr>\n",
       "    <tr>\n",
       "      <th>...</th>\n",
       "      <td>...</td>\n",
       "      <td>...</td>\n",
       "      <td>...</td>\n",
       "    </tr>\n",
       "    <tr>\n",
       "      <th>19762</th>\n",
       "      <td>EP20170794629</td>\n",
       "      <td>EP20090784654</td>\n",
       "      <td>2017</td>\n",
       "    </tr>\n",
       "    <tr>\n",
       "      <th>19763</th>\n",
       "      <td>EP20180752650</td>\n",
       "      <td>EP20090756784</td>\n",
       "      <td>2018</td>\n",
       "    </tr>\n",
       "    <tr>\n",
       "      <th>19764</th>\n",
       "      <td>EP20180746115</td>\n",
       "      <td>EP20080839560</td>\n",
       "      <td>2018</td>\n",
       "    </tr>\n",
       "    <tr>\n",
       "      <th>19765</th>\n",
       "      <td>EP20180752650</td>\n",
       "      <td>EP20130780381</td>\n",
       "      <td>2018</td>\n",
       "    </tr>\n",
       "    <tr>\n",
       "      <th>19766</th>\n",
       "      <td>EP20180752650</td>\n",
       "      <td>EP20080806361</td>\n",
       "      <td>2018</td>\n",
       "    </tr>\n",
       "  </tbody>\n",
       "</table>\n",
       "<p>19767 rows × 3 columns</p>\n",
       "</div>"
      ],
      "text/plain": [
       "              source         target  time\n",
       "0      EP19800103907  EP19790300134  1978\n",
       "1      EP19800201077  EP19790300134  1978\n",
       "2      EP19800201077  EP19790300251  1978\n",
       "3      EP19790301557  EP19780300473  1979\n",
       "4      EP19790300251  EP19780300203  1979\n",
       "...              ...            ...   ...\n",
       "19762  EP20170794629  EP20090784654  2017\n",
       "19763  EP20180752650  EP20090756784  2018\n",
       "19764  EP20180746115  EP20080839560  2018\n",
       "19765  EP20180752650  EP20130780381  2018\n",
       "19766  EP20180752650  EP20080806361  2018\n",
       "\n",
       "[19767 rows x 3 columns]"
      ]
     },
     "execution_count": 317,
     "metadata": {},
     "output_type": "execute_result"
    }
   ],
   "source": [
    "Citations_raw"
   ]
  },
  {
   "cell_type": "code",
   "execution_count": 359,
   "id": "0df5a9e5",
   "metadata": {},
   "outputs": [
    {
     "ename": "KeyError",
     "evalue": "\"None of [Index(['Citing_app_nbr', 'Cited_App_nbr'], dtype='object')] are in the [columns]\"",
     "output_type": "error",
     "traceback": [
      "\u001b[0;31m---------------------------------------------------------------------------\u001b[0m",
      "\u001b[0;31mKeyError\u001b[0m                                  Traceback (most recent call last)",
      "\u001b[0;32m/var/folders/7f/r079rwbx56v6qwwwwxq2cpzw0000gn/T/ipykernel_40283/1653202399.py\u001b[0m in \u001b[0;36m<module>\u001b[0;34m\u001b[0m\n\u001b[0;32m----> 1\u001b[0;31m \u001b[0mCitations_raw_2\u001b[0m \u001b[0;34m=\u001b[0m \u001b[0mCitations_raw_2\u001b[0m\u001b[0;34m[\u001b[0m\u001b[0;34m[\u001b[0m\u001b[0;34m'Citing_app_nbr'\u001b[0m\u001b[0;34m,\u001b[0m\u001b[0;34m'Cited_App_nbr'\u001b[0m\u001b[0;34m]\u001b[0m\u001b[0;34m]\u001b[0m\u001b[0;34m.\u001b[0m\u001b[0mrename\u001b[0m\u001b[0;34m(\u001b[0m\u001b[0mcolumns\u001b[0m\u001b[0;34m=\u001b[0m\u001b[0;34m{\u001b[0m\u001b[0;34m'Citing_app_nbr'\u001b[0m\u001b[0;34m:\u001b[0m\u001b[0;34m'source'\u001b[0m\u001b[0;34m,\u001b[0m\u001b[0;34m'Cited_App_nbr'\u001b[0m\u001b[0;34m:\u001b[0m\u001b[0;34m'target'\u001b[0m\u001b[0;34m}\u001b[0m\u001b[0;34m)\u001b[0m\u001b[0;34m\u001b[0m\u001b[0;34m\u001b[0m\u001b[0m\n\u001b[0m",
      "\u001b[0;32m~/opt/anaconda3/lib/python3.9/site-packages/pandas/core/frame.py\u001b[0m in \u001b[0;36m__getitem__\u001b[0;34m(self, key)\u001b[0m\n\u001b[1;32m   3509\u001b[0m             \u001b[0;32mif\u001b[0m \u001b[0mis_iterator\u001b[0m\u001b[0;34m(\u001b[0m\u001b[0mkey\u001b[0m\u001b[0;34m)\u001b[0m\u001b[0;34m:\u001b[0m\u001b[0;34m\u001b[0m\u001b[0;34m\u001b[0m\u001b[0m\n\u001b[1;32m   3510\u001b[0m                 \u001b[0mkey\u001b[0m \u001b[0;34m=\u001b[0m \u001b[0mlist\u001b[0m\u001b[0;34m(\u001b[0m\u001b[0mkey\u001b[0m\u001b[0;34m)\u001b[0m\u001b[0;34m\u001b[0m\u001b[0;34m\u001b[0m\u001b[0m\n\u001b[0;32m-> 3511\u001b[0;31m             \u001b[0mindexer\u001b[0m \u001b[0;34m=\u001b[0m \u001b[0mself\u001b[0m\u001b[0;34m.\u001b[0m\u001b[0mcolumns\u001b[0m\u001b[0;34m.\u001b[0m\u001b[0m_get_indexer_strict\u001b[0m\u001b[0;34m(\u001b[0m\u001b[0mkey\u001b[0m\u001b[0;34m,\u001b[0m \u001b[0;34m\"columns\"\u001b[0m\u001b[0;34m)\u001b[0m\u001b[0;34m[\u001b[0m\u001b[0;36m1\u001b[0m\u001b[0;34m]\u001b[0m\u001b[0;34m\u001b[0m\u001b[0;34m\u001b[0m\u001b[0m\n\u001b[0m\u001b[1;32m   3512\u001b[0m \u001b[0;34m\u001b[0m\u001b[0m\n\u001b[1;32m   3513\u001b[0m         \u001b[0;31m# take() does not accept boolean indexers\u001b[0m\u001b[0;34m\u001b[0m\u001b[0;34m\u001b[0m\u001b[0m\n",
      "\u001b[0;32m~/opt/anaconda3/lib/python3.9/site-packages/pandas/core/indexes/base.py\u001b[0m in \u001b[0;36m_get_indexer_strict\u001b[0;34m(self, key, axis_name)\u001b[0m\n\u001b[1;32m   5794\u001b[0m             \u001b[0mkeyarr\u001b[0m\u001b[0;34m,\u001b[0m \u001b[0mindexer\u001b[0m\u001b[0;34m,\u001b[0m \u001b[0mnew_indexer\u001b[0m \u001b[0;34m=\u001b[0m \u001b[0mself\u001b[0m\u001b[0;34m.\u001b[0m\u001b[0m_reindex_non_unique\u001b[0m\u001b[0;34m(\u001b[0m\u001b[0mkeyarr\u001b[0m\u001b[0;34m)\u001b[0m\u001b[0;34m\u001b[0m\u001b[0;34m\u001b[0m\u001b[0m\n\u001b[1;32m   5795\u001b[0m \u001b[0;34m\u001b[0m\u001b[0m\n\u001b[0;32m-> 5796\u001b[0;31m         \u001b[0mself\u001b[0m\u001b[0;34m.\u001b[0m\u001b[0m_raise_if_missing\u001b[0m\u001b[0;34m(\u001b[0m\u001b[0mkeyarr\u001b[0m\u001b[0;34m,\u001b[0m \u001b[0mindexer\u001b[0m\u001b[0;34m,\u001b[0m \u001b[0maxis_name\u001b[0m\u001b[0;34m)\u001b[0m\u001b[0;34m\u001b[0m\u001b[0;34m\u001b[0m\u001b[0m\n\u001b[0m\u001b[1;32m   5797\u001b[0m \u001b[0;34m\u001b[0m\u001b[0m\n\u001b[1;32m   5798\u001b[0m         \u001b[0mkeyarr\u001b[0m \u001b[0;34m=\u001b[0m \u001b[0mself\u001b[0m\u001b[0;34m.\u001b[0m\u001b[0mtake\u001b[0m\u001b[0;34m(\u001b[0m\u001b[0mindexer\u001b[0m\u001b[0;34m)\u001b[0m\u001b[0;34m\u001b[0m\u001b[0;34m\u001b[0m\u001b[0m\n",
      "\u001b[0;32m~/opt/anaconda3/lib/python3.9/site-packages/pandas/core/indexes/base.py\u001b[0m in \u001b[0;36m_raise_if_missing\u001b[0;34m(self, key, indexer, axis_name)\u001b[0m\n\u001b[1;32m   5854\u001b[0m                 \u001b[0;32mif\u001b[0m \u001b[0muse_interval_msg\u001b[0m\u001b[0;34m:\u001b[0m\u001b[0;34m\u001b[0m\u001b[0;34m\u001b[0m\u001b[0m\n\u001b[1;32m   5855\u001b[0m                     \u001b[0mkey\u001b[0m \u001b[0;34m=\u001b[0m \u001b[0mlist\u001b[0m\u001b[0;34m(\u001b[0m\u001b[0mkey\u001b[0m\u001b[0;34m)\u001b[0m\u001b[0;34m\u001b[0m\u001b[0;34m\u001b[0m\u001b[0m\n\u001b[0;32m-> 5856\u001b[0;31m                 \u001b[0;32mraise\u001b[0m \u001b[0mKeyError\u001b[0m\u001b[0;34m(\u001b[0m\u001b[0;34mf\"None of [{key}] are in the [{axis_name}]\"\u001b[0m\u001b[0;34m)\u001b[0m\u001b[0;34m\u001b[0m\u001b[0;34m\u001b[0m\u001b[0m\n\u001b[0m\u001b[1;32m   5857\u001b[0m \u001b[0;34m\u001b[0m\u001b[0m\n\u001b[1;32m   5858\u001b[0m             \u001b[0mnot_found\u001b[0m \u001b[0;34m=\u001b[0m \u001b[0mlist\u001b[0m\u001b[0;34m(\u001b[0m\u001b[0mensure_index\u001b[0m\u001b[0;34m(\u001b[0m\u001b[0mkey\u001b[0m\u001b[0;34m)\u001b[0m\u001b[0;34m[\u001b[0m\u001b[0mmissing_mask\u001b[0m\u001b[0;34m.\u001b[0m\u001b[0mnonzero\u001b[0m\u001b[0;34m(\u001b[0m\u001b[0;34m)\u001b[0m\u001b[0;34m[\u001b[0m\u001b[0;36m0\u001b[0m\u001b[0;34m]\u001b[0m\u001b[0;34m]\u001b[0m\u001b[0;34m.\u001b[0m\u001b[0munique\u001b[0m\u001b[0;34m(\u001b[0m\u001b[0;34m)\u001b[0m\u001b[0;34m)\u001b[0m\u001b[0;34m\u001b[0m\u001b[0;34m\u001b[0m\u001b[0m\n",
      "\u001b[0;31mKeyError\u001b[0m: \"None of [Index(['Citing_app_nbr', 'Cited_App_nbr'], dtype='object')] are in the [columns]\""
     ]
    }
   ],
   "source": [
    "Citations_raw_2 = Citations_raw_2[['Citing_app_nbr','Cited_App_nbr']].rename(columns={'Citing_app_nbr':'source','Cited_App_nbr':'target'})"
   ]
  },
  {
   "cell_type": "code",
   "execution_count": 360,
   "id": "fd24bffc",
   "metadata": {},
   "outputs": [
    {
     "data": {
      "text/html": [
       "<div>\n",
       "<style scoped>\n",
       "    .dataframe tbody tr th:only-of-type {\n",
       "        vertical-align: middle;\n",
       "    }\n",
       "\n",
       "    .dataframe tbody tr th {\n",
       "        vertical-align: top;\n",
       "    }\n",
       "\n",
       "    .dataframe thead th {\n",
       "        text-align: right;\n",
       "    }\n",
       "</style>\n",
       "<table border=\"1\" class=\"dataframe\">\n",
       "  <thead>\n",
       "    <tr style=\"text-align: right;\">\n",
       "      <th></th>\n",
       "      <th>app_nbr</th>\n",
       "      <th>appln_id</th>\n",
       "      <th>reg_code</th>\n",
       "      <th>prio_year</th>\n",
       "      <th>IPC</th>\n",
       "    </tr>\n",
       "  </thead>\n",
       "  <tbody>\n",
       "    <tr>\n",
       "      <th>0</th>\n",
       "      <td>EP20020258685</td>\n",
       "      <td>1303</td>\n",
       "      <td>UKJ42</td>\n",
       "      <td>2001</td>\n",
       "      <td>G02B021/00</td>\n",
       "    </tr>\n",
       "    <tr>\n",
       "      <th>2</th>\n",
       "      <td>EP20060250283</td>\n",
       "      <td>1972</td>\n",
       "      <td>UKH23</td>\n",
       "      <td>2005</td>\n",
       "      <td>G02B007/38</td>\n",
       "    </tr>\n",
       "    <tr>\n",
       "      <th>3</th>\n",
       "      <td>EP20060251704</td>\n",
       "      <td>1977</td>\n",
       "      <td>UKD71</td>\n",
       "      <td>2005</td>\n",
       "      <td>B62D053/08</td>\n",
       "    </tr>\n",
       "    <tr>\n",
       "      <th>4</th>\n",
       "      <td>EP20060794909</td>\n",
       "      <td>2112</td>\n",
       "      <td>UKF24</td>\n",
       "      <td>2005</td>\n",
       "      <td>H04Q001/14</td>\n",
       "    </tr>\n",
       "    <tr>\n",
       "      <th>5</th>\n",
       "      <td>EP20060808647</td>\n",
       "      <td>2151</td>\n",
       "      <td>UKD62</td>\n",
       "      <td>2005</td>\n",
       "      <td>H01J049/42</td>\n",
       "    </tr>\n",
       "    <tr>\n",
       "      <th>...</th>\n",
       "      <td>...</td>\n",
       "      <td>...</td>\n",
       "      <td>...</td>\n",
       "      <td>...</td>\n",
       "      <td>...</td>\n",
       "    </tr>\n",
       "    <tr>\n",
       "      <th>76156</th>\n",
       "      <td>EP20180020259</td>\n",
       "      <td>496110531</td>\n",
       "      <td>UKG24</td>\n",
       "      <td>2017</td>\n",
       "      <td>E02D029/14</td>\n",
       "    </tr>\n",
       "    <tr>\n",
       "      <th>76160</th>\n",
       "      <td>EP20180184062</td>\n",
       "      <td>497244282</td>\n",
       "      <td>UKM22</td>\n",
       "      <td>2017</td>\n",
       "      <td>B26D001/08</td>\n",
       "    </tr>\n",
       "    <tr>\n",
       "      <th>76161</th>\n",
       "      <td>EP20180191464</td>\n",
       "      <td>498998508</td>\n",
       "      <td>UKI12</td>\n",
       "      <td>2017</td>\n",
       "      <td>G10K011/178</td>\n",
       "    </tr>\n",
       "    <tr>\n",
       "      <th>76162</th>\n",
       "      <td>EP20180191464</td>\n",
       "      <td>498998508</td>\n",
       "      <td>UKH23</td>\n",
       "      <td>2017</td>\n",
       "      <td>G10K011/178</td>\n",
       "    </tr>\n",
       "    <tr>\n",
       "      <th>76166</th>\n",
       "      <td>EP20180212257</td>\n",
       "      <td>504481338</td>\n",
       "      <td>UKJ23</td>\n",
       "      <td>2017</td>\n",
       "      <td>H02M001/00</td>\n",
       "    </tr>\n",
       "  </tbody>\n",
       "</table>\n",
       "<p>58151 rows × 5 columns</p>\n",
       "</div>"
      ],
      "text/plain": [
       "             app_nbr   appln_id reg_code  prio_year          IPC\n",
       "0      EP20020258685       1303    UKJ42       2001   G02B021/00\n",
       "2      EP20060250283       1972    UKH23       2005   G02B007/38\n",
       "3      EP20060251704       1977    UKD71       2005   B62D053/08\n",
       "4      EP20060794909       2112    UKF24       2005   H04Q001/14\n",
       "5      EP20060808647       2151    UKD62       2005   H01J049/42\n",
       "...              ...        ...      ...        ...          ...\n",
       "76156  EP20180020259  496110531    UKG24       2017   E02D029/14\n",
       "76160  EP20180184062  497244282    UKM22       2017   B26D001/08\n",
       "76161  EP20180191464  498998508    UKI12       2017  G10K011/178\n",
       "76162  EP20180191464  498998508    UKH23       2017  G10K011/178\n",
       "76166  EP20180212257  504481338    UKJ23       2017   H02M001/00\n",
       "\n",
       "[58151 rows x 5 columns]"
      ]
     },
     "execution_count": 360,
     "metadata": {},
     "output_type": "execute_result"
    }
   ],
   "source": [
    "Patents_raw"
   ]
  },
  {
   "cell_type": "code",
   "execution_count": 361,
   "id": "f503655a",
   "metadata": {},
   "outputs": [
    {
     "name": "stderr",
     "output_type": "stream",
     "text": [
      "100%|█████████████████████████████████████████| 121/121 [00:03<00:00, 33.89it/s]\n"
     ]
    }
   ],
   "source": [
    "biotech_pd=pd.DataFrame()\n",
    "for i in tqdm(range(len(biotech_classes))):\n",
    "    filt_for_type = Patents_raw['IPC'].str.contains('^'+biotech_classes[i]).fillna(False)\n",
    "    biotech_spec = Patents_raw.loc[filt_for_type]\n",
    "    biotech_pd = pd.concat([biotech_pd, biotech_spec], ignore_index=True)"
   ]
  },
  {
   "cell_type": "code",
   "execution_count": 362,
   "id": "3cade315",
   "metadata": {},
   "outputs": [
    {
     "data": {
      "text/plain": [
       "1016"
      ]
     },
     "execution_count": 362,
     "metadata": {},
     "output_type": "execute_result"
    }
   ],
   "source": [
    "allowed = list(biotech_pd['app_nbr'].unique())\n",
    "len(allowed)"
   ]
  },
  {
   "cell_type": "code",
   "execution_count": 369,
   "id": "5a3cb08f",
   "metadata": {},
   "outputs": [],
   "source": [
    "filtered_df = Citations_raw_2[Citations_raw_2[\"source\"].isin(allowed) | Citations_raw_2[\"target\"].isin(allowed)]"
   ]
  },
  {
   "cell_type": "code",
   "execution_count": 370,
   "id": "f1ba3d8d",
   "metadata": {},
   "outputs": [],
   "source": [
    "edges = list(zip(list(filtered_df['source']),list(filtered_df['target'])))"
   ]
  },
  {
   "cell_type": "code",
   "execution_count": 371,
   "id": "58f599d0",
   "metadata": {
    "scrolled": true
   },
   "outputs": [
    {
     "data": {
      "text/plain": [
       "1910"
      ]
     },
     "execution_count": 371,
     "metadata": {},
     "output_type": "execute_result"
    }
   ],
   "source": [
    "graph = nx.Graph()\n",
    "graph.add_edges_from(edges)\n",
    "len(graph.nodes())"
   ]
  },
  {
   "cell_type": "code",
   "execution_count": 372,
   "id": "6de55a41",
   "metadata": {},
   "outputs": [
    {
     "data": {
      "text/plain": [
       "1910"
      ]
     },
     "execution_count": 372,
     "metadata": {},
     "output_type": "execute_result"
    }
   ],
   "source": [
    "len(graph.nodes())"
   ]
  },
  {
   "cell_type": "code",
   "execution_count": 373,
   "id": "cd5ab16d",
   "metadata": {},
   "outputs": [
    {
     "data": {
      "text/plain": [
       "702"
      ]
     },
     "execution_count": 373,
     "metadata": {},
     "output_type": "execute_result"
    }
   ],
   "source": [
    "Gcc = sorted(nx.connected_components(graph), key=len, reverse=True)\n",
    "G0 = graph.subgraph(Gcc[0])\n",
    "len(G0.nodes())"
   ]
  },
  {
   "cell_type": "code",
   "execution_count": 419,
   "id": "c35ed7cf",
   "metadata": {},
   "outputs": [
    {
     "name": "stdout",
     "output_type": "stream",
     "text": [
      "Error in callback <function flush_figures at 0x7ff1264c91f0> (for post_execute):\n"
     ]
    },
    {
     "ename": "KeyboardInterrupt",
     "evalue": "",
     "output_type": "error",
     "traceback": [
      "\u001b[0;31m---------------------------------------------------------------------------\u001b[0m",
      "\u001b[0;31mKeyboardInterrupt\u001b[0m                         Traceback (most recent call last)",
      "\u001b[0;32m~/opt/anaconda3/lib/python3.9/site-packages/matplotlib_inline/backend_inline.py\u001b[0m in \u001b[0;36mflush_figures\u001b[0;34m()\u001b[0m\n\u001b[1;32m    124\u001b[0m             \u001b[0;31m# ignore the tracking, just draw and close all figures\u001b[0m\u001b[0;34m\u001b[0m\u001b[0;34m\u001b[0m\u001b[0m\n\u001b[1;32m    125\u001b[0m             \u001b[0;32mtry\u001b[0m\u001b[0;34m:\u001b[0m\u001b[0;34m\u001b[0m\u001b[0;34m\u001b[0m\u001b[0m\n\u001b[0;32m--> 126\u001b[0;31m                 \u001b[0;32mreturn\u001b[0m \u001b[0mshow\u001b[0m\u001b[0;34m(\u001b[0m\u001b[0;32mTrue\u001b[0m\u001b[0;34m)\u001b[0m\u001b[0;34m\u001b[0m\u001b[0;34m\u001b[0m\u001b[0m\n\u001b[0m\u001b[1;32m    127\u001b[0m             \u001b[0;32mexcept\u001b[0m \u001b[0mException\u001b[0m \u001b[0;32mas\u001b[0m \u001b[0me\u001b[0m\u001b[0;34m:\u001b[0m\u001b[0;34m\u001b[0m\u001b[0;34m\u001b[0m\u001b[0m\n\u001b[1;32m    128\u001b[0m                 \u001b[0;31m# safely show traceback if in IPython, else raise\u001b[0m\u001b[0;34m\u001b[0m\u001b[0;34m\u001b[0m\u001b[0m\n",
      "\u001b[0;32m~/opt/anaconda3/lib/python3.9/site-packages/matplotlib_inline/backend_inline.py\u001b[0m in \u001b[0;36mshow\u001b[0;34m(close, block)\u001b[0m\n\u001b[1;32m     88\u001b[0m     \u001b[0;32mtry\u001b[0m\u001b[0;34m:\u001b[0m\u001b[0;34m\u001b[0m\u001b[0;34m\u001b[0m\u001b[0m\n\u001b[1;32m     89\u001b[0m         \u001b[0;32mfor\u001b[0m \u001b[0mfigure_manager\u001b[0m \u001b[0;32min\u001b[0m \u001b[0mGcf\u001b[0m\u001b[0;34m.\u001b[0m\u001b[0mget_all_fig_managers\u001b[0m\u001b[0;34m(\u001b[0m\u001b[0;34m)\u001b[0m\u001b[0;34m:\u001b[0m\u001b[0;34m\u001b[0m\u001b[0;34m\u001b[0m\u001b[0m\n\u001b[0;32m---> 90\u001b[0;31m             display(\n\u001b[0m\u001b[1;32m     91\u001b[0m                 \u001b[0mfigure_manager\u001b[0m\u001b[0;34m.\u001b[0m\u001b[0mcanvas\u001b[0m\u001b[0;34m.\u001b[0m\u001b[0mfigure\u001b[0m\u001b[0;34m,\u001b[0m\u001b[0;34m\u001b[0m\u001b[0;34m\u001b[0m\u001b[0m\n\u001b[1;32m     92\u001b[0m                 \u001b[0mmetadata\u001b[0m\u001b[0;34m=\u001b[0m\u001b[0m_fetch_figure_metadata\u001b[0m\u001b[0;34m(\u001b[0m\u001b[0mfigure_manager\u001b[0m\u001b[0;34m.\u001b[0m\u001b[0mcanvas\u001b[0m\u001b[0;34m.\u001b[0m\u001b[0mfigure\u001b[0m\u001b[0;34m)\u001b[0m\u001b[0;34m\u001b[0m\u001b[0;34m\u001b[0m\u001b[0m\n",
      "\u001b[0;32m~/opt/anaconda3/lib/python3.9/site-packages/IPython/core/display.py\u001b[0m in \u001b[0;36mdisplay\u001b[0;34m(include, exclude, metadata, transient, display_id, *objs, **kwargs)\u001b[0m\n\u001b[1;32m    318\u001b[0m             \u001b[0mpublish_display_data\u001b[0m\u001b[0;34m(\u001b[0m\u001b[0mdata\u001b[0m\u001b[0;34m=\u001b[0m\u001b[0mobj\u001b[0m\u001b[0;34m,\u001b[0m \u001b[0mmetadata\u001b[0m\u001b[0;34m=\u001b[0m\u001b[0mmetadata\u001b[0m\u001b[0;34m,\u001b[0m \u001b[0;34m**\u001b[0m\u001b[0mkwargs\u001b[0m\u001b[0;34m)\u001b[0m\u001b[0;34m\u001b[0m\u001b[0;34m\u001b[0m\u001b[0m\n\u001b[1;32m    319\u001b[0m         \u001b[0;32melse\u001b[0m\u001b[0;34m:\u001b[0m\u001b[0;34m\u001b[0m\u001b[0;34m\u001b[0m\u001b[0m\n\u001b[0;32m--> 320\u001b[0;31m             \u001b[0mformat_dict\u001b[0m\u001b[0;34m,\u001b[0m \u001b[0mmd_dict\u001b[0m \u001b[0;34m=\u001b[0m \u001b[0mformat\u001b[0m\u001b[0;34m(\u001b[0m\u001b[0mobj\u001b[0m\u001b[0;34m,\u001b[0m \u001b[0minclude\u001b[0m\u001b[0;34m=\u001b[0m\u001b[0minclude\u001b[0m\u001b[0;34m,\u001b[0m \u001b[0mexclude\u001b[0m\u001b[0;34m=\u001b[0m\u001b[0mexclude\u001b[0m\u001b[0;34m)\u001b[0m\u001b[0;34m\u001b[0m\u001b[0;34m\u001b[0m\u001b[0m\n\u001b[0m\u001b[1;32m    321\u001b[0m             \u001b[0;32mif\u001b[0m \u001b[0;32mnot\u001b[0m \u001b[0mformat_dict\u001b[0m\u001b[0;34m:\u001b[0m\u001b[0;34m\u001b[0m\u001b[0;34m\u001b[0m\u001b[0m\n\u001b[1;32m    322\u001b[0m                 \u001b[0;31m# nothing to display (e.g. _ipython_display_ took over)\u001b[0m\u001b[0;34m\u001b[0m\u001b[0;34m\u001b[0m\u001b[0m\n",
      "\u001b[0;32m~/opt/anaconda3/lib/python3.9/site-packages/IPython/core/formatters.py\u001b[0m in \u001b[0;36mformat\u001b[0;34m(self, obj, include, exclude)\u001b[0m\n\u001b[1;32m    178\u001b[0m             \u001b[0mmd\u001b[0m \u001b[0;34m=\u001b[0m \u001b[0;32mNone\u001b[0m\u001b[0;34m\u001b[0m\u001b[0;34m\u001b[0m\u001b[0m\n\u001b[1;32m    179\u001b[0m             \u001b[0;32mtry\u001b[0m\u001b[0;34m:\u001b[0m\u001b[0;34m\u001b[0m\u001b[0;34m\u001b[0m\u001b[0m\n\u001b[0;32m--> 180\u001b[0;31m                 \u001b[0mdata\u001b[0m \u001b[0;34m=\u001b[0m \u001b[0mformatter\u001b[0m\u001b[0;34m(\u001b[0m\u001b[0mobj\u001b[0m\u001b[0;34m)\u001b[0m\u001b[0;34m\u001b[0m\u001b[0;34m\u001b[0m\u001b[0m\n\u001b[0m\u001b[1;32m    181\u001b[0m             \u001b[0;32mexcept\u001b[0m\u001b[0;34m:\u001b[0m\u001b[0;34m\u001b[0m\u001b[0;34m\u001b[0m\u001b[0m\n\u001b[1;32m    182\u001b[0m                 \u001b[0;31m# FIXME: log the exception\u001b[0m\u001b[0;34m\u001b[0m\u001b[0;34m\u001b[0m\u001b[0m\n",
      "\u001b[0;32m~/opt/anaconda3/lib/python3.9/site-packages/decorator.py\u001b[0m in \u001b[0;36mfun\u001b[0;34m(*args, **kw)\u001b[0m\n\u001b[1;32m    230\u001b[0m             \u001b[0;32mif\u001b[0m \u001b[0;32mnot\u001b[0m \u001b[0mkwsyntax\u001b[0m\u001b[0;34m:\u001b[0m\u001b[0;34m\u001b[0m\u001b[0;34m\u001b[0m\u001b[0m\n\u001b[1;32m    231\u001b[0m                 \u001b[0margs\u001b[0m\u001b[0;34m,\u001b[0m \u001b[0mkw\u001b[0m \u001b[0;34m=\u001b[0m \u001b[0mfix\u001b[0m\u001b[0;34m(\u001b[0m\u001b[0margs\u001b[0m\u001b[0;34m,\u001b[0m \u001b[0mkw\u001b[0m\u001b[0;34m,\u001b[0m \u001b[0msig\u001b[0m\u001b[0;34m)\u001b[0m\u001b[0;34m\u001b[0m\u001b[0;34m\u001b[0m\u001b[0m\n\u001b[0;32m--> 232\u001b[0;31m             \u001b[0;32mreturn\u001b[0m \u001b[0mcaller\u001b[0m\u001b[0;34m(\u001b[0m\u001b[0mfunc\u001b[0m\u001b[0;34m,\u001b[0m \u001b[0;34m*\u001b[0m\u001b[0;34m(\u001b[0m\u001b[0mextras\u001b[0m \u001b[0;34m+\u001b[0m \u001b[0margs\u001b[0m\u001b[0;34m)\u001b[0m\u001b[0;34m,\u001b[0m \u001b[0;34m**\u001b[0m\u001b[0mkw\u001b[0m\u001b[0;34m)\u001b[0m\u001b[0;34m\u001b[0m\u001b[0;34m\u001b[0m\u001b[0m\n\u001b[0m\u001b[1;32m    233\u001b[0m     \u001b[0mfun\u001b[0m\u001b[0;34m.\u001b[0m\u001b[0m__name__\u001b[0m \u001b[0;34m=\u001b[0m \u001b[0mfunc\u001b[0m\u001b[0;34m.\u001b[0m\u001b[0m__name__\u001b[0m\u001b[0;34m\u001b[0m\u001b[0;34m\u001b[0m\u001b[0m\n\u001b[1;32m    234\u001b[0m     \u001b[0mfun\u001b[0m\u001b[0;34m.\u001b[0m\u001b[0m__doc__\u001b[0m \u001b[0;34m=\u001b[0m \u001b[0mfunc\u001b[0m\u001b[0;34m.\u001b[0m\u001b[0m__doc__\u001b[0m\u001b[0;34m\u001b[0m\u001b[0;34m\u001b[0m\u001b[0m\n",
      "\u001b[0;32m~/opt/anaconda3/lib/python3.9/site-packages/IPython/core/formatters.py\u001b[0m in \u001b[0;36mcatch_format_error\u001b[0;34m(method, self, *args, **kwargs)\u001b[0m\n\u001b[1;32m    222\u001b[0m     \u001b[0;34m\"\"\"show traceback on failed format call\"\"\"\u001b[0m\u001b[0;34m\u001b[0m\u001b[0;34m\u001b[0m\u001b[0m\n\u001b[1;32m    223\u001b[0m     \u001b[0;32mtry\u001b[0m\u001b[0;34m:\u001b[0m\u001b[0;34m\u001b[0m\u001b[0;34m\u001b[0m\u001b[0m\n\u001b[0;32m--> 224\u001b[0;31m         \u001b[0mr\u001b[0m \u001b[0;34m=\u001b[0m \u001b[0mmethod\u001b[0m\u001b[0;34m(\u001b[0m\u001b[0mself\u001b[0m\u001b[0;34m,\u001b[0m \u001b[0;34m*\u001b[0m\u001b[0margs\u001b[0m\u001b[0;34m,\u001b[0m \u001b[0;34m**\u001b[0m\u001b[0mkwargs\u001b[0m\u001b[0;34m)\u001b[0m\u001b[0;34m\u001b[0m\u001b[0;34m\u001b[0m\u001b[0m\n\u001b[0m\u001b[1;32m    225\u001b[0m     \u001b[0;32mexcept\u001b[0m \u001b[0mNotImplementedError\u001b[0m\u001b[0;34m:\u001b[0m\u001b[0;34m\u001b[0m\u001b[0;34m\u001b[0m\u001b[0m\n\u001b[1;32m    226\u001b[0m         \u001b[0;31m# don't warn on NotImplementedErrors\u001b[0m\u001b[0;34m\u001b[0m\u001b[0;34m\u001b[0m\u001b[0m\n",
      "\u001b[0;32m~/opt/anaconda3/lib/python3.9/site-packages/IPython/core/formatters.py\u001b[0m in \u001b[0;36m__call__\u001b[0;34m(self, obj)\u001b[0m\n\u001b[1;32m    339\u001b[0m                 \u001b[0;32mpass\u001b[0m\u001b[0;34m\u001b[0m\u001b[0;34m\u001b[0m\u001b[0m\n\u001b[1;32m    340\u001b[0m             \u001b[0;32melse\u001b[0m\u001b[0;34m:\u001b[0m\u001b[0;34m\u001b[0m\u001b[0;34m\u001b[0m\u001b[0m\n\u001b[0;32m--> 341\u001b[0;31m                 \u001b[0;32mreturn\u001b[0m \u001b[0mprinter\u001b[0m\u001b[0;34m(\u001b[0m\u001b[0mobj\u001b[0m\u001b[0;34m)\u001b[0m\u001b[0;34m\u001b[0m\u001b[0;34m\u001b[0m\u001b[0m\n\u001b[0m\u001b[1;32m    342\u001b[0m             \u001b[0;31m# Finally look for special method names\u001b[0m\u001b[0;34m\u001b[0m\u001b[0;34m\u001b[0m\u001b[0m\n\u001b[1;32m    343\u001b[0m             \u001b[0mmethod\u001b[0m \u001b[0;34m=\u001b[0m \u001b[0mget_real_method\u001b[0m\u001b[0;34m(\u001b[0m\u001b[0mobj\u001b[0m\u001b[0;34m,\u001b[0m \u001b[0mself\u001b[0m\u001b[0;34m.\u001b[0m\u001b[0mprint_method\u001b[0m\u001b[0;34m)\u001b[0m\u001b[0;34m\u001b[0m\u001b[0;34m\u001b[0m\u001b[0m\n",
      "\u001b[0;32m~/opt/anaconda3/lib/python3.9/site-packages/IPython/core/pylabtools.py\u001b[0m in \u001b[0;36mprint_figure\u001b[0;34m(fig, fmt, bbox_inches, base64, **kwargs)\u001b[0m\n\u001b[1;32m    149\u001b[0m         \u001b[0mFigureCanvasBase\u001b[0m\u001b[0;34m(\u001b[0m\u001b[0mfig\u001b[0m\u001b[0;34m)\u001b[0m\u001b[0;34m\u001b[0m\u001b[0;34m\u001b[0m\u001b[0m\n\u001b[1;32m    150\u001b[0m \u001b[0;34m\u001b[0m\u001b[0m\n\u001b[0;32m--> 151\u001b[0;31m     \u001b[0mfig\u001b[0m\u001b[0;34m.\u001b[0m\u001b[0mcanvas\u001b[0m\u001b[0;34m.\u001b[0m\u001b[0mprint_figure\u001b[0m\u001b[0;34m(\u001b[0m\u001b[0mbytes_io\u001b[0m\u001b[0;34m,\u001b[0m \u001b[0;34m**\u001b[0m\u001b[0mkw\u001b[0m\u001b[0;34m)\u001b[0m\u001b[0;34m\u001b[0m\u001b[0;34m\u001b[0m\u001b[0m\n\u001b[0m\u001b[1;32m    152\u001b[0m     \u001b[0mdata\u001b[0m \u001b[0;34m=\u001b[0m \u001b[0mbytes_io\u001b[0m\u001b[0;34m.\u001b[0m\u001b[0mgetvalue\u001b[0m\u001b[0;34m(\u001b[0m\u001b[0;34m)\u001b[0m\u001b[0;34m\u001b[0m\u001b[0;34m\u001b[0m\u001b[0m\n\u001b[1;32m    153\u001b[0m     \u001b[0;32mif\u001b[0m \u001b[0mfmt\u001b[0m \u001b[0;34m==\u001b[0m \u001b[0;34m'svg'\u001b[0m\u001b[0;34m:\u001b[0m\u001b[0;34m\u001b[0m\u001b[0;34m\u001b[0m\u001b[0m\n",
      "\u001b[0;32m~/opt/anaconda3/lib/python3.9/site-packages/matplotlib/backend_bases.py\u001b[0m in \u001b[0;36mprint_figure\u001b[0;34m(self, filename, dpi, facecolor, edgecolor, orientation, format, bbox_inches, pad_inches, bbox_extra_artists, backend, **kwargs)\u001b[0m\n\u001b[1;32m   2297\u001b[0m             \u001b[0;32mif\u001b[0m \u001b[0mbbox_inches\u001b[0m\u001b[0;34m:\u001b[0m\u001b[0;34m\u001b[0m\u001b[0;34m\u001b[0m\u001b[0m\n\u001b[1;32m   2298\u001b[0m                 \u001b[0;32mif\u001b[0m \u001b[0mbbox_inches\u001b[0m \u001b[0;34m==\u001b[0m \u001b[0;34m\"tight\"\u001b[0m\u001b[0;34m:\u001b[0m\u001b[0;34m\u001b[0m\u001b[0;34m\u001b[0m\u001b[0m\n\u001b[0;32m-> 2299\u001b[0;31m                     bbox_inches = self.figure.get_tightbbox(\n\u001b[0m\u001b[1;32m   2300\u001b[0m                         renderer, bbox_extra_artists=bbox_extra_artists)\n\u001b[1;32m   2301\u001b[0m                     \u001b[0;32mif\u001b[0m \u001b[0mpad_inches\u001b[0m \u001b[0;32mis\u001b[0m \u001b[0;32mNone\u001b[0m\u001b[0;34m:\u001b[0m\u001b[0;34m\u001b[0m\u001b[0;34m\u001b[0m\u001b[0m\n",
      "\u001b[0;32m~/opt/anaconda3/lib/python3.9/site-packages/matplotlib/figure.py\u001b[0m in \u001b[0;36mget_tightbbox\u001b[0;34m(self, renderer, bbox_extra_artists)\u001b[0m\n\u001b[1;32m   1708\u001b[0m                 \u001b[0mbb\u001b[0m \u001b[0;34m=\u001b[0m \u001b[0;34m[\u001b[0m\u001b[0mself\u001b[0m\u001b[0;34m.\u001b[0m\u001b[0mbbox\u001b[0m\u001b[0;34m]\u001b[0m\u001b[0;34m\u001b[0m\u001b[0;34m\u001b[0m\u001b[0m\n\u001b[1;32m   1709\u001b[0m \u001b[0;34m\u001b[0m\u001b[0m\n\u001b[0;32m-> 1710\u001b[0;31m         \u001b[0m_bbox\u001b[0m \u001b[0;34m=\u001b[0m \u001b[0mBbox\u001b[0m\u001b[0;34m.\u001b[0m\u001b[0munion\u001b[0m\u001b[0;34m(\u001b[0m\u001b[0mbb\u001b[0m\u001b[0;34m)\u001b[0m\u001b[0;34m\u001b[0m\u001b[0;34m\u001b[0m\u001b[0m\n\u001b[0m\u001b[1;32m   1711\u001b[0m \u001b[0;34m\u001b[0m\u001b[0m\n\u001b[1;32m   1712\u001b[0m         \u001b[0;32mif\u001b[0m \u001b[0misfigure\u001b[0m\u001b[0;34m:\u001b[0m\u001b[0;34m\u001b[0m\u001b[0;34m\u001b[0m\u001b[0m\n",
      "\u001b[0;32m~/opt/anaconda3/lib/python3.9/site-packages/matplotlib/transforms.py\u001b[0m in \u001b[0;36munion\u001b[0;34m(bboxes)\u001b[0m\n\u001b[1;32m    665\u001b[0m         \u001b[0;32mif\u001b[0m \u001b[0;32mnot\u001b[0m \u001b[0mlen\u001b[0m\u001b[0;34m(\u001b[0m\u001b[0mbboxes\u001b[0m\u001b[0;34m)\u001b[0m\u001b[0;34m:\u001b[0m\u001b[0;34m\u001b[0m\u001b[0;34m\u001b[0m\u001b[0m\n\u001b[1;32m    666\u001b[0m             \u001b[0;32mraise\u001b[0m \u001b[0mValueError\u001b[0m\u001b[0;34m(\u001b[0m\u001b[0;34m\"'bboxes' cannot be empty\"\u001b[0m\u001b[0;34m)\u001b[0m\u001b[0;34m\u001b[0m\u001b[0;34m\u001b[0m\u001b[0m\n\u001b[0;32m--> 667\u001b[0;31m         \u001b[0mx0\u001b[0m \u001b[0;34m=\u001b[0m \u001b[0mnp\u001b[0m\u001b[0;34m.\u001b[0m\u001b[0mmin\u001b[0m\u001b[0;34m(\u001b[0m\u001b[0;34m[\u001b[0m\u001b[0mbbox\u001b[0m\u001b[0;34m.\u001b[0m\u001b[0mxmin\u001b[0m \u001b[0;32mfor\u001b[0m \u001b[0mbbox\u001b[0m \u001b[0;32min\u001b[0m \u001b[0mbboxes\u001b[0m\u001b[0;34m]\u001b[0m\u001b[0;34m)\u001b[0m\u001b[0;34m\u001b[0m\u001b[0;34m\u001b[0m\u001b[0m\n\u001b[0m\u001b[1;32m    668\u001b[0m         \u001b[0mx1\u001b[0m \u001b[0;34m=\u001b[0m \u001b[0mnp\u001b[0m\u001b[0;34m.\u001b[0m\u001b[0mmax\u001b[0m\u001b[0;34m(\u001b[0m\u001b[0;34m[\u001b[0m\u001b[0mbbox\u001b[0m\u001b[0;34m.\u001b[0m\u001b[0mxmax\u001b[0m \u001b[0;32mfor\u001b[0m \u001b[0mbbox\u001b[0m \u001b[0;32min\u001b[0m \u001b[0mbboxes\u001b[0m\u001b[0;34m]\u001b[0m\u001b[0;34m)\u001b[0m\u001b[0;34m\u001b[0m\u001b[0;34m\u001b[0m\u001b[0m\n\u001b[1;32m    669\u001b[0m         \u001b[0my0\u001b[0m \u001b[0;34m=\u001b[0m \u001b[0mnp\u001b[0m\u001b[0;34m.\u001b[0m\u001b[0mmin\u001b[0m\u001b[0;34m(\u001b[0m\u001b[0;34m[\u001b[0m\u001b[0mbbox\u001b[0m\u001b[0;34m.\u001b[0m\u001b[0mymin\u001b[0m \u001b[0;32mfor\u001b[0m \u001b[0mbbox\u001b[0m \u001b[0;32min\u001b[0m \u001b[0mbboxes\u001b[0m\u001b[0;34m]\u001b[0m\u001b[0;34m)\u001b[0m\u001b[0;34m\u001b[0m\u001b[0;34m\u001b[0m\u001b[0m\n",
      "\u001b[0;32m~/opt/anaconda3/lib/python3.9/site-packages/matplotlib/transforms.py\u001b[0m in \u001b[0;36m<listcomp>\u001b[0;34m(.0)\u001b[0m\n\u001b[1;32m    665\u001b[0m         \u001b[0;32mif\u001b[0m \u001b[0;32mnot\u001b[0m \u001b[0mlen\u001b[0m\u001b[0;34m(\u001b[0m\u001b[0mbboxes\u001b[0m\u001b[0;34m)\u001b[0m\u001b[0;34m:\u001b[0m\u001b[0;34m\u001b[0m\u001b[0;34m\u001b[0m\u001b[0m\n\u001b[1;32m    666\u001b[0m             \u001b[0;32mraise\u001b[0m \u001b[0mValueError\u001b[0m\u001b[0;34m(\u001b[0m\u001b[0;34m\"'bboxes' cannot be empty\"\u001b[0m\u001b[0;34m)\u001b[0m\u001b[0;34m\u001b[0m\u001b[0;34m\u001b[0m\u001b[0m\n\u001b[0;32m--> 667\u001b[0;31m         \u001b[0mx0\u001b[0m \u001b[0;34m=\u001b[0m \u001b[0mnp\u001b[0m\u001b[0;34m.\u001b[0m\u001b[0mmin\u001b[0m\u001b[0;34m(\u001b[0m\u001b[0;34m[\u001b[0m\u001b[0mbbox\u001b[0m\u001b[0;34m.\u001b[0m\u001b[0mxmin\u001b[0m \u001b[0;32mfor\u001b[0m \u001b[0mbbox\u001b[0m \u001b[0;32min\u001b[0m \u001b[0mbboxes\u001b[0m\u001b[0;34m]\u001b[0m\u001b[0;34m)\u001b[0m\u001b[0;34m\u001b[0m\u001b[0;34m\u001b[0m\u001b[0m\n\u001b[0m\u001b[1;32m    668\u001b[0m         \u001b[0mx1\u001b[0m \u001b[0;34m=\u001b[0m \u001b[0mnp\u001b[0m\u001b[0;34m.\u001b[0m\u001b[0mmax\u001b[0m\u001b[0;34m(\u001b[0m\u001b[0;34m[\u001b[0m\u001b[0mbbox\u001b[0m\u001b[0;34m.\u001b[0m\u001b[0mxmax\u001b[0m \u001b[0;32mfor\u001b[0m \u001b[0mbbox\u001b[0m \u001b[0;32min\u001b[0m \u001b[0mbboxes\u001b[0m\u001b[0;34m]\u001b[0m\u001b[0;34m)\u001b[0m\u001b[0;34m\u001b[0m\u001b[0;34m\u001b[0m\u001b[0m\n\u001b[1;32m    669\u001b[0m         \u001b[0my0\u001b[0m \u001b[0;34m=\u001b[0m \u001b[0mnp\u001b[0m\u001b[0;34m.\u001b[0m\u001b[0mmin\u001b[0m\u001b[0;34m(\u001b[0m\u001b[0;34m[\u001b[0m\u001b[0mbbox\u001b[0m\u001b[0;34m.\u001b[0m\u001b[0mymin\u001b[0m \u001b[0;32mfor\u001b[0m \u001b[0mbbox\u001b[0m \u001b[0;32min\u001b[0m \u001b[0mbboxes\u001b[0m\u001b[0;34m]\u001b[0m\u001b[0;34m)\u001b[0m\u001b[0;34m\u001b[0m\u001b[0;34m\u001b[0m\u001b[0m\n",
      "\u001b[0;32m~/opt/anaconda3/lib/python3.9/site-packages/matplotlib/transforms.py\u001b[0m in \u001b[0;36mxmin\u001b[0;34m(self)\u001b[0m\n\u001b[1;32m    327\u001b[0m     \u001b[0;32mdef\u001b[0m \u001b[0mxmin\u001b[0m\u001b[0;34m(\u001b[0m\u001b[0mself\u001b[0m\u001b[0;34m)\u001b[0m\u001b[0;34m:\u001b[0m\u001b[0;34m\u001b[0m\u001b[0;34m\u001b[0m\u001b[0m\n\u001b[1;32m    328\u001b[0m         \u001b[0;34m\"\"\"The left edge of the bounding box.\"\"\"\u001b[0m\u001b[0;34m\u001b[0m\u001b[0;34m\u001b[0m\u001b[0m\n\u001b[0;32m--> 329\u001b[0;31m         \u001b[0;32mreturn\u001b[0m \u001b[0mnp\u001b[0m\u001b[0;34m.\u001b[0m\u001b[0mmin\u001b[0m\u001b[0;34m(\u001b[0m\u001b[0mself\u001b[0m\u001b[0;34m.\u001b[0m\u001b[0mget_points\u001b[0m\u001b[0;34m(\u001b[0m\u001b[0;34m)\u001b[0m\u001b[0;34m[\u001b[0m\u001b[0;34m:\u001b[0m\u001b[0;34m,\u001b[0m \u001b[0;36m0\u001b[0m\u001b[0;34m]\u001b[0m\u001b[0;34m)\u001b[0m\u001b[0;34m\u001b[0m\u001b[0;34m\u001b[0m\u001b[0m\n\u001b[0m\u001b[1;32m    330\u001b[0m \u001b[0;34m\u001b[0m\u001b[0m\n\u001b[1;32m    331\u001b[0m     \u001b[0;34m@\u001b[0m\u001b[0mproperty\u001b[0m\u001b[0;34m\u001b[0m\u001b[0;34m\u001b[0m\u001b[0m\n",
      "\u001b[0;32m<__array_function__ internals>\u001b[0m in \u001b[0;36mamin\u001b[0;34m(*args, **kwargs)\u001b[0m\n",
      "\u001b[0;32m~/opt/anaconda3/lib/python3.9/site-packages/numpy/core/fromnumeric.py\u001b[0m in \u001b[0;36mamin\u001b[0;34m(a, axis, out, keepdims, initial, where)\u001b[0m\n\u001b[1;32m   2877\u001b[0m     \u001b[0;36m6\u001b[0m\u001b[0;34m\u001b[0m\u001b[0;34m\u001b[0m\u001b[0m\n\u001b[1;32m   2878\u001b[0m     \"\"\"\n\u001b[0;32m-> 2879\u001b[0;31m     return _wrapreduction(a, np.minimum, 'min', axis, None, out,\n\u001b[0m\u001b[1;32m   2880\u001b[0m                           keepdims=keepdims, initial=initial, where=where)\n\u001b[1;32m   2881\u001b[0m \u001b[0;34m\u001b[0m\u001b[0m\n",
      "\u001b[0;32m~/opt/anaconda3/lib/python3.9/site-packages/numpy/core/fromnumeric.py\u001b[0m in \u001b[0;36m_wrapreduction\u001b[0;34m(obj, ufunc, method, axis, dtype, out, **kwargs)\u001b[0m\n\u001b[1;32m     84\u001b[0m                 \u001b[0;32mreturn\u001b[0m \u001b[0mreduction\u001b[0m\u001b[0;34m(\u001b[0m\u001b[0maxis\u001b[0m\u001b[0;34m=\u001b[0m\u001b[0maxis\u001b[0m\u001b[0;34m,\u001b[0m \u001b[0mout\u001b[0m\u001b[0;34m=\u001b[0m\u001b[0mout\u001b[0m\u001b[0;34m,\u001b[0m \u001b[0;34m**\u001b[0m\u001b[0mpasskwargs\u001b[0m\u001b[0;34m)\u001b[0m\u001b[0;34m\u001b[0m\u001b[0;34m\u001b[0m\u001b[0m\n\u001b[1;32m     85\u001b[0m \u001b[0;34m\u001b[0m\u001b[0m\n\u001b[0;32m---> 86\u001b[0;31m     \u001b[0;32mreturn\u001b[0m \u001b[0mufunc\u001b[0m\u001b[0;34m.\u001b[0m\u001b[0mreduce\u001b[0m\u001b[0;34m(\u001b[0m\u001b[0mobj\u001b[0m\u001b[0;34m,\u001b[0m \u001b[0maxis\u001b[0m\u001b[0;34m,\u001b[0m \u001b[0mdtype\u001b[0m\u001b[0;34m,\u001b[0m \u001b[0mout\u001b[0m\u001b[0;34m,\u001b[0m \u001b[0;34m**\u001b[0m\u001b[0mpasskwargs\u001b[0m\u001b[0;34m)\u001b[0m\u001b[0;34m\u001b[0m\u001b[0;34m\u001b[0m\u001b[0m\n\u001b[0m\u001b[1;32m     87\u001b[0m \u001b[0;34m\u001b[0m\u001b[0m\n\u001b[1;32m     88\u001b[0m \u001b[0;34m\u001b[0m\u001b[0m\n",
      "\u001b[0;31mKeyboardInterrupt\u001b[0m: "
     ]
    }
   ],
   "source": [
    "plt.figure(figsize=(20,20))\n",
    "nx.draw(G0,\n",
    "        with_labels = True,\n",
    "        node_color='deeppink',\n",
    "        node_size=10,\n",
    "        width=0.5,\n",
    "        arrowsize=5,\n",
    "        font_color=\"black\",\n",
    "        font_size=5)"
   ]
  },
  {
   "cell_type": "code",
   "execution_count": null,
   "id": "44f35253",
   "metadata": {},
   "outputs": [],
   "source": []
  }
 ],
 "metadata": {
  "kernelspec": {
   "display_name": "Python 3 (ipykernel)",
   "language": "python",
   "name": "python3"
  },
  "language_info": {
   "codemirror_mode": {
    "name": "ipython",
    "version": 3
   },
   "file_extension": ".py",
   "mimetype": "text/x-python",
   "name": "python",
   "nbconvert_exporter": "python",
   "pygments_lexer": "ipython3",
   "version": "3.9.13"
  }
 },
 "nbformat": 4,
 "nbformat_minor": 5
}
